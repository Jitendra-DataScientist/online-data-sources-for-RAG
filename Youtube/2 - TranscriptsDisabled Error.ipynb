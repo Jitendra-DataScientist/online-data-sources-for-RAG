{
 "cells": [
  {
   "cell_type": "code",
   "execution_count": 7,
   "id": "aa4a8ae6",
   "metadata": {},
   "outputs": [
    {
     "name": "stdout",
     "output_type": "stream",
     "text": [
      "When Queen Elizabeth I took her final breath, the world lost more than just a monarch. It lost a mystery sealed behind red velvet curtains and iron willpower. As her closest advisers sorted through her chambers, they expected the usual jewels, royal decrees, maybe a few private letters. What they found, however, stopped them cold. A letter not addressed, not signed, just sitting there waiting. And whatever was inside made even the stealiest men in the kingdom go silent. Was it a confession, a warning, or something darker? A truth so heavy Elizabeth couldn't bear to speak it aloud in life. To answer that, we have to go back not just a few years, but to the very day Elizabeth entered the world. It was 1533. England was a boiling pot of rumors, rebellion, and royal scandal. At the center of it all, Anne Berlin, Elizabeth's mother, a bold, ambitious woman who had managed the impossible. She stole the king's heart from Catherine of Araggon, a queen who had ruled beside Henry VIII for over two decades. King Henry broke from the Catholic Church just to marry Anne. That's how badly he wanted her. But what he really wanted was a son. And when Anne gave birth to a daughter instead of a male heir, the king's love began to rot. 3 years later, Anne Berlin was accused of adultery and treason, likely falsely, and sentenced to die. May 19th, 1536. Elizabeth, barely a toddler, lost her mother to the executioner's blade. She would never see her again. But you know what's worse? Just 11 days later, Henry remarried. That's all the time it took for Elizabeth's father to move on from his queen, from his grief, from his daughter. The new wife, Jane Seymour, soon gave him what he wanted. A boy named Edward, a prince, an heir, the son he believed was worth breaking a kingdom for and beheading a queen. From that moment on, Elizabeth was no longer the precious daughter of a king. She was a political inconvenience. A girl born into power, stripped of it, then forced to survive the most dangerous court in Europe with nothing but her wit, her will, and eyes that saw everything. And when she finally took the throne, she never forgot the blood it took to get there. In the 16th century, beauty among England's elite was defined by one thing: skin as white as snow. For noble women, this wasn't just a fashion statement. It was a symbol of power, purity, and high birth. The paler the skin, the higher your status, and no one understood this better than Queen Elizabeth I. But fate would strike a cruel blow. In 1562, Elizabeth fell seriously ill. The diagnosis, smallpox, a brutal and disfiguring disease. Though she survived, it left her physically scarred for life. Her once smooth face was pitted with marks, and she suffered severe hair loss. For a queen whose image was everything, whose very power depended on how her people saw her, this was more than a personal tragedy. It was a political threat. To restore the illusion of perfection, Elizabeth turned to makeup. But not just any makeup. Her signature was a thick ghostly white cosmetic known as Venetian Suse. It gave her that eerie porcelain glow we still associate with her today. On the surface, it masked her scars, but beneath it, danger was quietly building. Venetian suse may have sounded exotic and elegant, but it was made from white lead and vinegar, a deadly combination. Elizabeth would apply heavy layers to her face and neck, creating a flawless illusion, but at a terrible cost. The makeup had a sharp, sour smell. And over time, it did more than cover her skin. It poisoned it. And lead wasn't the only threat. Historical records show Elizabeth also used mercurybased products, including lip color and possibly even a makeup remover that could corrode flesh. By today's standards, we know these heavy metals are incredibly toxic. Long-term exposure can lead to hair loss, skin damage, organ failure, and even death. Yet, Elizabeth used these substances daily for decades. As she aged and fought to maintain the image of eternal youth, it's likely she used even more of these deadly cosmetics. Slowly, silently, her body became a vessel for poison. Her beauty, ironically, may have been killing her from the inside out, but poison wasn't the only thing haunting Elizabeth. By602, the queen's health was visibly failing. She withdrew from court life, grew increasingly frail, and slipped into a deep melancholy. Her sadness was more than physical. It was emotional, too. She had outlived nearly all her closest companions. The death of her dear friend Katherine Kerry in early603 devastated her. But one name lingered heavier than any other. Robert Devaroo, the Earl of Essex. He had once been the great love of her later years, but their relationship ended in betrayal. In601, Elizabeth signed his death warrant for treason. Publicly, she remained composed, but privately she was shattered. One courtier wrote that in her final days, the queen often sat in the dark, weeping, mourning Essex's death, perhaps more over her decision than his crime. As the days wore on, Elizabeth refused all medical attention. Whether from pride, fear, or defiance, she wouldn't let anyone examine her. She even refused to lie down, believing that if she did, she would never rise again. For over 15 hours, she stood upright, her ladies in waiting, surrounding her with pillows in case she collapsed. And then on March 24th,603, the Virgin Queen passed away at Richmond Palace. She was 69 years old. Her death marked the end of an era and the end of the great TUDA dynasty. But the story doesn't end there. We remember Elizabeth as the Virgin Queen, a ruler who famously declared herself married to England. But behind that title was a complex, emotional woman with a heart that had been both full and broken. In her youth, Elizabeth was magnetic with striking red hair, a graceful figure, and a sharp intellect. She lit up every ballroom. Men were drawn to her like moths to flame. Kings and princes proposed marriage. Philip II of Spain, Eric of Sweden, and others. She entertained their offers but never accepted. And yet her life was far from loveless. The first great name in her story of romance was Robert Dudley, her childhood friend, her confidant, and many believe her first true love. From the moment she became queen, rumors of their relationship swirled. Dudley was married, but his connection to Elizabeth was impossible to ignore. She granted him privileges no other man enjoyed, including access to her private chambers at any hour. The world speculated, the court whispered, but Elizabeth never married him or anyone. Perhaps she feared becoming a porn like her mother, Anne Berlin. Perhaps her heart was broken one too many times. Or perhaps England truly was the only partner she ever trusted. In 1560, a tragic event shook the English court. Robert Dudley's wife, Amy Robsart, was found dead at the bottom of a staircase. Her neck was broken. Officially, it was ruled an accident, but the whispers began immediately. Had she fallen or had she been pushed? The rumors were vicious. Some believed that Dudley or even Queen Elizabeth herself had arranged Amy's death to clear the way for marriage, but no marriage followed. Despite the scandal, Elizabeth and Dudley remained close for years. Still, she never once publicly considered marrying him. Why? Perhaps she knew the damage it would do to her image. Or maybe she feared losing her independence. Even with many suitors to come, some say Robert Dudley was Elizabeth's first and only true love. But hearts can shift and court life never stays still. In 1578, Dudley remarried. The Queen was furious, but she moved on, at least outwardly. By 1579, a new man entered her life. Francois, Duke of Anju, younger brother of the king of France. He was introduced as a serious marriage prospect. There was just one problem or several. Francois was about 20 years old while Elizabeth was now well into her 40s. He was short, had a pockmarked face from smallpox, and rumors swirled about his unusual behavior and personal tastes. Still, Elizabeth appeared genuinely taken with him. She even named her pet frog after him, an oddly tender gesture for a queen. Despite public mockery and fierce opposition from her court, Francois returned to England in 1581 and to Elizabeth's delight. What happened next shocked everyone. She publicly announced her intention to marry him. They exchanged rings in front of the court and her affection was clear for all to see. But by the next day, she changed her mind. The engagement was off and with it the last hope the court had that Elizabeth would ever marry. From then on any romances she entertained never ended in wedding bells, only titles and rumors. And then came the most dramatic love story of her life. Robert Dearoo, the Earl of Essex, Dudley's own stepson, was only 22 when he caught the Queen's eye in 1589. Elizabeth was 56. The age gap was wide, but Essex was young, dashing, clever, and full of charm. Whatever the nature of their relationship, it stirred intense passion. When Essex secretly married Francis Walssingham the next year, Elizabeth was livid. She screamed. She raged. and Essex, desperate to win her back, turned to poetry, writing verses that praised her beauty and tried to mend her wounded pride. Despite everything, Elizabeth brought him back into favor and even into government affairs. From 1591 on, she gave him military responsibilities, but Essex was reckless, brilliant in some moments, disastrous in others. He exploited the queen's favor, swinging between bold ambition and childish arrogance. Once during a heated argument in 1597, Elizabeth slapped him across the face and shouted, \"Go and be hanged.\" Yet even then, she couldn't fully let go. In 1599, she appointed him Lord Lieutenant of Ireland, sending him to suppress a major rebellion. He led 16,000 troops, one of the largest forces ever sent to Ireland, but failed miserably. Poor strategy and negotiation led to an embarrassing truce with the rebel leader, the Earl of Tyrone. It was a political disaster. Then Essex made a fatal mistake. On September 28th, 1599, he burst into the queen's private chambers, unannounced and still in his dirty riding boots. Elizabeth had just woken up. She wasn't wearing her wig, her jewels, or even her signature makeup. No man had ever seen her like this, not as the majestic queen, but as an old, frail woman. It was a deep violation of royal protocol and of trust. She had him arrested and stripped of his titles. Though he was eventually released, he didn't learn his lesson. In February6001, in a final act of desperation, Essex attempted a coup. He planned to seize control of London, storm the tower, and force Elizabeth to name him her successor and protector. It was a spectacular failure. The rebellion collapsed within hours. This time, Elizabeth's patience ran out. On February 24th,601, Essex was found guilty of treason and sentenced to death. When asked if she wished to show mercy, Elizabeth responded with a chilling clarity. All that he has done against myself, I can pardon, but I cannot pardon anyone who attempts to harm England. She signed his death warrant. The next morning, Robert Devo was beheaded outside the palace. It was a brutal end to her most intense and final romance. Looking back, one question lingers. Why did Queen Elizabeth never marry? She had admirers, lovers, and political suitors. She clearly wasn't indifferent to romance, and yet she chose solitude. Why? Some say she feared losing power. Others believe she couldn't trust marriage after watching her mother, Anne Berlin, be executed by her father. Maybe, just maybe, she believed that by marrying no man, she could belong to all of England. When Elizabeth died in 16003, she left no heir. With her, the great Tuda dynasty came to an end. Her successor was King James V 6th of Scotland, who became James Ist of England, uniting the two kingdoms under one crown for the first time. Her 45-year reign is remembered as a golden age, a time of peace, progress, and power. Shakespeare wrote his greatest plays. The English Navy crushed the Spanish Armada. Art, culture, and exploration flourished. She had given England what her father, Henry VIII, had longed for, stability, and glory. In the end, Elizabeth's greatest legacy wasn't a husband or an heir. It was England itself. And in a way, that's exactly what she always wanted. Henry VIII tried to erase Anne Berlin from history. But fate had other plans. Her daughter rose from the shadow of scandal and execution to become one of the greatest monarchs England ever knew. Elizabeth didn't just survive. She reigned. And in doing so, she fulfilled her mother's legacy, building an empire on the very sacrifice that had once doomed her family. But now, let's return to that final moment. The queen was gone. The Virgin Queen, the monarch who ruled alone for 45 years, had passed. And in the silence that followed, her advisers discovered a sealed letter, one written in Elizabeth's own hand. What they read inside chilled them to the bone. Could it have been a confession, a secret she had carried for decades, finally laid bare? Was it a final testament? A warning about England's future or something far darker? Could it have been the horrifying truth of how the white paints and powders she wore for decades had poisoned her slowly from the inside? And this was what truly made their blood run cold, was the letter about the one thing Elizabeth had always refused to speak of, the succession. She had never publicly named an heir. But had she done so in private in this letter, was there something in those pages that could have changed everything? What do you think was written in that final message? Was it a revelation or a farewell? Let us know your theory in the comments below. And if you love strange, mysterious, and powerful stories from history, don't forget to like, subscribe, and turn on notifications. We have so much more to uncover. Thanks for watching and until next time, remember history always has secrets. It's just waiting for us to find [Music]\n"
     ]
    }
   ],
   "source": [
    "from youtube_transcript_api import YouTubeTranscriptApi\n",
    "\n",
    "video_id = 'DeRGMoybqb8'  # Replace with the actual video ID\n",
    "transcript = YouTubeTranscriptApi.get_transcript(video_id)\n",
    "\n",
    "# Combine transcript segments into a single string\n",
    "full_transcript = ' '.join([entry['text'] for entry in transcript])\n",
    "print(full_transcript)\n"
   ]
  },
  {
   "cell_type": "code",
   "execution_count": 9,
   "id": "04691673",
   "metadata": {},
   "outputs": [
    {
     "name": "stdout",
     "output_type": "stream",
     "text": [
      "When Queen Elizabeth I took her final breath, the world lost more than just a monarch. It lost a mystery sealed behind red velvet curtains and iron willpower. As her closest advisers sorted through her chambers, they expected the usual jewels, royal decrees, maybe a few private letters. What they found, however, stopped them cold. A letter not addressed, not signed, just sitting there waiting. And whatever was inside made even the stealiest men in the kingdom go silent. Was it a confession, a warning, or something darker? A truth so heavy Elizabeth couldn't bear to speak it aloud in life. To answer that, we have to go back not just a few years, but to the very day Elizabeth entered the world. It was 1533. England was a boiling pot of rumors, rebellion, and royal scandal. At the center of it all, Anne Berlin, Elizabeth's mother, a bold, ambitious woman who had managed the impossible. She stole the king's heart from Catherine of Araggon, a queen who had ruled beside Henry VIII for over two decades. King Henry broke from the Catholic Church just to marry Anne. That's how badly he wanted her. But what he really wanted was a son. And when Anne gave birth to a daughter instead of a male heir, the king's love began to rot. 3 years later, Anne Berlin was accused of adultery and treason, likely falsely, and sentenced to die. May 19th, 1536. Elizabeth, barely a toddler, lost her mother to the executioner's blade. She would never see her again. But you know what's worse? Just 11 days later, Henry remarried. That's all the time it took for Elizabeth's father to move on from his queen, from his grief, from his daughter. The new wife, Jane Seymour, soon gave him what he wanted. A boy named Edward, a prince, an heir, the son he believed was worth breaking a kingdom for and beheading a queen. From that moment on, Elizabeth was no longer the precious daughter of a king. She was a political inconvenience. A girl born into power, stripped of it, then forced to survive the most dangerous court in Europe with nothing but her wit, her will, and eyes that saw everything. And when she finally took the throne, she never forgot the blood it took to get there. In the 16th century, beauty among England's elite was defined by one thing: skin as white as snow. For noble women, this wasn't just a fashion statement. It was a symbol of power, purity, and high birth. The paler the skin, the higher your status, and no one understood this better than Queen Elizabeth I. But fate would strike a cruel blow. In 1562, Elizabeth fell seriously ill. The diagnosis, smallpox, a brutal and disfiguring disease. Though she survived, it left her physically scarred for life. Her once smooth face was pitted with marks, and she suffered severe hair loss. For a queen whose image was everything, whose very power depended on how her people saw her, this was more than a personal tragedy. It was a political threat. To restore the illusion of perfection, Elizabeth turned to makeup. But not just any makeup. Her signature was a thick ghostly white cosmetic known as Venetian Suse. It gave her that eerie porcelain glow we still associate with her today. On the surface, it masked her scars, but beneath it, danger was quietly building. Venetian suse may have sounded exotic and elegant, but it was made from white lead and vinegar, a deadly combination. Elizabeth would apply heavy layers to her face and neck, creating a flawless illusion, but at a terrible cost. The makeup had a sharp, sour smell. And over time, it did more than cover her skin. It poisoned it. And lead wasn't the only threat. Historical records show Elizabeth also used mercurybased products, including lip color and possibly even a makeup remover that could corrode flesh. By today's standards, we know these heavy metals are incredibly toxic. Long-term exposure can lead to hair loss, skin damage, organ failure, and even death. Yet, Elizabeth used these substances daily for decades. As she aged and fought to maintain the image of eternal youth, it's likely she used even more of these deadly cosmetics. Slowly, silently, her body became a vessel for poison. Her beauty, ironically, may have been killing her from the inside out, but poison wasn't the only thing haunting Elizabeth. By602, the queen's health was visibly failing. She withdrew from court life, grew increasingly frail, and slipped into a deep melancholy. Her sadness was more than physical. It was emotional, too. She had outlived nearly all her closest companions. The death of her dear friend Katherine Kerry in early603 devastated her. But one name lingered heavier than any other. Robert Devaroo, the Earl of Essex. He had once been the great love of her later years, but their relationship ended in betrayal. In601, Elizabeth signed his death warrant for treason. Publicly, she remained composed, but privately she was shattered. One courtier wrote that in her final days, the queen often sat in the dark, weeping, mourning Essex's death, perhaps more over her decision than his crime. As the days wore on, Elizabeth refused all medical attention. Whether from pride, fear, or defiance, she wouldn't let anyone examine her. She even refused to lie down, believing that if she did, she would never rise again. For over 15 hours, she stood upright, her ladies in waiting, surrounding her with pillows in case she collapsed. And then on March 24th,603, the Virgin Queen passed away at Richmond Palace. She was 69 years old. Her death marked the end of an era and the end of the great TUDA dynasty. But the story doesn't end there. We remember Elizabeth as the Virgin Queen, a ruler who famously declared herself married to England. But behind that title was a complex, emotional woman with a heart that had been both full and broken. In her youth, Elizabeth was magnetic with striking red hair, a graceful figure, and a sharp intellect. She lit up every ballroom. Men were drawn to her like moths to flame. Kings and princes proposed marriage. Philip II of Spain, Eric of Sweden, and others. She entertained their offers but never accepted. And yet her life was far from loveless. The first great name in her story of romance was Robert Dudley, her childhood friend, her confidant, and many believe her first true love. From the moment she became queen, rumors of their relationship swirled. Dudley was married, but his connection to Elizabeth was impossible to ignore. She granted him privileges no other man enjoyed, including access to her private chambers at any hour. The world speculated, the court whispered, but Elizabeth never married him or anyone. Perhaps she feared becoming a porn like her mother, Anne Berlin. Perhaps her heart was broken one too many times. Or perhaps England truly was the only partner she ever trusted. In 1560, a tragic event shook the English court. Robert Dudley's wife, Amy Robsart, was found dead at the bottom of a staircase. Her neck was broken. Officially, it was ruled an accident, but the whispers began immediately. Had she fallen or had she been pushed? The rumors were vicious. Some believed that Dudley or even Queen Elizabeth herself had arranged Amy's death to clear the way for marriage, but no marriage followed. Despite the scandal, Elizabeth and Dudley remained close for years. Still, she never once publicly considered marrying him. Why? Perhaps she knew the damage it would do to her image. Or maybe she feared losing her independence. Even with many suitors to come, some say Robert Dudley was Elizabeth's first and only true love. But hearts can shift and court life never stays still. In 1578, Dudley remarried. The Queen was furious, but she moved on, at least outwardly. By 1579, a new man entered her life. Francois, Duke of Anju, younger brother of the king of France. He was introduced as a serious marriage prospect. There was just one problem or several. Francois was about 20 years old while Elizabeth was now well into her 40s. He was short, had a pockmarked face from smallpox, and rumors swirled about his unusual behavior and personal tastes. Still, Elizabeth appeared genuinely taken with him. She even named her pet frog after him, an oddly tender gesture for a queen. Despite public mockery and fierce opposition from her court, Francois returned to England in 1581 and to Elizabeth's delight. What happened next shocked everyone. She publicly announced her intention to marry him. They exchanged rings in front of the court and her affection was clear for all to see. But by the next day, she changed her mind. The engagement was off and with it the last hope the court had that Elizabeth would ever marry. From then on any romances she entertained never ended in wedding bells, only titles and rumors. And then came the most dramatic love story of her life. Robert Dearoo, the Earl of Essex, Dudley's own stepson, was only 22 when he caught the Queen's eye in 1589. Elizabeth was 56. The age gap was wide, but Essex was young, dashing, clever, and full of charm. Whatever the nature of their relationship, it stirred intense passion. When Essex secretly married Francis Walssingham the next year, Elizabeth was livid. She screamed. She raged. and Essex, desperate to win her back, turned to poetry, writing verses that praised her beauty and tried to mend her wounded pride. Despite everything, Elizabeth brought him back into favor and even into government affairs. From 1591 on, she gave him military responsibilities, but Essex was reckless, brilliant in some moments, disastrous in others. He exploited the queen's favor, swinging between bold ambition and childish arrogance. Once during a heated argument in 1597, Elizabeth slapped him across the face and shouted, \"Go and be hanged.\" Yet even then, she couldn't fully let go. In 1599, she appointed him Lord Lieutenant of Ireland, sending him to suppress a major rebellion. He led 16,000 troops, one of the largest forces ever sent to Ireland, but failed miserably. Poor strategy and negotiation led to an embarrassing truce with the rebel leader, the Earl of Tyrone. It was a political disaster. Then Essex made a fatal mistake. On September 28th, 1599, he burst into the queen's private chambers, unannounced and still in his dirty riding boots. Elizabeth had just woken up. She wasn't wearing her wig, her jewels, or even her signature makeup. No man had ever seen her like this, not as the majestic queen, but as an old, frail woman. It was a deep violation of royal protocol and of trust. She had him arrested and stripped of his titles. Though he was eventually released, he didn't learn his lesson. In February6001, in a final act of desperation, Essex attempted a coup. He planned to seize control of London, storm the tower, and force Elizabeth to name him her successor and protector. It was a spectacular failure. The rebellion collapsed within hours. This time, Elizabeth's patience ran out. On February 24th,601, Essex was found guilty of treason and sentenced to death. When asked if she wished to show mercy, Elizabeth responded with a chilling clarity. All that he has done against myself, I can pardon, but I cannot pardon anyone who attempts to harm England. She signed his death warrant. The next morning, Robert Devo was beheaded outside the palace. It was a brutal end to her most intense and final romance. Looking back, one question lingers. Why did Queen Elizabeth never marry? She had admirers, lovers, and political suitors. She clearly wasn't indifferent to romance, and yet she chose solitude. Why? Some say she feared losing power. Others believe she couldn't trust marriage after watching her mother, Anne Berlin, be executed by her father. Maybe, just maybe, she believed that by marrying no man, she could belong to all of England. When Elizabeth died in 16003, she left no heir. With her, the great Tuda dynasty came to an end. Her successor was King James V 6th of Scotland, who became James Ist of England, uniting the two kingdoms under one crown for the first time. Her 45-year reign is remembered as a golden age, a time of peace, progress, and power. Shakespeare wrote his greatest plays. The English Navy crushed the Spanish Armada. Art, culture, and exploration flourished. She had given England what her father, Henry VIII, had longed for, stability, and glory. In the end, Elizabeth's greatest legacy wasn't a husband or an heir. It was England itself. And in a way, that's exactly what she always wanted. Henry VIII tried to erase Anne Berlin from history. But fate had other plans. Her daughter rose from the shadow of scandal and execution to become one of the greatest monarchs England ever knew. Elizabeth didn't just survive. She reigned. And in doing so, she fulfilled her mother's legacy, building an empire on the very sacrifice that had once doomed her family. But now, let's return to that final moment. The queen was gone. The Virgin Queen, the monarch who ruled alone for 45 years, had passed. And in the silence that followed, her advisers discovered a sealed letter, one written in Elizabeth's own hand. What they read inside chilled them to the bone. Could it have been a confession, a secret she had carried for decades, finally laid bare? Was it a final testament? A warning about England's future or something far darker? Could it have been the horrifying truth of how the white paints and powders she wore for decades had poisoned her slowly from the inside? And this was what truly made their blood run cold, was the letter about the one thing Elizabeth had always refused to speak of, the succession. She had never publicly named an heir. But had she done so in private in this letter, was there something in those pages that could have changed everything? What do you think was written in that final message? Was it a revelation or a farewell? Let us know your theory in the comments below. And if you love strange, mysterious, and powerful stories from history, don't forget to like, subscribe, and turn on notifications. We have so much more to uncover. Thanks for watching and until next time, remember history always has secrets. It's just waiting for us to find [Music]\n"
     ]
    }
   ],
   "source": [
    "## Handling Different Languages\n",
    "\n",
    "transcript = YouTubeTranscriptApi.get_transcript(video_id, languages=['en'])\n",
    "# print(transcript)\n",
    "\n",
    "# Combine transcript segments into a single string\n",
    "full_transcript = ' '.join([entry['text'] for entry in transcript])\n",
    "print(full_transcript)\n"
   ]
  },
  {
   "cell_type": "code",
   "execution_count": 10,
   "id": "4bea0fbf",
   "metadata": {},
   "outputs": [
    {
     "data": {
      "text/plain": [
       "'When Queen Elizabeth I took her final breath, the world lost more than just a monarch. It lost a mystery sealed behind red velvet curtains and iron willpower. As her closest advisers sorted through her chambers, they expected the usual jewels, royal decrees, maybe a few private letters. What they found, however, stopped them cold. A letter not addressed, not signed, just sitting there waiting. And whatever was inside made even the stealiest men in the kingdom go silent. Was it a confession, a warning, or something darker? A truth so heavy Elizabeth couldn\\'t bear to speak it aloud in life. To answer that, we have to go back not just a few years, but to the very day Elizabeth entered the world. It was 1533. England was a boiling pot of rumors, rebellion, and royal scandal. At the center of it all, Anne Berlin, Elizabeth\\'s mother, a bold, ambitious woman who had managed the impossible. She stole the king\\'s heart from Catherine of Araggon, a queen who had ruled beside Henry VIII for over two decades. King Henry broke from the Catholic Church just to marry Anne. That\\'s how badly he wanted her. But what he really wanted was a son. And when Anne gave birth to a daughter instead of a male heir, the king\\'s love began to rot. 3 years later, Anne Berlin was accused of adultery and treason, likely falsely, and sentenced to die. May 19th, 1536. Elizabeth, barely a toddler, lost her mother to the executioner\\'s blade. She would never see her again. But you know what\\'s worse? Just 11 days later, Henry remarried. That\\'s all the time it took for Elizabeth\\'s father to move on from his queen, from his grief, from his daughter. The new wife, Jane Seymour, soon gave him what he wanted. A boy named Edward, a prince, an heir, the son he believed was worth breaking a kingdom for and beheading a queen. From that moment on, Elizabeth was no longer the precious daughter of a king. She was a political inconvenience. A girl born into power, stripped of it, then forced to survive the most dangerous court in Europe with nothing but her wit, her will, and eyes that saw everything. And when she finally took the throne, she never forgot the blood it took to get there. In the 16th century, beauty among England\\'s elite was defined by one thing: skin as white as snow. For noble women, this wasn\\'t just a fashion statement. It was a symbol of power, purity, and high birth. The paler the skin, the higher your status, and no one understood this better than Queen Elizabeth I. But fate would strike a cruel blow. In 1562, Elizabeth fell seriously ill. The diagnosis, smallpox, a brutal and disfiguring disease. Though she survived, it left her physically scarred for life. Her once smooth face was pitted with marks, and she suffered severe hair loss. For a queen whose image was everything, whose very power depended on how her people saw her, this was more than a personal tragedy. It was a political threat. To restore the illusion of perfection, Elizabeth turned to makeup. But not just any makeup. Her signature was a thick ghostly white cosmetic known as Venetian Suse. It gave her that eerie porcelain glow we still associate with her today. On the surface, it masked her scars, but beneath it, danger was quietly building. Venetian suse may have sounded exotic and elegant, but it was made from white lead and vinegar, a deadly combination. Elizabeth would apply heavy layers to her face and neck, creating a flawless illusion, but at a terrible cost. The makeup had a sharp, sour smell. And over time, it did more than cover her skin. It poisoned it. And lead wasn\\'t the only threat. Historical records show Elizabeth also used mercurybased products, including lip color and possibly even a makeup remover that could corrode flesh. By today\\'s standards, we know these heavy metals are incredibly toxic. Long-term exposure can lead to hair loss, skin damage, organ failure, and even death. Yet, Elizabeth used these substances daily for decades. As she aged and fought to maintain the image of eternal youth, it\\'s likely she used even more of these deadly cosmetics. Slowly, silently, her body became a vessel for poison. Her beauty, ironically, may have been killing her from the inside out, but poison wasn\\'t the only thing haunting Elizabeth. By602, the queen\\'s health was visibly failing. She withdrew from court life, grew increasingly frail, and slipped into a deep melancholy. Her sadness was more than physical. It was emotional, too. She had outlived nearly all her closest companions. The death of her dear friend Katherine Kerry in early603 devastated her. But one name lingered heavier than any other. Robert Devaroo, the Earl of Essex. He had once been the great love of her later years, but their relationship ended in betrayal. In601, Elizabeth signed his death warrant for treason. Publicly, she remained composed, but privately she was shattered. One courtier wrote that in her final days, the queen often sat in the dark, weeping, mourning Essex\\'s death, perhaps more over her decision than his crime. As the days wore on, Elizabeth refused all medical attention. Whether from pride, fear, or defiance, she wouldn\\'t let anyone examine her. She even refused to lie down, believing that if she did, she would never rise again. For over 15 hours, she stood upright, her ladies in waiting, surrounding her with pillows in case she collapsed. And then on March 24th,603, the Virgin Queen passed away at Richmond Palace. She was 69 years old. Her death marked the end of an era and the end of the great TUDA dynasty. But the story doesn\\'t end there. We remember Elizabeth as the Virgin Queen, a ruler who famously declared herself married to England. But behind that title was a complex, emotional woman with a heart that had been both full and broken. In her youth, Elizabeth was magnetic with striking red hair, a graceful figure, and a sharp intellect. She lit up every ballroom. Men were drawn to her like moths to flame. Kings and princes proposed marriage. Philip II of Spain, Eric of Sweden, and others. She entertained their offers but never accepted. And yet her life was far from loveless. The first great name in her story of romance was Robert Dudley, her childhood friend, her confidant, and many believe her first true love. From the moment she became queen, rumors of their relationship swirled. Dudley was married, but his connection to Elizabeth was impossible to ignore. She granted him privileges no other man enjoyed, including access to her private chambers at any hour. The world speculated, the court whispered, but Elizabeth never married him or anyone. Perhaps she feared becoming a porn like her mother, Anne Berlin. Perhaps her heart was broken one too many times. Or perhaps England truly was the only partner she ever trusted. In 1560, a tragic event shook the English court. Robert Dudley\\'s wife, Amy Robsart, was found dead at the bottom of a staircase. Her neck was broken. Officially, it was ruled an accident, but the whispers began immediately. Had she fallen or had she been pushed? The rumors were vicious. Some believed that Dudley or even Queen Elizabeth herself had arranged Amy\\'s death to clear the way for marriage, but no marriage followed. Despite the scandal, Elizabeth and Dudley remained close for years. Still, she never once publicly considered marrying him. Why? Perhaps she knew the damage it would do to her image. Or maybe she feared losing her independence. Even with many suitors to come, some say Robert Dudley was Elizabeth\\'s first and only true love. But hearts can shift and court life never stays still. In 1578, Dudley remarried. The Queen was furious, but she moved on, at least outwardly. By 1579, a new man entered her life. Francois, Duke of Anju, younger brother of the king of France. He was introduced as a serious marriage prospect. There was just one problem or several. Francois was about 20 years old while Elizabeth was now well into her 40s. He was short, had a pockmarked face from smallpox, and rumors swirled about his unusual behavior and personal tastes. Still, Elizabeth appeared genuinely taken with him. She even named her pet frog after him, an oddly tender gesture for a queen. Despite public mockery and fierce opposition from her court, Francois returned to England in 1581 and to Elizabeth\\'s delight. What happened next shocked everyone. She publicly announced her intention to marry him. They exchanged rings in front of the court and her affection was clear for all to see. But by the next day, she changed her mind. The engagement was off and with it the last hope the court had that Elizabeth would ever marry. From then on any romances she entertained never ended in wedding bells, only titles and rumors. And then came the most dramatic love story of her life. Robert Dearoo, the Earl of Essex, Dudley\\'s own stepson, was only 22 when he caught the Queen\\'s eye in 1589. Elizabeth was 56. The age gap was wide, but Essex was young, dashing, clever, and full of charm. Whatever the nature of their relationship, it stirred intense passion. When Essex secretly married Francis Walssingham the next year, Elizabeth was livid. She screamed. She raged. and Essex, desperate to win her back, turned to poetry, writing verses that praised her beauty and tried to mend her wounded pride. Despite everything, Elizabeth brought him back into favor and even into government affairs. From 1591 on, she gave him military responsibilities, but Essex was reckless, brilliant in some moments, disastrous in others. He exploited the queen\\'s favor, swinging between bold ambition and childish arrogance. Once during a heated argument in 1597, Elizabeth slapped him across the face and shouted, \"Go and be hanged.\" Yet even then, she couldn\\'t fully let go. In 1599, she appointed him Lord Lieutenant of Ireland, sending him to suppress a major rebellion. He led 16,000 troops, one of the largest forces ever sent to Ireland, but failed miserably. Poor strategy and negotiation led to an embarrassing truce with the rebel leader, the Earl of Tyrone. It was a political disaster. Then Essex made a fatal mistake. On September 28th, 1599, he burst into the queen\\'s private chambers, unannounced and still in his dirty riding boots. Elizabeth had just woken up. She wasn\\'t wearing her wig, her jewels, or even her signature makeup. No man had ever seen her like this, not as the majestic queen, but as an old, frail woman. It was a deep violation of royal protocol and of trust. She had him arrested and stripped of his titles. Though he was eventually released, he didn\\'t learn his lesson. In February6001, in a final act of desperation, Essex attempted a coup. He planned to seize control of London, storm the tower, and force Elizabeth to name him her successor and protector. It was a spectacular failure. The rebellion collapsed within hours. This time, Elizabeth\\'s patience ran out. On February 24th,601, Essex was found guilty of treason and sentenced to death. When asked if she wished to show mercy, Elizabeth responded with a chilling clarity. All that he has done against myself, I can pardon, but I cannot pardon anyone who attempts to harm England. She signed his death warrant. The next morning, Robert Devo was beheaded outside the palace. It was a brutal end to her most intense and final romance. Looking back, one question lingers. Why did Queen Elizabeth never marry? She had admirers, lovers, and political suitors. She clearly wasn\\'t indifferent to romance, and yet she chose solitude. Why? Some say she feared losing power. Others believe she couldn\\'t trust marriage after watching her mother, Anne Berlin, be executed by her father. Maybe, just maybe, she believed that by marrying no man, she could belong to all of England. When Elizabeth died in 16003, she left no heir. With her, the great Tuda dynasty came to an end. Her successor was King James V 6th of Scotland, who became James Ist of England, uniting the two kingdoms under one crown for the first time. Her 45-year reign is remembered as a golden age, a time of peace, progress, and power. Shakespeare wrote his greatest plays. The English Navy crushed the Spanish Armada. Art, culture, and exploration flourished. She had given England what her father, Henry VIII, had longed for, stability, and glory. In the end, Elizabeth\\'s greatest legacy wasn\\'t a husband or an heir. It was England itself. And in a way, that\\'s exactly what she always wanted. Henry VIII tried to erase Anne Berlin from history. But fate had other plans. Her daughter rose from the shadow of scandal and execution to become one of the greatest monarchs England ever knew. Elizabeth didn\\'t just survive. She reigned. And in doing so, she fulfilled her mother\\'s legacy, building an empire on the very sacrifice that had once doomed her family. But now, let\\'s return to that final moment. The queen was gone. The Virgin Queen, the monarch who ruled alone for 45 years, had passed. And in the silence that followed, her advisers discovered a sealed letter, one written in Elizabeth\\'s own hand. What they read inside chilled them to the bone. Could it have been a confession, a secret she had carried for decades, finally laid bare? Was it a final testament? A warning about England\\'s future or something far darker? Could it have been the horrifying truth of how the white paints and powders she wore for decades had poisoned her slowly from the inside? And this was what truly made their blood run cold, was the letter about the one thing Elizabeth had always refused to speak of, the succession. She had never publicly named an heir. But had she done so in private in this letter, was there something in those pages that could have changed everything? What do you think was written in that final message? Was it a revelation or a farewell? Let us know your theory in the comments below. And if you love strange, mysterious, and powerful stories from history, don\\'t forget to like, subscribe, and turn on notifications. We have so much more to uncover. Thanks for watching and until next time, remember history always has secrets. It\\'s just waiting for us to find [Music]'"
      ]
     },
     "execution_count": 10,
     "metadata": {},
     "output_type": "execute_result"
    }
   ],
   "source": [
    "from youtube_transcript_api import YouTubeTranscriptApi\n",
    "from langchain_core.documents import Document\n",
    "\n",
    "# Replace with your desired YouTube video ID\n",
    "video_id = \"DeRGMoybqb8\"\n",
    "\n",
    "# Fetch the transcript\n",
    "transcript = YouTubeTranscriptApi.get_transcript(video_id)\n",
    "\n",
    "# Combine transcript segments into a single string\n",
    "full_transcript = \" \".join([entry[\"text\"] for entry in transcript])\n",
    "\n",
    "# Create a LangChain Document\n",
    "document = Document(page_content=full_transcript, metadata={\"source\": f\"https://www.youtube.com/watch?v={video_id}\"})\n",
    "\n",
    "# Now you can use 'document' in your RAG pipeline\n",
    "document.page_content"
   ]
  },
  {
   "cell_type": "code",
   "execution_count": null,
   "id": "132b536a",
   "metadata": {},
   "outputs": [],
   "source": []
  },
  {
   "cell_type": "code",
   "execution_count": null,
   "id": "6b00676c",
   "metadata": {},
   "outputs": [],
   "source": []
  },
  {
   "cell_type": "code",
   "execution_count": null,
   "id": "f385b64d",
   "metadata": {},
   "outputs": [],
   "source": []
  },
  {
   "cell_type": "code",
   "execution_count": null,
   "id": "48fedbb7",
   "metadata": {},
   "outputs": [],
   "source": []
  },
  {
   "cell_type": "code",
   "execution_count": null,
   "id": "766c2c9e",
   "metadata": {},
   "outputs": [],
   "source": []
  },
  {
   "cell_type": "code",
   "execution_count": 2,
   "id": "bb6276ac",
   "metadata": {
    "scrolled": true
   },
   "outputs": [
    {
     "ename": "TranscriptsDisabled",
     "evalue": "\nCould not retrieve a transcript for the video https://www.youtube.com/watch?v=BR_3moh6h9Y! This is most likely caused by:\n\nSubtitles are disabled for this video\n\nIf you are sure that the described cause is not responsible for this error and that a transcript should be retrievable, please create an issue at https://github.com/jdepoix/youtube-transcript-api/issues. Please add which version of youtube_transcript_api you are using and provide the information needed to replicate the error. Also make sure that there are no open issues which already describe your problem!",
     "output_type": "error",
     "traceback": [
      "\u001b[1;31m---------------------------------------------------------------------------\u001b[0m",
      "\u001b[1;31mTranscriptsDisabled\u001b[0m                       Traceback (most recent call last)",
      "Cell \u001b[1;32mIn[2], line 4\u001b[0m\n\u001b[0;32m      1\u001b[0m \u001b[38;5;28;01mfrom\u001b[39;00m \u001b[38;5;21;01myoutube_transcript_api\u001b[39;00m \u001b[38;5;28;01mimport\u001b[39;00m YouTubeTranscriptApi\n\u001b[0;32m      3\u001b[0m video_id \u001b[38;5;241m=\u001b[39m \u001b[38;5;124m'\u001b[39m\u001b[38;5;124mBR_3moh6h9Y\u001b[39m\u001b[38;5;124m'\u001b[39m  \u001b[38;5;66;03m# Replace with the actual video ID\u001b[39;00m\n\u001b[1;32m----> 4\u001b[0m transcript \u001b[38;5;241m=\u001b[39m YouTubeTranscriptApi\u001b[38;5;241m.\u001b[39mget_transcript(video_id)\n\u001b[0;32m      6\u001b[0m \u001b[38;5;66;03m# Combine transcript segments into a single string\u001b[39;00m\n\u001b[0;32m      7\u001b[0m full_transcript \u001b[38;5;241m=\u001b[39m \u001b[38;5;124m'\u001b[39m\u001b[38;5;124m \u001b[39m\u001b[38;5;124m'\u001b[39m\u001b[38;5;241m.\u001b[39mjoin([entry[\u001b[38;5;124m'\u001b[39m\u001b[38;5;124mtext\u001b[39m\u001b[38;5;124m'\u001b[39m] \u001b[38;5;28;01mfor\u001b[39;00m entry \u001b[38;5;129;01min\u001b[39;00m transcript])\n",
      "File \u001b[1;32m~\\anaconda3\\Lib\\site-packages\\youtube_transcript_api\\_api.py:306\u001b[0m, in \u001b[0;36mYouTubeTranscriptApi.get_transcript\u001b[1;34m(cls, video_id, languages, proxies, cookies, preserve_formatting)\u001b[0m\n\u001b[0;32m    298\u001b[0m warnings\u001b[38;5;241m.\u001b[39mwarn(\n\u001b[0;32m    299\u001b[0m     \u001b[38;5;124m\"\u001b[39m\u001b[38;5;124m`get_transcript` is deprecated and will be removed in a future version. \u001b[39m\u001b[38;5;124m\"\u001b[39m\n\u001b[0;32m    300\u001b[0m     \u001b[38;5;124m\"\u001b[39m\u001b[38;5;124mUse the `fetch` method instead!\u001b[39m\u001b[38;5;124m\"\u001b[39m,\n\u001b[0;32m    301\u001b[0m     \u001b[38;5;167;01mDeprecationWarning\u001b[39;00m,\n\u001b[0;32m    302\u001b[0m )\n\u001b[0;32m    304\u001b[0m \u001b[38;5;28;01massert\u001b[39;00m \u001b[38;5;28misinstance\u001b[39m(video_id, \u001b[38;5;28mstr\u001b[39m), \u001b[38;5;124m\"\u001b[39m\u001b[38;5;124m`video_id` must be a string\u001b[39m\u001b[38;5;124m\"\u001b[39m\n\u001b[0;32m    305\u001b[0m \u001b[38;5;28;01mreturn\u001b[39;00m (\n\u001b[1;32m--> 306\u001b[0m     \u001b[38;5;28mcls\u001b[39m\u001b[38;5;241m.\u001b[39mlist_transcripts(video_id, proxies, cookies)\n\u001b[0;32m    307\u001b[0m     \u001b[38;5;241m.\u001b[39mfind_transcript(languages)\n\u001b[0;32m    308\u001b[0m     \u001b[38;5;241m.\u001b[39mfetch(preserve_formatting\u001b[38;5;241m=\u001b[39mpreserve_formatting)\n\u001b[0;32m    309\u001b[0m     \u001b[38;5;241m.\u001b[39mto_raw_data()\n\u001b[0;32m    310\u001b[0m )\n",
      "File \u001b[1;32m~\\anaconda3\\Lib\\site-packages\\youtube_transcript_api\\_api.py:207\u001b[0m, in \u001b[0;36mYouTubeTranscriptApi.list_transcripts\u001b[1;34m(cls, video_id, proxies, cookies)\u001b[0m\n\u001b[0;32m    199\u001b[0m         proxy_config \u001b[38;5;241m=\u001b[39m GenericProxyConfig(\n\u001b[0;32m    200\u001b[0m             http_url\u001b[38;5;241m=\u001b[39mproxies\u001b[38;5;241m.\u001b[39mget(\u001b[38;5;124m\"\u001b[39m\u001b[38;5;124mhttp\u001b[39m\u001b[38;5;124m\"\u001b[39m), https_url\u001b[38;5;241m=\u001b[39mproxies\u001b[38;5;241m.\u001b[39mget(\u001b[38;5;124m\"\u001b[39m\u001b[38;5;124mhttps\u001b[39m\u001b[38;5;124m\"\u001b[39m)\n\u001b[0;32m    201\u001b[0m         )\n\u001b[0;32m    203\u001b[0m ytt_api \u001b[38;5;241m=\u001b[39m YouTubeTranscriptApi(\n\u001b[0;32m    204\u001b[0m     proxy_config\u001b[38;5;241m=\u001b[39mproxy_config,\n\u001b[0;32m    205\u001b[0m     cookie_path\u001b[38;5;241m=\u001b[39mPath(cookies) \u001b[38;5;28;01mif\u001b[39;00m cookies \u001b[38;5;28;01melse\u001b[39;00m \u001b[38;5;28;01mNone\u001b[39;00m,\n\u001b[0;32m    206\u001b[0m )\n\u001b[1;32m--> 207\u001b[0m \u001b[38;5;28;01mreturn\u001b[39;00m ytt_api\u001b[38;5;241m.\u001b[39mlist(video_id)\n",
      "File \u001b[1;32m~\\anaconda3\\Lib\\site-packages\\youtube_transcript_api\\_api.py:135\u001b[0m, in \u001b[0;36mYouTubeTranscriptApi.list\u001b[1;34m(self, video_id)\u001b[0m\n\u001b[0;32m     84\u001b[0m \u001b[38;5;28;01mdef\u001b[39;00m \u001b[38;5;21mlist\u001b[39m(\n\u001b[0;32m     85\u001b[0m     \u001b[38;5;28mself\u001b[39m,\n\u001b[0;32m     86\u001b[0m     video_id: \u001b[38;5;28mstr\u001b[39m,\n\u001b[0;32m     87\u001b[0m ) \u001b[38;5;241m-\u001b[39m\u001b[38;5;241m>\u001b[39m TranscriptList:\n\u001b[0;32m     88\u001b[0m \u001b[38;5;250m    \u001b[39m\u001b[38;5;124;03m\"\"\"\u001b[39;00m\n\u001b[0;32m     89\u001b[0m \u001b[38;5;124;03m    Retrieves the list of transcripts which are available for a given video. It\u001b[39;00m\n\u001b[0;32m     90\u001b[0m \u001b[38;5;124;03m    returns a `TranscriptList` object which is iterable and provides methods to\u001b[39;00m\n\u001b[1;32m   (...)\u001b[0m\n\u001b[0;32m    133\u001b[0m \u001b[38;5;124;03m        Make sure that this is the actual ID, NOT the full URL to the video!\u001b[39;00m\n\u001b[0;32m    134\u001b[0m \u001b[38;5;124;03m    \"\"\"\u001b[39;00m\n\u001b[1;32m--> 135\u001b[0m     \u001b[38;5;28;01mreturn\u001b[39;00m \u001b[38;5;28mself\u001b[39m\u001b[38;5;241m.\u001b[39m_fetcher\u001b[38;5;241m.\u001b[39mfetch(video_id)\n",
      "File \u001b[1;32m~\\anaconda3\\Lib\\site-packages\\youtube_transcript_api\\_transcripts.py:352\u001b[0m, in \u001b[0;36mTranscriptListFetcher.fetch\u001b[1;34m(self, video_id)\u001b[0m\n\u001b[0;32m    348\u001b[0m \u001b[38;5;28;01mdef\u001b[39;00m \u001b[38;5;21mfetch\u001b[39m(\u001b[38;5;28mself\u001b[39m, video_id: \u001b[38;5;28mstr\u001b[39m) \u001b[38;5;241m-\u001b[39m\u001b[38;5;241m>\u001b[39m TranscriptList:\n\u001b[0;32m    349\u001b[0m     \u001b[38;5;28;01mreturn\u001b[39;00m TranscriptList\u001b[38;5;241m.\u001b[39mbuild(\n\u001b[0;32m    350\u001b[0m         \u001b[38;5;28mself\u001b[39m\u001b[38;5;241m.\u001b[39m_http_client,\n\u001b[0;32m    351\u001b[0m         video_id,\n\u001b[1;32m--> 352\u001b[0m         \u001b[38;5;28mself\u001b[39m\u001b[38;5;241m.\u001b[39m_fetch_captions_json(video_id),\n\u001b[0;32m    353\u001b[0m     )\n",
      "File \u001b[1;32m~\\anaconda3\\Lib\\site-packages\\youtube_transcript_api\\_transcripts.py:357\u001b[0m, in \u001b[0;36mTranscriptListFetcher._fetch_captions_json\u001b[1;34m(self, video_id, try_number)\u001b[0m\n\u001b[0;32m    355\u001b[0m \u001b[38;5;28;01mdef\u001b[39;00m \u001b[38;5;21m_fetch_captions_json\u001b[39m(\u001b[38;5;28mself\u001b[39m, video_id: \u001b[38;5;28mstr\u001b[39m, try_number: \u001b[38;5;28mint\u001b[39m \u001b[38;5;241m=\u001b[39m \u001b[38;5;241m0\u001b[39m) \u001b[38;5;241m-\u001b[39m\u001b[38;5;241m>\u001b[39m Dict:\n\u001b[0;32m    356\u001b[0m     \u001b[38;5;28;01mtry\u001b[39;00m:\n\u001b[1;32m--> 357\u001b[0m         \u001b[38;5;28;01mreturn\u001b[39;00m \u001b[38;5;28mself\u001b[39m\u001b[38;5;241m.\u001b[39m_extract_captions_json(\n\u001b[0;32m    358\u001b[0m             \u001b[38;5;28mself\u001b[39m\u001b[38;5;241m.\u001b[39m_fetch_video_html(video_id), video_id\n\u001b[0;32m    359\u001b[0m         )\n\u001b[0;32m    360\u001b[0m     \u001b[38;5;28;01mexcept\u001b[39;00m RequestBlocked \u001b[38;5;28;01mas\u001b[39;00m exception:\n\u001b[0;32m    361\u001b[0m         retries \u001b[38;5;241m=\u001b[39m (\n\u001b[0;32m    362\u001b[0m             \u001b[38;5;241m0\u001b[39m\n\u001b[0;32m    363\u001b[0m             \u001b[38;5;28;01mif\u001b[39;00m \u001b[38;5;28mself\u001b[39m\u001b[38;5;241m.\u001b[39m_proxy_config \u001b[38;5;129;01mis\u001b[39;00m \u001b[38;5;28;01mNone\u001b[39;00m\n\u001b[0;32m    364\u001b[0m             \u001b[38;5;28;01melse\u001b[39;00m \u001b[38;5;28mself\u001b[39m\u001b[38;5;241m.\u001b[39m_proxy_config\u001b[38;5;241m.\u001b[39mretries_when_blocked\n\u001b[0;32m    365\u001b[0m         )\n",
      "File \u001b[1;32m~\\anaconda3\\Lib\\site-packages\\youtube_transcript_api\\_transcripts.py:386\u001b[0m, in \u001b[0;36mTranscriptListFetcher._extract_captions_json\u001b[1;34m(self, html, video_id)\u001b[0m\n\u001b[0;32m    382\u001b[0m captions_json \u001b[38;5;241m=\u001b[39m video_data\u001b[38;5;241m.\u001b[39mget(\u001b[38;5;124m\"\u001b[39m\u001b[38;5;124mcaptions\u001b[39m\u001b[38;5;124m\"\u001b[39m, {})\u001b[38;5;241m.\u001b[39mget(\n\u001b[0;32m    383\u001b[0m     \u001b[38;5;124m\"\u001b[39m\u001b[38;5;124mplayerCaptionsTracklistRenderer\u001b[39m\u001b[38;5;124m\"\u001b[39m\n\u001b[0;32m    384\u001b[0m )\n\u001b[0;32m    385\u001b[0m \u001b[38;5;28;01mif\u001b[39;00m captions_json \u001b[38;5;129;01mis\u001b[39;00m \u001b[38;5;28;01mNone\u001b[39;00m \u001b[38;5;129;01mor\u001b[39;00m \u001b[38;5;124m\"\u001b[39m\u001b[38;5;124mcaptionTracks\u001b[39m\u001b[38;5;124m\"\u001b[39m \u001b[38;5;129;01mnot\u001b[39;00m \u001b[38;5;129;01min\u001b[39;00m captions_json:\n\u001b[1;32m--> 386\u001b[0m     \u001b[38;5;28;01mraise\u001b[39;00m TranscriptsDisabled(video_id)\n\u001b[0;32m    388\u001b[0m \u001b[38;5;28;01mreturn\u001b[39;00m captions_json\n",
      "\u001b[1;31mTranscriptsDisabled\u001b[0m: \nCould not retrieve a transcript for the video https://www.youtube.com/watch?v=BR_3moh6h9Y! This is most likely caused by:\n\nSubtitles are disabled for this video\n\nIf you are sure that the described cause is not responsible for this error and that a transcript should be retrievable, please create an issue at https://github.com/jdepoix/youtube-transcript-api/issues. Please add which version of youtube_transcript_api you are using and provide the information needed to replicate the error. Also make sure that there are no open issues which already describe your problem!"
     ]
    }
   ],
   "source": [
    "from youtube_transcript_api import YouTubeTranscriptApi\n",
    "\n",
    "video_id = 'BR_3moh6h9Y'  # Replace with the actual video ID\n",
    "transcript = YouTubeTranscriptApi.get_transcript(video_id)\n",
    "\n",
    "# Combine transcript segments into a single string\n",
    "full_transcript = ' '.join([entry['text'] for entry in transcript])\n",
    "print(full_transcript)\n"
   ]
  },
  {
   "cell_type": "code",
   "execution_count": 4,
   "id": "0a065840",
   "metadata": {
    "scrolled": true
   },
   "outputs": [
    {
     "ename": "TranscriptsDisabled",
     "evalue": "\nCould not retrieve a transcript for the video https://www.youtube.com/watch?v=BR_3moh6h9Y! This is most likely caused by:\n\nSubtitles are disabled for this video\n\nIf you are sure that the described cause is not responsible for this error and that a transcript should be retrievable, please create an issue at https://github.com/jdepoix/youtube-transcript-api/issues. Please add which version of youtube_transcript_api you are using and provide the information needed to replicate the error. Also make sure that there are no open issues which already describe your problem!",
     "output_type": "error",
     "traceback": [
      "\u001b[1;31m---------------------------------------------------------------------------\u001b[0m",
      "\u001b[1;31mTranscriptsDisabled\u001b[0m                       Traceback (most recent call last)",
      "Cell \u001b[1;32mIn[4], line 3\u001b[0m\n\u001b[0;32m      1\u001b[0m \u001b[38;5;66;03m## Handling Different Languages\u001b[39;00m\n\u001b[1;32m----> 3\u001b[0m transcript \u001b[38;5;241m=\u001b[39m YouTubeTranscriptApi\u001b[38;5;241m.\u001b[39mget_transcript(video_id, languages\u001b[38;5;241m=\u001b[39m[\u001b[38;5;124m'\u001b[39m\u001b[38;5;124men\u001b[39m\u001b[38;5;124m'\u001b[39m])\n\u001b[0;32m      4\u001b[0m \u001b[38;5;66;03m# print(transcript)\u001b[39;00m\n\u001b[0;32m      5\u001b[0m \n\u001b[0;32m      6\u001b[0m \u001b[38;5;66;03m# Combine transcript segments into a single string\u001b[39;00m\n\u001b[0;32m      7\u001b[0m full_transcript \u001b[38;5;241m=\u001b[39m \u001b[38;5;124m'\u001b[39m\u001b[38;5;124m \u001b[39m\u001b[38;5;124m'\u001b[39m\u001b[38;5;241m.\u001b[39mjoin([entry[\u001b[38;5;124m'\u001b[39m\u001b[38;5;124mtext\u001b[39m\u001b[38;5;124m'\u001b[39m] \u001b[38;5;28;01mfor\u001b[39;00m entry \u001b[38;5;129;01min\u001b[39;00m transcript])\n",
      "File \u001b[1;32m~\\anaconda3\\Lib\\site-packages\\youtube_transcript_api\\_api.py:306\u001b[0m, in \u001b[0;36mYouTubeTranscriptApi.get_transcript\u001b[1;34m(cls, video_id, languages, proxies, cookies, preserve_formatting)\u001b[0m\n\u001b[0;32m    298\u001b[0m warnings\u001b[38;5;241m.\u001b[39mwarn(\n\u001b[0;32m    299\u001b[0m     \u001b[38;5;124m\"\u001b[39m\u001b[38;5;124m`get_transcript` is deprecated and will be removed in a future version. \u001b[39m\u001b[38;5;124m\"\u001b[39m\n\u001b[0;32m    300\u001b[0m     \u001b[38;5;124m\"\u001b[39m\u001b[38;5;124mUse the `fetch` method instead!\u001b[39m\u001b[38;5;124m\"\u001b[39m,\n\u001b[0;32m    301\u001b[0m     \u001b[38;5;167;01mDeprecationWarning\u001b[39;00m,\n\u001b[0;32m    302\u001b[0m )\n\u001b[0;32m    304\u001b[0m \u001b[38;5;28;01massert\u001b[39;00m \u001b[38;5;28misinstance\u001b[39m(video_id, \u001b[38;5;28mstr\u001b[39m), \u001b[38;5;124m\"\u001b[39m\u001b[38;5;124m`video_id` must be a string\u001b[39m\u001b[38;5;124m\"\u001b[39m\n\u001b[0;32m    305\u001b[0m \u001b[38;5;28;01mreturn\u001b[39;00m (\n\u001b[1;32m--> 306\u001b[0m     \u001b[38;5;28mcls\u001b[39m\u001b[38;5;241m.\u001b[39mlist_transcripts(video_id, proxies, cookies)\n\u001b[0;32m    307\u001b[0m     \u001b[38;5;241m.\u001b[39mfind_transcript(languages)\n\u001b[0;32m    308\u001b[0m     \u001b[38;5;241m.\u001b[39mfetch(preserve_formatting\u001b[38;5;241m=\u001b[39mpreserve_formatting)\n\u001b[0;32m    309\u001b[0m     \u001b[38;5;241m.\u001b[39mto_raw_data()\n\u001b[0;32m    310\u001b[0m )\n",
      "File \u001b[1;32m~\\anaconda3\\Lib\\site-packages\\youtube_transcript_api\\_api.py:207\u001b[0m, in \u001b[0;36mYouTubeTranscriptApi.list_transcripts\u001b[1;34m(cls, video_id, proxies, cookies)\u001b[0m\n\u001b[0;32m    199\u001b[0m         proxy_config \u001b[38;5;241m=\u001b[39m GenericProxyConfig(\n\u001b[0;32m    200\u001b[0m             http_url\u001b[38;5;241m=\u001b[39mproxies\u001b[38;5;241m.\u001b[39mget(\u001b[38;5;124m\"\u001b[39m\u001b[38;5;124mhttp\u001b[39m\u001b[38;5;124m\"\u001b[39m), https_url\u001b[38;5;241m=\u001b[39mproxies\u001b[38;5;241m.\u001b[39mget(\u001b[38;5;124m\"\u001b[39m\u001b[38;5;124mhttps\u001b[39m\u001b[38;5;124m\"\u001b[39m)\n\u001b[0;32m    201\u001b[0m         )\n\u001b[0;32m    203\u001b[0m ytt_api \u001b[38;5;241m=\u001b[39m YouTubeTranscriptApi(\n\u001b[0;32m    204\u001b[0m     proxy_config\u001b[38;5;241m=\u001b[39mproxy_config,\n\u001b[0;32m    205\u001b[0m     cookie_path\u001b[38;5;241m=\u001b[39mPath(cookies) \u001b[38;5;28;01mif\u001b[39;00m cookies \u001b[38;5;28;01melse\u001b[39;00m \u001b[38;5;28;01mNone\u001b[39;00m,\n\u001b[0;32m    206\u001b[0m )\n\u001b[1;32m--> 207\u001b[0m \u001b[38;5;28;01mreturn\u001b[39;00m ytt_api\u001b[38;5;241m.\u001b[39mlist(video_id)\n",
      "File \u001b[1;32m~\\anaconda3\\Lib\\site-packages\\youtube_transcript_api\\_api.py:135\u001b[0m, in \u001b[0;36mYouTubeTranscriptApi.list\u001b[1;34m(self, video_id)\u001b[0m\n\u001b[0;32m     84\u001b[0m \u001b[38;5;28;01mdef\u001b[39;00m \u001b[38;5;21mlist\u001b[39m(\n\u001b[0;32m     85\u001b[0m     \u001b[38;5;28mself\u001b[39m,\n\u001b[0;32m     86\u001b[0m     video_id: \u001b[38;5;28mstr\u001b[39m,\n\u001b[0;32m     87\u001b[0m ) \u001b[38;5;241m-\u001b[39m\u001b[38;5;241m>\u001b[39m TranscriptList:\n\u001b[0;32m     88\u001b[0m \u001b[38;5;250m    \u001b[39m\u001b[38;5;124;03m\"\"\"\u001b[39;00m\n\u001b[0;32m     89\u001b[0m \u001b[38;5;124;03m    Retrieves the list of transcripts which are available for a given video. It\u001b[39;00m\n\u001b[0;32m     90\u001b[0m \u001b[38;5;124;03m    returns a `TranscriptList` object which is iterable and provides methods to\u001b[39;00m\n\u001b[1;32m   (...)\u001b[0m\n\u001b[0;32m    133\u001b[0m \u001b[38;5;124;03m        Make sure that this is the actual ID, NOT the full URL to the video!\u001b[39;00m\n\u001b[0;32m    134\u001b[0m \u001b[38;5;124;03m    \"\"\"\u001b[39;00m\n\u001b[1;32m--> 135\u001b[0m     \u001b[38;5;28;01mreturn\u001b[39;00m \u001b[38;5;28mself\u001b[39m\u001b[38;5;241m.\u001b[39m_fetcher\u001b[38;5;241m.\u001b[39mfetch(video_id)\n",
      "File \u001b[1;32m~\\anaconda3\\Lib\\site-packages\\youtube_transcript_api\\_transcripts.py:352\u001b[0m, in \u001b[0;36mTranscriptListFetcher.fetch\u001b[1;34m(self, video_id)\u001b[0m\n\u001b[0;32m    348\u001b[0m \u001b[38;5;28;01mdef\u001b[39;00m \u001b[38;5;21mfetch\u001b[39m(\u001b[38;5;28mself\u001b[39m, video_id: \u001b[38;5;28mstr\u001b[39m) \u001b[38;5;241m-\u001b[39m\u001b[38;5;241m>\u001b[39m TranscriptList:\n\u001b[0;32m    349\u001b[0m     \u001b[38;5;28;01mreturn\u001b[39;00m TranscriptList\u001b[38;5;241m.\u001b[39mbuild(\n\u001b[0;32m    350\u001b[0m         \u001b[38;5;28mself\u001b[39m\u001b[38;5;241m.\u001b[39m_http_client,\n\u001b[0;32m    351\u001b[0m         video_id,\n\u001b[1;32m--> 352\u001b[0m         \u001b[38;5;28mself\u001b[39m\u001b[38;5;241m.\u001b[39m_fetch_captions_json(video_id),\n\u001b[0;32m    353\u001b[0m     )\n",
      "File \u001b[1;32m~\\anaconda3\\Lib\\site-packages\\youtube_transcript_api\\_transcripts.py:357\u001b[0m, in \u001b[0;36mTranscriptListFetcher._fetch_captions_json\u001b[1;34m(self, video_id, try_number)\u001b[0m\n\u001b[0;32m    355\u001b[0m \u001b[38;5;28;01mdef\u001b[39;00m \u001b[38;5;21m_fetch_captions_json\u001b[39m(\u001b[38;5;28mself\u001b[39m, video_id: \u001b[38;5;28mstr\u001b[39m, try_number: \u001b[38;5;28mint\u001b[39m \u001b[38;5;241m=\u001b[39m \u001b[38;5;241m0\u001b[39m) \u001b[38;5;241m-\u001b[39m\u001b[38;5;241m>\u001b[39m Dict:\n\u001b[0;32m    356\u001b[0m     \u001b[38;5;28;01mtry\u001b[39;00m:\n\u001b[1;32m--> 357\u001b[0m         \u001b[38;5;28;01mreturn\u001b[39;00m \u001b[38;5;28mself\u001b[39m\u001b[38;5;241m.\u001b[39m_extract_captions_json(\n\u001b[0;32m    358\u001b[0m             \u001b[38;5;28mself\u001b[39m\u001b[38;5;241m.\u001b[39m_fetch_video_html(video_id), video_id\n\u001b[0;32m    359\u001b[0m         )\n\u001b[0;32m    360\u001b[0m     \u001b[38;5;28;01mexcept\u001b[39;00m RequestBlocked \u001b[38;5;28;01mas\u001b[39;00m exception:\n\u001b[0;32m    361\u001b[0m         retries \u001b[38;5;241m=\u001b[39m (\n\u001b[0;32m    362\u001b[0m             \u001b[38;5;241m0\u001b[39m\n\u001b[0;32m    363\u001b[0m             \u001b[38;5;28;01mif\u001b[39;00m \u001b[38;5;28mself\u001b[39m\u001b[38;5;241m.\u001b[39m_proxy_config \u001b[38;5;129;01mis\u001b[39;00m \u001b[38;5;28;01mNone\u001b[39;00m\n\u001b[0;32m    364\u001b[0m             \u001b[38;5;28;01melse\u001b[39;00m \u001b[38;5;28mself\u001b[39m\u001b[38;5;241m.\u001b[39m_proxy_config\u001b[38;5;241m.\u001b[39mretries_when_blocked\n\u001b[0;32m    365\u001b[0m         )\n",
      "File \u001b[1;32m~\\anaconda3\\Lib\\site-packages\\youtube_transcript_api\\_transcripts.py:386\u001b[0m, in \u001b[0;36mTranscriptListFetcher._extract_captions_json\u001b[1;34m(self, html, video_id)\u001b[0m\n\u001b[0;32m    382\u001b[0m captions_json \u001b[38;5;241m=\u001b[39m video_data\u001b[38;5;241m.\u001b[39mget(\u001b[38;5;124m\"\u001b[39m\u001b[38;5;124mcaptions\u001b[39m\u001b[38;5;124m\"\u001b[39m, {})\u001b[38;5;241m.\u001b[39mget(\n\u001b[0;32m    383\u001b[0m     \u001b[38;5;124m\"\u001b[39m\u001b[38;5;124mplayerCaptionsTracklistRenderer\u001b[39m\u001b[38;5;124m\"\u001b[39m\n\u001b[0;32m    384\u001b[0m )\n\u001b[0;32m    385\u001b[0m \u001b[38;5;28;01mif\u001b[39;00m captions_json \u001b[38;5;129;01mis\u001b[39;00m \u001b[38;5;28;01mNone\u001b[39;00m \u001b[38;5;129;01mor\u001b[39;00m \u001b[38;5;124m\"\u001b[39m\u001b[38;5;124mcaptionTracks\u001b[39m\u001b[38;5;124m\"\u001b[39m \u001b[38;5;129;01mnot\u001b[39;00m \u001b[38;5;129;01min\u001b[39;00m captions_json:\n\u001b[1;32m--> 386\u001b[0m     \u001b[38;5;28;01mraise\u001b[39;00m TranscriptsDisabled(video_id)\n\u001b[0;32m    388\u001b[0m \u001b[38;5;28;01mreturn\u001b[39;00m captions_json\n",
      "\u001b[1;31mTranscriptsDisabled\u001b[0m: \nCould not retrieve a transcript for the video https://www.youtube.com/watch?v=BR_3moh6h9Y! This is most likely caused by:\n\nSubtitles are disabled for this video\n\nIf you are sure that the described cause is not responsible for this error and that a transcript should be retrievable, please create an issue at https://github.com/jdepoix/youtube-transcript-api/issues. Please add which version of youtube_transcript_api you are using and provide the information needed to replicate the error. Also make sure that there are no open issues which already describe your problem!"
     ]
    }
   ],
   "source": [
    "## Handling Different Languages\n",
    "\n",
    "transcript = YouTubeTranscriptApi.get_transcript(video_id, languages=['en'])\n",
    "# print(transcript)\n",
    "\n",
    "# Combine transcript segments into a single string\n",
    "full_transcript = ' '.join([entry['text'] for entry in transcript])\n",
    "print(full_transcript)\n"
   ]
  },
  {
   "cell_type": "code",
   "execution_count": 3,
   "id": "5c4a5d83",
   "metadata": {
    "scrolled": true
   },
   "outputs": [
    {
     "ename": "TranscriptsDisabled",
     "evalue": "\nCould not retrieve a transcript for the video https://www.youtube.com/watch?v=BR_3moh6h9Y! This is most likely caused by:\n\nSubtitles are disabled for this video\n\nIf you are sure that the described cause is not responsible for this error and that a transcript should be retrievable, please create an issue at https://github.com/jdepoix/youtube-transcript-api/issues. Please add which version of youtube_transcript_api you are using and provide the information needed to replicate the error. Also make sure that there are no open issues which already describe your problem!",
     "output_type": "error",
     "traceback": [
      "\u001b[1;31m---------------------------------------------------------------------------\u001b[0m",
      "\u001b[1;31mTranscriptsDisabled\u001b[0m                       Traceback (most recent call last)",
      "Cell \u001b[1;32mIn[3], line 8\u001b[0m\n\u001b[0;32m      5\u001b[0m video_id \u001b[38;5;241m=\u001b[39m \u001b[38;5;124m\"\u001b[39m\u001b[38;5;124mBR_3moh6h9Y\u001b[39m\u001b[38;5;124m\"\u001b[39m\n\u001b[0;32m      7\u001b[0m \u001b[38;5;66;03m# Fetch the transcript\u001b[39;00m\n\u001b[1;32m----> 8\u001b[0m transcript \u001b[38;5;241m=\u001b[39m YouTubeTranscriptApi\u001b[38;5;241m.\u001b[39mget_transcript(video_id)\n\u001b[0;32m     10\u001b[0m \u001b[38;5;66;03m# Combine transcript segments into a single string\u001b[39;00m\n\u001b[0;32m     11\u001b[0m full_transcript \u001b[38;5;241m=\u001b[39m \u001b[38;5;124m\"\u001b[39m\u001b[38;5;124m \u001b[39m\u001b[38;5;124m\"\u001b[39m\u001b[38;5;241m.\u001b[39mjoin([entry[\u001b[38;5;124m\"\u001b[39m\u001b[38;5;124mtext\u001b[39m\u001b[38;5;124m\"\u001b[39m] \u001b[38;5;28;01mfor\u001b[39;00m entry \u001b[38;5;129;01min\u001b[39;00m transcript])\n",
      "File \u001b[1;32m~\\anaconda3\\Lib\\site-packages\\youtube_transcript_api\\_api.py:306\u001b[0m, in \u001b[0;36mYouTubeTranscriptApi.get_transcript\u001b[1;34m(cls, video_id, languages, proxies, cookies, preserve_formatting)\u001b[0m\n\u001b[0;32m    298\u001b[0m warnings\u001b[38;5;241m.\u001b[39mwarn(\n\u001b[0;32m    299\u001b[0m     \u001b[38;5;124m\"\u001b[39m\u001b[38;5;124m`get_transcript` is deprecated and will be removed in a future version. \u001b[39m\u001b[38;5;124m\"\u001b[39m\n\u001b[0;32m    300\u001b[0m     \u001b[38;5;124m\"\u001b[39m\u001b[38;5;124mUse the `fetch` method instead!\u001b[39m\u001b[38;5;124m\"\u001b[39m,\n\u001b[0;32m    301\u001b[0m     \u001b[38;5;167;01mDeprecationWarning\u001b[39;00m,\n\u001b[0;32m    302\u001b[0m )\n\u001b[0;32m    304\u001b[0m \u001b[38;5;28;01massert\u001b[39;00m \u001b[38;5;28misinstance\u001b[39m(video_id, \u001b[38;5;28mstr\u001b[39m), \u001b[38;5;124m\"\u001b[39m\u001b[38;5;124m`video_id` must be a string\u001b[39m\u001b[38;5;124m\"\u001b[39m\n\u001b[0;32m    305\u001b[0m \u001b[38;5;28;01mreturn\u001b[39;00m (\n\u001b[1;32m--> 306\u001b[0m     \u001b[38;5;28mcls\u001b[39m\u001b[38;5;241m.\u001b[39mlist_transcripts(video_id, proxies, cookies)\n\u001b[0;32m    307\u001b[0m     \u001b[38;5;241m.\u001b[39mfind_transcript(languages)\n\u001b[0;32m    308\u001b[0m     \u001b[38;5;241m.\u001b[39mfetch(preserve_formatting\u001b[38;5;241m=\u001b[39mpreserve_formatting)\n\u001b[0;32m    309\u001b[0m     \u001b[38;5;241m.\u001b[39mto_raw_data()\n\u001b[0;32m    310\u001b[0m )\n",
      "File \u001b[1;32m~\\anaconda3\\Lib\\site-packages\\youtube_transcript_api\\_api.py:207\u001b[0m, in \u001b[0;36mYouTubeTranscriptApi.list_transcripts\u001b[1;34m(cls, video_id, proxies, cookies)\u001b[0m\n\u001b[0;32m    199\u001b[0m         proxy_config \u001b[38;5;241m=\u001b[39m GenericProxyConfig(\n\u001b[0;32m    200\u001b[0m             http_url\u001b[38;5;241m=\u001b[39mproxies\u001b[38;5;241m.\u001b[39mget(\u001b[38;5;124m\"\u001b[39m\u001b[38;5;124mhttp\u001b[39m\u001b[38;5;124m\"\u001b[39m), https_url\u001b[38;5;241m=\u001b[39mproxies\u001b[38;5;241m.\u001b[39mget(\u001b[38;5;124m\"\u001b[39m\u001b[38;5;124mhttps\u001b[39m\u001b[38;5;124m\"\u001b[39m)\n\u001b[0;32m    201\u001b[0m         )\n\u001b[0;32m    203\u001b[0m ytt_api \u001b[38;5;241m=\u001b[39m YouTubeTranscriptApi(\n\u001b[0;32m    204\u001b[0m     proxy_config\u001b[38;5;241m=\u001b[39mproxy_config,\n\u001b[0;32m    205\u001b[0m     cookie_path\u001b[38;5;241m=\u001b[39mPath(cookies) \u001b[38;5;28;01mif\u001b[39;00m cookies \u001b[38;5;28;01melse\u001b[39;00m \u001b[38;5;28;01mNone\u001b[39;00m,\n\u001b[0;32m    206\u001b[0m )\n\u001b[1;32m--> 207\u001b[0m \u001b[38;5;28;01mreturn\u001b[39;00m ytt_api\u001b[38;5;241m.\u001b[39mlist(video_id)\n",
      "File \u001b[1;32m~\\anaconda3\\Lib\\site-packages\\youtube_transcript_api\\_api.py:135\u001b[0m, in \u001b[0;36mYouTubeTranscriptApi.list\u001b[1;34m(self, video_id)\u001b[0m\n\u001b[0;32m     84\u001b[0m \u001b[38;5;28;01mdef\u001b[39;00m \u001b[38;5;21mlist\u001b[39m(\n\u001b[0;32m     85\u001b[0m     \u001b[38;5;28mself\u001b[39m,\n\u001b[0;32m     86\u001b[0m     video_id: \u001b[38;5;28mstr\u001b[39m,\n\u001b[0;32m     87\u001b[0m ) \u001b[38;5;241m-\u001b[39m\u001b[38;5;241m>\u001b[39m TranscriptList:\n\u001b[0;32m     88\u001b[0m \u001b[38;5;250m    \u001b[39m\u001b[38;5;124;03m\"\"\"\u001b[39;00m\n\u001b[0;32m     89\u001b[0m \u001b[38;5;124;03m    Retrieves the list of transcripts which are available for a given video. It\u001b[39;00m\n\u001b[0;32m     90\u001b[0m \u001b[38;5;124;03m    returns a `TranscriptList` object which is iterable and provides methods to\u001b[39;00m\n\u001b[1;32m   (...)\u001b[0m\n\u001b[0;32m    133\u001b[0m \u001b[38;5;124;03m        Make sure that this is the actual ID, NOT the full URL to the video!\u001b[39;00m\n\u001b[0;32m    134\u001b[0m \u001b[38;5;124;03m    \"\"\"\u001b[39;00m\n\u001b[1;32m--> 135\u001b[0m     \u001b[38;5;28;01mreturn\u001b[39;00m \u001b[38;5;28mself\u001b[39m\u001b[38;5;241m.\u001b[39m_fetcher\u001b[38;5;241m.\u001b[39mfetch(video_id)\n",
      "File \u001b[1;32m~\\anaconda3\\Lib\\site-packages\\youtube_transcript_api\\_transcripts.py:352\u001b[0m, in \u001b[0;36mTranscriptListFetcher.fetch\u001b[1;34m(self, video_id)\u001b[0m\n\u001b[0;32m    348\u001b[0m \u001b[38;5;28;01mdef\u001b[39;00m \u001b[38;5;21mfetch\u001b[39m(\u001b[38;5;28mself\u001b[39m, video_id: \u001b[38;5;28mstr\u001b[39m) \u001b[38;5;241m-\u001b[39m\u001b[38;5;241m>\u001b[39m TranscriptList:\n\u001b[0;32m    349\u001b[0m     \u001b[38;5;28;01mreturn\u001b[39;00m TranscriptList\u001b[38;5;241m.\u001b[39mbuild(\n\u001b[0;32m    350\u001b[0m         \u001b[38;5;28mself\u001b[39m\u001b[38;5;241m.\u001b[39m_http_client,\n\u001b[0;32m    351\u001b[0m         video_id,\n\u001b[1;32m--> 352\u001b[0m         \u001b[38;5;28mself\u001b[39m\u001b[38;5;241m.\u001b[39m_fetch_captions_json(video_id),\n\u001b[0;32m    353\u001b[0m     )\n",
      "File \u001b[1;32m~\\anaconda3\\Lib\\site-packages\\youtube_transcript_api\\_transcripts.py:357\u001b[0m, in \u001b[0;36mTranscriptListFetcher._fetch_captions_json\u001b[1;34m(self, video_id, try_number)\u001b[0m\n\u001b[0;32m    355\u001b[0m \u001b[38;5;28;01mdef\u001b[39;00m \u001b[38;5;21m_fetch_captions_json\u001b[39m(\u001b[38;5;28mself\u001b[39m, video_id: \u001b[38;5;28mstr\u001b[39m, try_number: \u001b[38;5;28mint\u001b[39m \u001b[38;5;241m=\u001b[39m \u001b[38;5;241m0\u001b[39m) \u001b[38;5;241m-\u001b[39m\u001b[38;5;241m>\u001b[39m Dict:\n\u001b[0;32m    356\u001b[0m     \u001b[38;5;28;01mtry\u001b[39;00m:\n\u001b[1;32m--> 357\u001b[0m         \u001b[38;5;28;01mreturn\u001b[39;00m \u001b[38;5;28mself\u001b[39m\u001b[38;5;241m.\u001b[39m_extract_captions_json(\n\u001b[0;32m    358\u001b[0m             \u001b[38;5;28mself\u001b[39m\u001b[38;5;241m.\u001b[39m_fetch_video_html(video_id), video_id\n\u001b[0;32m    359\u001b[0m         )\n\u001b[0;32m    360\u001b[0m     \u001b[38;5;28;01mexcept\u001b[39;00m RequestBlocked \u001b[38;5;28;01mas\u001b[39;00m exception:\n\u001b[0;32m    361\u001b[0m         retries \u001b[38;5;241m=\u001b[39m (\n\u001b[0;32m    362\u001b[0m             \u001b[38;5;241m0\u001b[39m\n\u001b[0;32m    363\u001b[0m             \u001b[38;5;28;01mif\u001b[39;00m \u001b[38;5;28mself\u001b[39m\u001b[38;5;241m.\u001b[39m_proxy_config \u001b[38;5;129;01mis\u001b[39;00m \u001b[38;5;28;01mNone\u001b[39;00m\n\u001b[0;32m    364\u001b[0m             \u001b[38;5;28;01melse\u001b[39;00m \u001b[38;5;28mself\u001b[39m\u001b[38;5;241m.\u001b[39m_proxy_config\u001b[38;5;241m.\u001b[39mretries_when_blocked\n\u001b[0;32m    365\u001b[0m         )\n",
      "File \u001b[1;32m~\\anaconda3\\Lib\\site-packages\\youtube_transcript_api\\_transcripts.py:386\u001b[0m, in \u001b[0;36mTranscriptListFetcher._extract_captions_json\u001b[1;34m(self, html, video_id)\u001b[0m\n\u001b[0;32m    382\u001b[0m captions_json \u001b[38;5;241m=\u001b[39m video_data\u001b[38;5;241m.\u001b[39mget(\u001b[38;5;124m\"\u001b[39m\u001b[38;5;124mcaptions\u001b[39m\u001b[38;5;124m\"\u001b[39m, {})\u001b[38;5;241m.\u001b[39mget(\n\u001b[0;32m    383\u001b[0m     \u001b[38;5;124m\"\u001b[39m\u001b[38;5;124mplayerCaptionsTracklistRenderer\u001b[39m\u001b[38;5;124m\"\u001b[39m\n\u001b[0;32m    384\u001b[0m )\n\u001b[0;32m    385\u001b[0m \u001b[38;5;28;01mif\u001b[39;00m captions_json \u001b[38;5;129;01mis\u001b[39;00m \u001b[38;5;28;01mNone\u001b[39;00m \u001b[38;5;129;01mor\u001b[39;00m \u001b[38;5;124m\"\u001b[39m\u001b[38;5;124mcaptionTracks\u001b[39m\u001b[38;5;124m\"\u001b[39m \u001b[38;5;129;01mnot\u001b[39;00m \u001b[38;5;129;01min\u001b[39;00m captions_json:\n\u001b[1;32m--> 386\u001b[0m     \u001b[38;5;28;01mraise\u001b[39;00m TranscriptsDisabled(video_id)\n\u001b[0;32m    388\u001b[0m \u001b[38;5;28;01mreturn\u001b[39;00m captions_json\n",
      "\u001b[1;31mTranscriptsDisabled\u001b[0m: \nCould not retrieve a transcript for the video https://www.youtube.com/watch?v=BR_3moh6h9Y! This is most likely caused by:\n\nSubtitles are disabled for this video\n\nIf you are sure that the described cause is not responsible for this error and that a transcript should be retrievable, please create an issue at https://github.com/jdepoix/youtube-transcript-api/issues. Please add which version of youtube_transcript_api you are using and provide the information needed to replicate the error. Also make sure that there are no open issues which already describe your problem!"
     ]
    }
   ],
   "source": [
    "from youtube_transcript_api import YouTubeTranscriptApi\n",
    "from langchain_core.documents import Document\n",
    "\n",
    "# Replace with your desired YouTube video ID\n",
    "video_id = \"BR_3moh6h9Y\"\n",
    "\n",
    "# Fetch the transcript\n",
    "transcript = YouTubeTranscriptApi.get_transcript(video_id)\n",
    "\n",
    "# Combine transcript segments into a single string\n",
    "full_transcript = \" \".join([entry[\"text\"] for entry in transcript])\n",
    "\n",
    "# Create a LangChain Document\n",
    "document = Document(page_content=full_transcript, metadata={\"source\": f\"https://www.youtube.com/watch?v={video_id}\"})\n",
    "\n",
    "# Now you can use 'document' in your RAG pipeline\n",
    "document.page_content"
   ]
  },
  {
   "cell_type": "code",
   "execution_count": null,
   "id": "ceb91756",
   "metadata": {},
   "outputs": [],
   "source": []
  },
  {
   "cell_type": "code",
   "execution_count": null,
   "id": "9f672b66",
   "metadata": {},
   "outputs": [],
   "source": []
  },
  {
   "cell_type": "code",
   "execution_count": null,
   "id": "b7d28ec7",
   "metadata": {},
   "outputs": [],
   "source": []
  },
  {
   "cell_type": "code",
   "execution_count": null,
   "id": "b60522e8",
   "metadata": {},
   "outputs": [],
   "source": []
  },
  {
   "cell_type": "code",
   "execution_count": 8,
   "id": "e16c99bd",
   "metadata": {
    "scrolled": true
   },
   "outputs": [
    {
     "name": "stdout",
     "output_type": "stream",
     "text": [
      "Transcripts are disabled for this video.\n",
      "{'error': 'TranscriptsDisabled Error'}\n"
     ]
    }
   ],
   "source": [
    "from youtube_transcript_api import YouTubeTranscriptApi\n",
    "from youtube_transcript_api._errors import TranscriptsDisabled\n",
    "\n",
    "video_id = 'BR_3moh6h9Y'  # Replace with the actual video ID\n",
    "try:\n",
    "    transcript = YouTubeTranscriptApi.get_transcript(video_id)\n",
    "\n",
    "    # Combine transcript segments into a single string\n",
    "    full_transcript = ' '.join([entry['text'] for entry in transcript])\n",
    "except TranscriptsDisabled:\n",
    "    print(\"Transcripts are disabled for this video.\")\n",
    "    full_transcript = {\"error\": \"TranscriptsDisabled Error\"}\n",
    "except Exception as e:\n",
    "    print(f\"An error occurred: {e}\")\n",
    "    full_transcript = {\"error\": str(e)}\n",
    "\n",
    "\n",
    "print(full_transcript)"
   ]
  },
  {
   "cell_type": "code",
   "execution_count": 10,
   "id": "a2929e9d",
   "metadata": {
    "scrolled": true
   },
   "outputs": [
    {
     "name": "stdout",
     "output_type": "stream",
     "text": [
      "Transcripts are disabled for this video.\n",
      "{'error': 'TranscriptsDisabled Error'}\n"
     ]
    }
   ],
   "source": [
    "## Handling Different Languages\n",
    "try:\n",
    "    transcript = YouTubeTranscriptApi.get_transcript(video_id, languages=['en'])\n",
    "    # print(transcript)\n",
    "\n",
    "    # Combine transcript segments into a single string\n",
    "    full_transcript = ' '.join([entry['text'] for entry in transcript])\n",
    "except TranscriptsDisabled:\n",
    "    print(\"Transcripts are disabled for this video.\")\n",
    "    full_transcript = {\"error\": \"TranscriptsDisabled Error\"}\n",
    "except Exception as e:\n",
    "    print(f\"An error occurred: {e}\")\n",
    "    full_transcript = {\"error\": str(e)}\n",
    "\n",
    "\n",
    "print(full_transcript)"
   ]
  },
  {
   "cell_type": "code",
   "execution_count": 11,
   "id": "3646a843",
   "metadata": {
    "scrolled": false
   },
   "outputs": [
    {
     "name": "stdout",
     "output_type": "stream",
     "text": [
      "Transcripts are disabled for this video.\n"
     ]
    },
    {
     "ename": "ValidationError",
     "evalue": "1 validation error for Document\npage_content\n  str type expected (type=type_error.str)",
     "output_type": "error",
     "traceback": [
      "\u001b[1;31m---------------------------------------------------------------------------\u001b[0m",
      "\u001b[1;31mValidationError\u001b[0m                           Traceback (most recent call last)",
      "Cell \u001b[1;32mIn[11], line 21\u001b[0m\n\u001b[0;32m     18\u001b[0m     full_transcript \u001b[38;5;241m=\u001b[39m {\u001b[38;5;124m\"\u001b[39m\u001b[38;5;124merror\u001b[39m\u001b[38;5;124m\"\u001b[39m: \u001b[38;5;28mstr\u001b[39m(e)}\n\u001b[0;32m     20\u001b[0m \u001b[38;5;66;03m# Create a LangChain Document\u001b[39;00m\n\u001b[1;32m---> 21\u001b[0m document \u001b[38;5;241m=\u001b[39m Document(page_content\u001b[38;5;241m=\u001b[39mfull_transcript, metadata\u001b[38;5;241m=\u001b[39m{\u001b[38;5;124m\"\u001b[39m\u001b[38;5;124msource\u001b[39m\u001b[38;5;124m\"\u001b[39m: \u001b[38;5;124mf\u001b[39m\u001b[38;5;124m\"\u001b[39m\u001b[38;5;124mhttps://www.youtube.com/watch?v=\u001b[39m\u001b[38;5;132;01m{\u001b[39;00mvideo_id\u001b[38;5;132;01m}\u001b[39;00m\u001b[38;5;124m\"\u001b[39m})\n\u001b[0;32m     23\u001b[0m \u001b[38;5;66;03m# Now you can use 'document' in your RAG pipeline\u001b[39;00m\n\u001b[0;32m     24\u001b[0m document\u001b[38;5;241m.\u001b[39mpage_content\n",
      "File \u001b[1;32m~\\anaconda3\\Lib\\site-packages\\langchain_core\\documents\\base.py:22\u001b[0m, in \u001b[0;36mDocument.__init__\u001b[1;34m(self, page_content, **kwargs)\u001b[0m\n\u001b[0;32m     20\u001b[0m \u001b[38;5;28;01mdef\u001b[39;00m \u001b[38;5;21m__init__\u001b[39m(\u001b[38;5;28mself\u001b[39m, page_content: \u001b[38;5;28mstr\u001b[39m, \u001b[38;5;241m*\u001b[39m\u001b[38;5;241m*\u001b[39mkwargs: Any) \u001b[38;5;241m-\u001b[39m\u001b[38;5;241m>\u001b[39m \u001b[38;5;28;01mNone\u001b[39;00m:\n\u001b[0;32m     21\u001b[0m \u001b[38;5;250m    \u001b[39m\u001b[38;5;124;03m\"\"\"Pass page_content in as positional or named arg.\"\"\"\u001b[39;00m\n\u001b[1;32m---> 22\u001b[0m     \u001b[38;5;28msuper\u001b[39m()\u001b[38;5;241m.\u001b[39m\u001b[38;5;21m__init__\u001b[39m(page_content\u001b[38;5;241m=\u001b[39mpage_content, \u001b[38;5;241m*\u001b[39m\u001b[38;5;241m*\u001b[39mkwargs)\n",
      "File \u001b[1;32m~\\anaconda3\\Lib\\site-packages\\pydantic\\v1\\main.py:341\u001b[0m, in \u001b[0;36mBaseModel.__init__\u001b[1;34m(__pydantic_self__, **data)\u001b[0m\n\u001b[0;32m    339\u001b[0m values, fields_set, validation_error \u001b[38;5;241m=\u001b[39m validate_model(__pydantic_self__\u001b[38;5;241m.\u001b[39m\u001b[38;5;18m__class__\u001b[39m, data)\n\u001b[0;32m    340\u001b[0m \u001b[38;5;28;01mif\u001b[39;00m validation_error:\n\u001b[1;32m--> 341\u001b[0m     \u001b[38;5;28;01mraise\u001b[39;00m validation_error\n\u001b[0;32m    342\u001b[0m \u001b[38;5;28;01mtry\u001b[39;00m:\n\u001b[0;32m    343\u001b[0m     object_setattr(__pydantic_self__, \u001b[38;5;124m'\u001b[39m\u001b[38;5;124m__dict__\u001b[39m\u001b[38;5;124m'\u001b[39m, values)\n",
      "\u001b[1;31mValidationError\u001b[0m: 1 validation error for Document\npage_content\n  str type expected (type=type_error.str)"
     ]
    }
   ],
   "source": [
    "from youtube_transcript_api import YouTubeTranscriptApi\n",
    "from langchain_core.documents import Document\n",
    "\n",
    "# Replace with your desired YouTube video ID\n",
    "video_id = \"BR_3moh6h9Y\"\n",
    "\n",
    "try:\n",
    "    # Fetch the transcript\n",
    "    transcript = YouTubeTranscriptApi.get_transcript(video_id)\n",
    "\n",
    "    # Combine transcript segments into a single string\n",
    "    full_transcript = \" \".join([entry[\"text\"] for entry in transcript])\n",
    "except TranscriptsDisabled:\n",
    "    print(\"Transcripts are disabled for this video.\")\n",
    "    full_transcript = {\"error\": \"TranscriptsDisabled Error\"}\n",
    "except Exception as e:\n",
    "    print(f\"An error occurred: {e}\")\n",
    "    full_transcript = {\"error\": str(e)}\n",
    "\n",
    "# Create a LangChain Document\n",
    "document = Document(page_content=full_transcript, metadata={\"source\": f\"https://www.youtube.com/watch?v={video_id}\"})\n",
    "\n",
    "# Now you can use 'document' in your RAG pipeline\n",
    "document.page_content"
   ]
  },
  {
   "cell_type": "code",
   "execution_count": 12,
   "id": "51ecfec4",
   "metadata": {},
   "outputs": [
    {
     "name": "stdout",
     "output_type": "stream",
     "text": [
      "Transcripts are disabled for this video.\n",
      "Error: Transcripts are disabled for this video.\n"
     ]
    }
   ],
   "source": [
    "from youtube_transcript_api import YouTubeTranscriptApi, TranscriptsDisabled\n",
    "from langchain_core.documents import Document\n",
    "\n",
    "video_id = \"BR_3moh6h9Y\"\n",
    "\n",
    "try:\n",
    "    # Fetch the transcript\n",
    "    transcript = YouTubeTranscriptApi.get_transcript(video_id)\n",
    "    # Combine transcript segments into a single string\n",
    "    full_transcript = \" \".join([entry[\"text\"] for entry in transcript])\n",
    "except TranscriptsDisabled:\n",
    "    print(\"Transcripts are disabled for this video.\")\n",
    "    full_transcript = \"Error: Transcripts are disabled for this video.\"\n",
    "except Exception as e:\n",
    "    print(f\"An error occurred: {e}\")\n",
    "    full_transcript = f\"Error: {str(e)}\"\n",
    "\n",
    "# Create a LangChain Document\n",
    "document = Document(page_content=full_transcript, metadata={\"source\": f\"https://www.youtube.com/watch?v={video_id}\"})\n",
    "\n",
    "# Now you can use 'document' in your RAG pipeline\n",
    "print(document.page_content)\n"
   ]
  },
  {
   "cell_type": "code",
   "execution_count": null,
   "id": "7644de49",
   "metadata": {},
   "outputs": [],
   "source": []
  }
 ],
 "metadata": {
  "kernelspec": {
   "display_name": "Python 3 (ipykernel)",
   "language": "python",
   "name": "python3"
  },
  "language_info": {
   "codemirror_mode": {
    "name": "ipython",
    "version": 3
   },
   "file_extension": ".py",
   "mimetype": "text/x-python",
   "name": "python",
   "nbconvert_exporter": "python",
   "pygments_lexer": "ipython3",
   "version": "3.11.5"
  }
 },
 "nbformat": 4,
 "nbformat_minor": 5
}
