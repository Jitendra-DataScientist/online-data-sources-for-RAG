{
 "cells": [
  {
   "cell_type": "code",
   "execution_count": 2,
   "id": "3ab8a126",
   "metadata": {},
   "outputs": [
    {
     "name": "stdout",
     "output_type": "stream",
     "text": [
      "Collecting youtube-transcript-api\n",
      "  Downloading youtube_transcript_api-1.0.3-py3-none-any.whl.metadata (23 kB)\n",
      "Requirement already satisfied: defusedxml<0.8.0,>=0.7.1 in c:\\users\\jitendranayak\\anaconda3\\lib\\site-packages (from youtube-transcript-api) (0.7.1)\n",
      "Requirement already satisfied: requests in c:\\users\\jitendranayak\\anaconda3\\lib\\site-packages (from youtube-transcript-api) (2.32.2)\n",
      "Requirement already satisfied: charset-normalizer<4,>=2 in c:\\users\\jitendranayak\\anaconda3\\lib\\site-packages (from requests->youtube-transcript-api) (2.0.4)\n",
      "Requirement already satisfied: idna<4,>=2.5 in c:\\users\\jitendranayak\\anaconda3\\lib\\site-packages (from requests->youtube-transcript-api) (3.4)\n",
      "Requirement already satisfied: urllib3<3,>=1.21.1 in c:\\users\\jitendranayak\\anaconda3\\lib\\site-packages (from requests->youtube-transcript-api) (2.2.1)\n",
      "Requirement already satisfied: certifi>=2017.4.17 in c:\\users\\jitendranayak\\anaconda3\\lib\\site-packages (from requests->youtube-transcript-api) (2024.2.2)\n",
      "Downloading youtube_transcript_api-1.0.3-py3-none-any.whl (2.2 MB)\n",
      "   ---------------------------------------- 0.0/2.2 MB ? eta -:--:--\n",
      "   ---------------------------------------- 2.2/2.2 MB 13.6 MB/s eta 0:00:00\n",
      "Installing collected packages: youtube-transcript-api\n",
      "Successfully installed youtube-transcript-api-1.0.3\n",
      "Note: you may need to restart the kernel to use updated packages.\n"
     ]
    },
    {
     "name": "stderr",
     "output_type": "stream",
     "text": [
      "WARNING: Ignoring invalid distribution ~etuptools (C:\\Users\\JitendraNayak\\anaconda3\\Lib\\site-packages)\n",
      "WARNING: Ignoring invalid distribution ~etuptools (C:\\Users\\JitendraNayak\\anaconda3\\Lib\\site-packages)\n",
      "WARNING: Ignoring invalid distribution ~etuptools (C:\\Users\\JitendraNayak\\anaconda3\\Lib\\site-packages)\n",
      "\n",
      "[notice] A new release of pip is available: 24.3.1 -> 25.1.1\n",
      "[notice] To update, run: python.exe -m pip install --upgrade pip\n"
     ]
    }
   ],
   "source": [
    "pip install youtube-transcript-api"
   ]
  },
  {
   "cell_type": "code",
   "execution_count": 3,
   "id": "624f1516",
   "metadata": {},
   "outputs": [
    {
     "name": "stdout",
     "output_type": "stream",
     "text": [
      "When Queen Elizabeth I took her final breath, the world lost more than just a monarch. It lost a mystery sealed behind red velvet curtains and iron willpower. As her closest advisers sorted through her chambers, they expected the usual jewels, royal decrees, maybe a few private letters. What they found, however, stopped them cold. A letter not addressed, not signed, just sitting there waiting. And whatever was inside made even the stealiest men in the kingdom go silent. Was it a confession, a warning, or something darker? A truth so heavy Elizabeth couldn't bear to speak it aloud in life. To answer that, we have to go back not just a few years, but to the very day Elizabeth entered the world. It was 1533. England was a boiling pot of rumors, rebellion, and royal scandal. At the center of it all, Anne Berlin, Elizabeth's mother, a bold, ambitious woman who had managed the impossible. She stole the king's heart from Catherine of Araggon, a queen who had ruled beside Henry VIII for over two decades. King Henry broke from the Catholic Church just to marry Anne. That's how badly he wanted her. But what he really wanted was a son. And when Anne gave birth to a daughter instead of a male heir, the king's love began to rot. 3 years later, Anne Berlin was accused of adultery and treason, likely falsely, and sentenced to die. May 19th, 1536. Elizabeth, barely a toddler, lost her mother to the executioner's blade. She would never see her again. But you know what's worse? Just 11 days later, Henry remarried. That's all the time it took for Elizabeth's father to move on from his queen, from his grief, from his daughter. The new wife, Jane Seymour, soon gave him what he wanted. A boy named Edward, a prince, an heir, the son he believed was worth breaking a kingdom for and beheading a queen. From that moment on, Elizabeth was no longer the precious daughter of a king. She was a political inconvenience. A girl born into power, stripped of it, then forced to survive the most dangerous court in Europe with nothing but her wit, her will, and eyes that saw everything. And when she finally took the throne, she never forgot the blood it took to get there. In the 16th century, beauty among England's elite was defined by one thing: skin as white as snow. For noble women, this wasn't just a fashion statement. It was a symbol of power, purity, and high birth. The paler the skin, the higher your status, and no one understood this better than Queen Elizabeth I. But fate would strike a cruel blow. In 1562, Elizabeth fell seriously ill. The diagnosis, smallpox, a brutal and disfiguring disease. Though she survived, it left her physically scarred for life. Her once smooth face was pitted with marks, and she suffered severe hair loss. For a queen whose image was everything, whose very power depended on how her people saw her, this was more than a personal tragedy. It was a political threat. To restore the illusion of perfection, Elizabeth turned to makeup. But not just any makeup. Her signature was a thick ghostly white cosmetic known as Venetian Suse. It gave her that eerie porcelain glow we still associate with her today. On the surface, it masked her scars, but beneath it, danger was quietly building. Venetian suse may have sounded exotic and elegant, but it was made from white lead and vinegar, a deadly combination. Elizabeth would apply heavy layers to her face and neck, creating a flawless illusion, but at a terrible cost. The makeup had a sharp, sour smell. And over time, it did more than cover her skin. It poisoned it. And lead wasn't the only threat. Historical records show Elizabeth also used mercurybased products, including lip color and possibly even a makeup remover that could corrode flesh. By today's standards, we know these heavy metals are incredibly toxic. Long-term exposure can lead to hair loss, skin damage, organ failure, and even death. Yet, Elizabeth used these substances daily for decades. As she aged and fought to maintain the image of eternal youth, it's likely she used even more of these deadly cosmetics. Slowly, silently, her body became a vessel for poison. Her beauty, ironically, may have been killing her from the inside out, but poison wasn't the only thing haunting Elizabeth. By602, the queen's health was visibly failing. She withdrew from court life, grew increasingly frail, and slipped into a deep melancholy. Her sadness was more than physical. It was emotional, too. She had outlived nearly all her closest companions. The death of her dear friend Katherine Kerry in early603 devastated her. But one name lingered heavier than any other. Robert Devaroo, the Earl of Essex. He had once been the great love of her later years, but their relationship ended in betrayal. In601, Elizabeth signed his death warrant for treason. Publicly, she remained composed, but privately she was shattered. One courtier wrote that in her final days, the queen often sat in the dark, weeping, mourning Essex's death, perhaps more over her decision than his crime. As the days wore on, Elizabeth refused all medical attention. Whether from pride, fear, or defiance, she wouldn't let anyone examine her. She even refused to lie down, believing that if she did, she would never rise again. For over 15 hours, she stood upright, her ladies in waiting, surrounding her with pillows in case she collapsed. And then on March 24th,603, the Virgin Queen passed away at Richmond Palace. She was 69 years old. Her death marked the end of an era and the end of the great TUDA dynasty. But the story doesn't end there. We remember Elizabeth as the Virgin Queen, a ruler who famously declared herself married to England. But behind that title was a complex, emotional woman with a heart that had been both full and broken. In her youth, Elizabeth was magnetic with striking red hair, a graceful figure, and a sharp intellect. She lit up every ballroom. Men were drawn to her like moths to flame. Kings and princes proposed marriage. Philip II of Spain, Eric of Sweden, and others. She entertained their offers but never accepted. And yet her life was far from loveless. The first great name in her story of romance was Robert Dudley, her childhood friend, her confidant, and many believe her first true love. From the moment she became queen, rumors of their relationship swirled. Dudley was married, but his connection to Elizabeth was impossible to ignore. She granted him privileges no other man enjoyed, including access to her private chambers at any hour. The world speculated, the court whispered, but Elizabeth never married him or anyone. Perhaps she feared becoming a porn like her mother, Anne Berlin. Perhaps her heart was broken one too many times. Or perhaps England truly was the only partner she ever trusted. In 1560, a tragic event shook the English court. Robert Dudley's wife, Amy Robsart, was found dead at the bottom of a staircase. Her neck was broken. Officially, it was ruled an accident, but the whispers began immediately. Had she fallen or had she been pushed? The rumors were vicious. Some believed that Dudley or even Queen Elizabeth herself had arranged Amy's death to clear the way for marriage, but no marriage followed. Despite the scandal, Elizabeth and Dudley remained close for years. Still, she never once publicly considered marrying him. Why? Perhaps she knew the damage it would do to her image. Or maybe she feared losing her independence. Even with many suitors to come, some say Robert Dudley was Elizabeth's first and only true love. But hearts can shift and court life never stays still. In 1578, Dudley remarried. The Queen was furious, but she moved on, at least outwardly. By 1579, a new man entered her life. Francois, Duke of Anju, younger brother of the king of France. He was introduced as a serious marriage prospect. There was just one problem or several. Francois was about 20 years old while Elizabeth was now well into her 40s. He was short, had a pockmarked face from smallpox, and rumors swirled about his unusual behavior and personal tastes. Still, Elizabeth appeared genuinely taken with him. She even named her pet frog after him, an oddly tender gesture for a queen. Despite public mockery and fierce opposition from her court, Francois returned to England in 1581 and to Elizabeth's delight. What happened next shocked everyone. She publicly announced her intention to marry him. They exchanged rings in front of the court and her affection was clear for all to see. But by the next day, she changed her mind. The engagement was off and with it the last hope the court had that Elizabeth would ever marry. From then on any romances she entertained never ended in wedding bells, only titles and rumors. And then came the most dramatic love story of her life. Robert Dearoo, the Earl of Essex, Dudley's own stepson, was only 22 when he caught the Queen's eye in 1589. Elizabeth was 56. The age gap was wide, but Essex was young, dashing, clever, and full of charm. Whatever the nature of their relationship, it stirred intense passion. When Essex secretly married Francis Walssingham the next year, Elizabeth was livid. She screamed. She raged. and Essex, desperate to win her back, turned to poetry, writing verses that praised her beauty and tried to mend her wounded pride. Despite everything, Elizabeth brought him back into favor and even into government affairs. From 1591 on, she gave him military responsibilities, but Essex was reckless, brilliant in some moments, disastrous in others. He exploited the queen's favor, swinging between bold ambition and childish arrogance. Once during a heated argument in 1597, Elizabeth slapped him across the face and shouted, \"Go and be hanged.\" Yet even then, she couldn't fully let go. In 1599, she appointed him Lord Lieutenant of Ireland, sending him to suppress a major rebellion. He led 16,000 troops, one of the largest forces ever sent to Ireland, but failed miserably. Poor strategy and negotiation led to an embarrassing truce with the rebel leader, the Earl of Tyrone. It was a political disaster. Then Essex made a fatal mistake. On September 28th, 1599, he burst into the queen's private chambers, unannounced and still in his dirty riding boots. Elizabeth had just woken up. She wasn't wearing her wig, her jewels, or even her signature makeup. No man had ever seen her like this, not as the majestic queen, but as an old, frail woman. It was a deep violation of royal protocol and of trust. She had him arrested and stripped of his titles. Though he was eventually released, he didn't learn his lesson. In February6001, in a final act of desperation, Essex attempted a coup. He planned to seize control of London, storm the tower, and force Elizabeth to name him her successor and protector. It was a spectacular failure. The rebellion collapsed within hours. This time, Elizabeth's patience ran out. On February 24th,601, Essex was found guilty of treason and sentenced to death. When asked if she wished to show mercy, Elizabeth responded with a chilling clarity. All that he has done against myself, I can pardon, but I cannot pardon anyone who attempts to harm England. She signed his death warrant. The next morning, Robert Devo was beheaded outside the palace. It was a brutal end to her most intense and final romance. Looking back, one question lingers. Why did Queen Elizabeth never marry? She had admirers, lovers, and political suitors. She clearly wasn't indifferent to romance, and yet she chose solitude. Why? Some say she feared losing power. Others believe she couldn't trust marriage after watching her mother, Anne Berlin, be executed by her father. Maybe, just maybe, she believed that by marrying no man, she could belong to all of England. When Elizabeth died in 16003, she left no heir. With her, the great Tuda dynasty came to an end. Her successor was King James V 6th of Scotland, who became James Ist of England, uniting the two kingdoms under one crown for the first time. Her 45-year reign is remembered as a golden age, a time of peace, progress, and power. Shakespeare wrote his greatest plays. The English Navy crushed the Spanish Armada. Art, culture, and exploration flourished. She had given England what her father, Henry VIII, had longed for, stability, and glory. In the end, Elizabeth's greatest legacy wasn't a husband or an heir. It was England itself. And in a way, that's exactly what she always wanted. Henry VIII tried to erase Anne Berlin from history. But fate had other plans. Her daughter rose from the shadow of scandal and execution to become one of the greatest monarchs England ever knew. Elizabeth didn't just survive. She reigned. And in doing so, she fulfilled her mother's legacy, building an empire on the very sacrifice that had once doomed her family. But now, let's return to that final moment. The queen was gone. The Virgin Queen, the monarch who ruled alone for 45 years, had passed. And in the silence that followed, her advisers discovered a sealed letter, one written in Elizabeth's own hand. What they read inside chilled them to the bone. Could it have been a confession, a secret she had carried for decades, finally laid bare? Was it a final testament? A warning about England's future or something far darker? Could it have been the horrifying truth of how the white paints and powders she wore for decades had poisoned her slowly from the inside? And this was what truly made their blood run cold, was the letter about the one thing Elizabeth had always refused to speak of, the succession. She had never publicly named an heir. But had she done so in private in this letter, was there something in those pages that could have changed everything? What do you think was written in that final message? Was it a revelation or a farewell? Let us know your theory in the comments below. And if you love strange, mysterious, and powerful stories from history, don't forget to like, subscribe, and turn on notifications. We have so much more to uncover. Thanks for watching and until next time, remember history always has secrets. It's just waiting for us to find [Music]\n"
     ]
    }
   ],
   "source": [
    "from youtube_transcript_api import YouTubeTranscriptApi\n",
    "\n",
    "video_id = 'DeRGMoybqb8'  # Replace with the actual video ID\n",
    "transcript = YouTubeTranscriptApi.get_transcript(video_id)\n",
    "\n",
    "# Combine transcript segments into a single string\n",
    "full_transcript = ' '.join([entry['text'] for entry in transcript])\n",
    "print(full_transcript)\n"
   ]
  },
  {
   "cell_type": "code",
   "execution_count": 6,
   "id": "ade624bf",
   "metadata": {
    "scrolled": true
   },
   "outputs": [
    {
     "name": "stdout",
     "output_type": "stream",
     "text": [
      "When Queen Elizabeth I took her final breath, the world lost more than just a monarch. It lost a mystery sealed behind red velvet curtains and iron willpower. As her closest advisers sorted through her chambers, they expected the usual jewels, royal decrees, maybe a few private letters. What they found, however, stopped them cold. A letter not addressed, not signed, just sitting there waiting. And whatever was inside made even the stealiest men in the kingdom go silent. Was it a confession, a warning, or something darker? A truth so heavy Elizabeth couldn't bear to speak it aloud in life. To answer that, we have to go back not just a few years, but to the very day Elizabeth entered the world. It was 1533. England was a boiling pot of rumors, rebellion, and royal scandal. At the center of it all, Anne Berlin, Elizabeth's mother, a bold, ambitious woman who had managed the impossible. She stole the king's heart from Catherine of Araggon, a queen who had ruled beside Henry VIII for over two decades. King Henry broke from the Catholic Church just to marry Anne. That's how badly he wanted her. But what he really wanted was a son. And when Anne gave birth to a daughter instead of a male heir, the king's love began to rot. 3 years later, Anne Berlin was accused of adultery and treason, likely falsely, and sentenced to die. May 19th, 1536. Elizabeth, barely a toddler, lost her mother to the executioner's blade. She would never see her again. But you know what's worse? Just 11 days later, Henry remarried. That's all the time it took for Elizabeth's father to move on from his queen, from his grief, from his daughter. The new wife, Jane Seymour, soon gave him what he wanted. A boy named Edward, a prince, an heir, the son he believed was worth breaking a kingdom for and beheading a queen. From that moment on, Elizabeth was no longer the precious daughter of a king. She was a political inconvenience. A girl born into power, stripped of it, then forced to survive the most dangerous court in Europe with nothing but her wit, her will, and eyes that saw everything. And when she finally took the throne, she never forgot the blood it took to get there. In the 16th century, beauty among England's elite was defined by one thing: skin as white as snow. For noble women, this wasn't just a fashion statement. It was a symbol of power, purity, and high birth. The paler the skin, the higher your status, and no one understood this better than Queen Elizabeth I. But fate would strike a cruel blow. In 1562, Elizabeth fell seriously ill. The diagnosis, smallpox, a brutal and disfiguring disease. Though she survived, it left her physically scarred for life. Her once smooth face was pitted with marks, and she suffered severe hair loss. For a queen whose image was everything, whose very power depended on how her people saw her, this was more than a personal tragedy. It was a political threat. To restore the illusion of perfection, Elizabeth turned to makeup. But not just any makeup. Her signature was a thick ghostly white cosmetic known as Venetian Suse. It gave her that eerie porcelain glow we still associate with her today. On the surface, it masked her scars, but beneath it, danger was quietly building. Venetian suse may have sounded exotic and elegant, but it was made from white lead and vinegar, a deadly combination. Elizabeth would apply heavy layers to her face and neck, creating a flawless illusion, but at a terrible cost. The makeup had a sharp, sour smell. And over time, it did more than cover her skin. It poisoned it. And lead wasn't the only threat. Historical records show Elizabeth also used mercurybased products, including lip color and possibly even a makeup remover that could corrode flesh. By today's standards, we know these heavy metals are incredibly toxic. Long-term exposure can lead to hair loss, skin damage, organ failure, and even death. Yet, Elizabeth used these substances daily for decades. As she aged and fought to maintain the image of eternal youth, it's likely she used even more of these deadly cosmetics. Slowly, silently, her body became a vessel for poison. Her beauty, ironically, may have been killing her from the inside out, but poison wasn't the only thing haunting Elizabeth. By602, the queen's health was visibly failing. She withdrew from court life, grew increasingly frail, and slipped into a deep melancholy. Her sadness was more than physical. It was emotional, too. She had outlived nearly all her closest companions. The death of her dear friend Katherine Kerry in early603 devastated her. But one name lingered heavier than any other. Robert Devaroo, the Earl of Essex. He had once been the great love of her later years, but their relationship ended in betrayal. In601, Elizabeth signed his death warrant for treason. Publicly, she remained composed, but privately she was shattered. One courtier wrote that in her final days, the queen often sat in the dark, weeping, mourning Essex's death, perhaps more over her decision than his crime. As the days wore on, Elizabeth refused all medical attention. Whether from pride, fear, or defiance, she wouldn't let anyone examine her. She even refused to lie down, believing that if she did, she would never rise again. For over 15 hours, she stood upright, her ladies in waiting, surrounding her with pillows in case she collapsed. And then on March 24th,603, the Virgin Queen passed away at Richmond Palace. She was 69 years old. Her death marked the end of an era and the end of the great TUDA dynasty. But the story doesn't end there. We remember Elizabeth as the Virgin Queen, a ruler who famously declared herself married to England. But behind that title was a complex, emotional woman with a heart that had been both full and broken. In her youth, Elizabeth was magnetic with striking red hair, a graceful figure, and a sharp intellect. She lit up every ballroom. Men were drawn to her like moths to flame. Kings and princes proposed marriage. Philip II of Spain, Eric of Sweden, and others. She entertained their offers but never accepted. And yet her life was far from loveless. The first great name in her story of romance was Robert Dudley, her childhood friend, her confidant, and many believe her first true love. From the moment she became queen, rumors of their relationship swirled. Dudley was married, but his connection to Elizabeth was impossible to ignore. She granted him privileges no other man enjoyed, including access to her private chambers at any hour. The world speculated, the court whispered, but Elizabeth never married him or anyone. Perhaps she feared becoming a porn like her mother, Anne Berlin. Perhaps her heart was broken one too many times. Or perhaps England truly was the only partner she ever trusted. In 1560, a tragic event shook the English court. Robert Dudley's wife, Amy Robsart, was found dead at the bottom of a staircase. Her neck was broken. Officially, it was ruled an accident, but the whispers began immediately. Had she fallen or had she been pushed? The rumors were vicious. Some believed that Dudley or even Queen Elizabeth herself had arranged Amy's death to clear the way for marriage, but no marriage followed. Despite the scandal, Elizabeth and Dudley remained close for years. Still, she never once publicly considered marrying him. Why? Perhaps she knew the damage it would do to her image. Or maybe she feared losing her independence. Even with many suitors to come, some say Robert Dudley was Elizabeth's first and only true love. But hearts can shift and court life never stays still. In 1578, Dudley remarried. The Queen was furious, but she moved on, at least outwardly. By 1579, a new man entered her life. Francois, Duke of Anju, younger brother of the king of France. He was introduced as a serious marriage prospect. There was just one problem or several. Francois was about 20 years old while Elizabeth was now well into her 40s. He was short, had a pockmarked face from smallpox, and rumors swirled about his unusual behavior and personal tastes. Still, Elizabeth appeared genuinely taken with him. She even named her pet frog after him, an oddly tender gesture for a queen. Despite public mockery and fierce opposition from her court, Francois returned to England in 1581 and to Elizabeth's delight. What happened next shocked everyone. She publicly announced her intention to marry him. They exchanged rings in front of the court and her affection was clear for all to see. But by the next day, she changed her mind. The engagement was off and with it the last hope the court had that Elizabeth would ever marry. From then on any romances she entertained never ended in wedding bells, only titles and rumors. And then came the most dramatic love story of her life. Robert Dearoo, the Earl of Essex, Dudley's own stepson, was only 22 when he caught the Queen's eye in 1589. Elizabeth was 56. The age gap was wide, but Essex was young, dashing, clever, and full of charm. Whatever the nature of their relationship, it stirred intense passion. When Essex secretly married Francis Walssingham the next year, Elizabeth was livid. She screamed. She raged. and Essex, desperate to win her back, turned to poetry, writing verses that praised her beauty and tried to mend her wounded pride. Despite everything, Elizabeth brought him back into favor and even into government affairs. From 1591 on, she gave him military responsibilities, but Essex was reckless, brilliant in some moments, disastrous in others. He exploited the queen's favor, swinging between bold ambition and childish arrogance. Once during a heated argument in 1597, Elizabeth slapped him across the face and shouted, \"Go and be hanged.\" Yet even then, she couldn't fully let go. In 1599, she appointed him Lord Lieutenant of Ireland, sending him to suppress a major rebellion. He led 16,000 troops, one of the largest forces ever sent to Ireland, but failed miserably. Poor strategy and negotiation led to an embarrassing truce with the rebel leader, the Earl of Tyrone. It was a political disaster. Then Essex made a fatal mistake. On September 28th, 1599, he burst into the queen's private chambers, unannounced and still in his dirty riding boots. Elizabeth had just woken up. She wasn't wearing her wig, her jewels, or even her signature makeup. No man had ever seen her like this, not as the majestic queen, but as an old, frail woman. It was a deep violation of royal protocol and of trust. She had him arrested and stripped of his titles. Though he was eventually released, he didn't learn his lesson. In February6001, in a final act of desperation, Essex attempted a coup. He planned to seize control of London, storm the tower, and force Elizabeth to name him her successor and protector. It was a spectacular failure. The rebellion collapsed within hours. This time, Elizabeth's patience ran out. On February 24th,601, Essex was found guilty of treason and sentenced to death. When asked if she wished to show mercy, Elizabeth responded with a chilling clarity. All that he has done against myself, I can pardon, but I cannot pardon anyone who attempts to harm England. She signed his death warrant. The next morning, Robert Devo was beheaded outside the palace. It was a brutal end to her most intense and final romance. Looking back, one question lingers. Why did Queen Elizabeth never marry? She had admirers, lovers, and political suitors. She clearly wasn't indifferent to romance, and yet she chose solitude. Why? Some say she feared losing power. Others believe she couldn't trust marriage after watching her mother, Anne Berlin, be executed by her father. Maybe, just maybe, she believed that by marrying no man, she could belong to all of England. When Elizabeth died in 16003, she left no heir. With her, the great Tuda dynasty came to an end. Her successor was King James V 6th of Scotland, who became James Ist of England, uniting the two kingdoms under one crown for the first time. Her 45-year reign is remembered as a golden age, a time of peace, progress, and power. Shakespeare wrote his greatest plays. The English Navy crushed the Spanish Armada. Art, culture, and exploration flourished. She had given England what her father, Henry VIII, had longed for, stability, and glory. In the end, Elizabeth's greatest legacy wasn't a husband or an heir. It was England itself. And in a way, that's exactly what she always wanted. Henry VIII tried to erase Anne Berlin from history. But fate had other plans. Her daughter rose from the shadow of scandal and execution to become one of the greatest monarchs England ever knew. Elizabeth didn't just survive. She reigned. And in doing so, she fulfilled her mother's legacy, building an empire on the very sacrifice that had once doomed her family. But now, let's return to that final moment. The queen was gone. The Virgin Queen, the monarch who ruled alone for 45 years, had passed. And in the silence that followed, her advisers discovered a sealed letter, one written in Elizabeth's own hand. What they read inside chilled them to the bone. Could it have been a confession, a secret she had carried for decades, finally laid bare? Was it a final testament? A warning about England's future or something far darker? Could it have been the horrifying truth of how the white paints and powders she wore for decades had poisoned her slowly from the inside? And this was what truly made their blood run cold, was the letter about the one thing Elizabeth had always refused to speak of, the succession. She had never publicly named an heir. But had she done so in private in this letter, was there something in those pages that could have changed everything? What do you think was written in that final message? Was it a revelation or a farewell? Let us know your theory in the comments below. And if you love strange, mysterious, and powerful stories from history, don't forget to like, subscribe, and turn on notifications. We have so much more to uncover. Thanks for watching and until next time, remember history always has secrets. It's just waiting for us to find [Music]\n"
     ]
    }
   ],
   "source": [
    "## Handling Different Languages\n",
    "\n",
    "transcript = YouTubeTranscriptApi.get_transcript(video_id, languages=['en'])\n",
    "# print(transcript)\n",
    "\n",
    "# Combine transcript segments into a single string\n",
    "full_transcript = ' '.join([entry['text'] for entry in transcript])\n",
    "print(full_transcript)\n"
   ]
  },
  {
   "cell_type": "code",
   "execution_count": null,
   "id": "09c0679e",
   "metadata": {},
   "outputs": [],
   "source": []
  },
  {
   "cell_type": "code",
   "execution_count": null,
   "id": "a459e564",
   "metadata": {},
   "outputs": [],
   "source": []
  },
  {
   "cell_type": "code",
   "execution_count": 7,
   "id": "96b232f1",
   "metadata": {
    "scrolled": true
   },
   "outputs": [
    {
     "name": "stderr",
     "output_type": "stream",
     "text": [
      "C:\\Users\\JitendraNayak\\anaconda3\\Lib\\site-packages\\langchain_community\\document_loaders\\blob_loaders\\file_system.py:6: LangChainDeprecationWarning: As of langchain-core 0.3.0, LangChain uses pydantic v2 internally. The langchain_core.pydantic_v1 module was a compatibility shim for pydantic v1, and should no longer be used. Please update the code to import from Pydantic directly.\n",
      "\n",
      "For example, replace imports like: `from langchain_core.pydantic_v1 import BaseModel`\n",
      "with: `from pydantic import BaseModel`\n",
      "or the v1 compatibility namespace if you are working in a code base that has not been fully upgraded to pydantic 2 yet. \tfrom pydantic.v1 import BaseModel\n",
      "\n",
      "  from langchain_community.document_loaders.blob_loaders.schema import Blob, BlobLoader\n",
      "C:\\Users\\JitendraNayak\\anaconda3\\Lib\\site-packages\\langchain_community\\document_loaders\\__init__.py:228: LangChainDeprecationWarning: As of langchain-core 0.3.0, LangChain uses pydantic v2 internally. The langchain_core.pydantic_v1 module was a compatibility shim for pydantic v1, and should no longer be used. Please update the code to import from Pydantic directly.\n",
      "\n",
      "For example, replace imports like: `from langchain_core.pydantic_v1 import BaseModel`\n",
      "with: `from pydantic import BaseModel`\n",
      "or the v1 compatibility namespace if you are working in a code base that has not been fully upgraded to pydantic 2 yet. \tfrom pydantic.v1 import BaseModel\n",
      "\n",
      "  from langchain_community.document_loaders.youtube import (\n"
     ]
    },
    {
     "ename": "TypeError",
     "evalue": "'FetchedTranscriptSnippet' object is not subscriptable",
     "output_type": "error",
     "traceback": [
      "\u001b[1;31m---------------------------------------------------------------------------\u001b[0m",
      "\u001b[1;31mTypeError\u001b[0m                                 Traceback (most recent call last)",
      "Cell \u001b[1;32mIn[7], line 6\u001b[0m\n\u001b[0;32m      3\u001b[0m \u001b[38;5;28;01mfrom\u001b[39;00m \u001b[38;5;21;01mlangchain_community\u001b[39;00m\u001b[38;5;21;01m.\u001b[39;00m\u001b[38;5;21;01mdocument_loaders\u001b[39;00m \u001b[38;5;28;01mimport\u001b[39;00m YoutubeLoader\n\u001b[0;32m      5\u001b[0m loader \u001b[38;5;241m=\u001b[39m YoutubeLoader\u001b[38;5;241m.\u001b[39mfrom_youtube_url(\u001b[38;5;124m\"\u001b[39m\u001b[38;5;124mhttps://www.youtube.com/watch?v=DeRGMoybqb8\u001b[39m\u001b[38;5;124m\"\u001b[39m, add_video_info\u001b[38;5;241m=\u001b[39m\u001b[38;5;28;01mFalse\u001b[39;00m)\n\u001b[1;32m----> 6\u001b[0m documents \u001b[38;5;241m=\u001b[39m loader\u001b[38;5;241m.\u001b[39mload()\n\u001b[0;32m      7\u001b[0m documents\n",
      "File \u001b[1;32m~\\anaconda3\\Lib\\site-packages\\langchain_community\\document_loaders\\youtube.py:228\u001b[0m, in \u001b[0;36mYoutubeLoader.load\u001b[1;34m(self)\u001b[0m\n\u001b[0;32m    225\u001b[0m transcript_pieces \u001b[38;5;241m=\u001b[39m transcript\u001b[38;5;241m.\u001b[39mfetch()\n\u001b[0;32m    227\u001b[0m \u001b[38;5;28;01mif\u001b[39;00m \u001b[38;5;28mself\u001b[39m\u001b[38;5;241m.\u001b[39mtranscript_format \u001b[38;5;241m==\u001b[39m TranscriptFormat\u001b[38;5;241m.\u001b[39mTEXT:\n\u001b[1;32m--> 228\u001b[0m     transcript \u001b[38;5;241m=\u001b[39m \u001b[38;5;124m\"\u001b[39m\u001b[38;5;124m \u001b[39m\u001b[38;5;124m\"\u001b[39m\u001b[38;5;241m.\u001b[39mjoin([t[\u001b[38;5;124m\"\u001b[39m\u001b[38;5;124mtext\u001b[39m\u001b[38;5;124m\"\u001b[39m]\u001b[38;5;241m.\u001b[39mstrip(\u001b[38;5;124m\"\u001b[39m\u001b[38;5;124m \u001b[39m\u001b[38;5;124m\"\u001b[39m) \u001b[38;5;28;01mfor\u001b[39;00m t \u001b[38;5;129;01min\u001b[39;00m transcript_pieces])\n\u001b[0;32m    229\u001b[0m     \u001b[38;5;28;01mreturn\u001b[39;00m [Document(page_content\u001b[38;5;241m=\u001b[39mtranscript, metadata\u001b[38;5;241m=\u001b[39mmetadata)]\n\u001b[0;32m    230\u001b[0m \u001b[38;5;28;01melif\u001b[39;00m \u001b[38;5;28mself\u001b[39m\u001b[38;5;241m.\u001b[39mtranscript_format \u001b[38;5;241m==\u001b[39m TranscriptFormat\u001b[38;5;241m.\u001b[39mLINES:\n",
      "File \u001b[1;32m~\\anaconda3\\Lib\\site-packages\\langchain_community\\document_loaders\\youtube.py:228\u001b[0m, in \u001b[0;36m<listcomp>\u001b[1;34m(.0)\u001b[0m\n\u001b[0;32m    225\u001b[0m transcript_pieces \u001b[38;5;241m=\u001b[39m transcript\u001b[38;5;241m.\u001b[39mfetch()\n\u001b[0;32m    227\u001b[0m \u001b[38;5;28;01mif\u001b[39;00m \u001b[38;5;28mself\u001b[39m\u001b[38;5;241m.\u001b[39mtranscript_format \u001b[38;5;241m==\u001b[39m TranscriptFormat\u001b[38;5;241m.\u001b[39mTEXT:\n\u001b[1;32m--> 228\u001b[0m     transcript \u001b[38;5;241m=\u001b[39m \u001b[38;5;124m\"\u001b[39m\u001b[38;5;124m \u001b[39m\u001b[38;5;124m\"\u001b[39m\u001b[38;5;241m.\u001b[39mjoin([t[\u001b[38;5;124m\"\u001b[39m\u001b[38;5;124mtext\u001b[39m\u001b[38;5;124m\"\u001b[39m]\u001b[38;5;241m.\u001b[39mstrip(\u001b[38;5;124m\"\u001b[39m\u001b[38;5;124m \u001b[39m\u001b[38;5;124m\"\u001b[39m) \u001b[38;5;28;01mfor\u001b[39;00m t \u001b[38;5;129;01min\u001b[39;00m transcript_pieces])\n\u001b[0;32m    229\u001b[0m     \u001b[38;5;28;01mreturn\u001b[39;00m [Document(page_content\u001b[38;5;241m=\u001b[39mtranscript, metadata\u001b[38;5;241m=\u001b[39mmetadata)]\n\u001b[0;32m    230\u001b[0m \u001b[38;5;28;01melif\u001b[39;00m \u001b[38;5;28mself\u001b[39m\u001b[38;5;241m.\u001b[39mtranscript_format \u001b[38;5;241m==\u001b[39m TranscriptFormat\u001b[38;5;241m.\u001b[39mLINES:\n",
      "\u001b[1;31mTypeError\u001b[0m: 'FetchedTranscriptSnippet' object is not subscriptable"
     ]
    }
   ],
   "source": [
    "## using langchain\n",
    "\n",
    "from langchain_community.document_loaders import YoutubeLoader\n",
    "\n",
    "loader = YoutubeLoader.from_youtube_url(\"https://www.youtube.com/watch?v=DeRGMoybqb8\", add_video_info=False)\n",
    "documents = loader.load()\n",
    "documents"
   ]
  },
  {
   "cell_type": "markdown",
   "id": "ca5718c4",
   "metadata": {},
   "source": [
    "The error you're encountering—TypeError: 'FetchedTranscriptSnippet' object is not subscriptable—is a known issue with the YoutubeLoader in the langchain_community package. This problem arises due to changes in the underlying youtube-transcript-api library, which altered the structure of the transcript data, leading to incompatibility with the existing YoutubeLoader implementation."
   ]
  },
  {
   "cell_type": "code",
   "execution_count": 9,
   "id": "f7d41886",
   "metadata": {},
   "outputs": [
    {
     "data": {
      "text/plain": [
       "'When Queen Elizabeth I took her final breath, the world lost more than just a monarch. It lost a mystery sealed behind red velvet curtains and iron willpower. As her closest advisers sorted through her chambers, they expected the usual jewels, royal decrees, maybe a few private letters. What they found, however, stopped them cold. A letter not addressed, not signed, just sitting there waiting. And whatever was inside made even the stealiest men in the kingdom go silent. Was it a confession, a warning, or something darker? A truth so heavy Elizabeth couldn\\'t bear to speak it aloud in life. To answer that, we have to go back not just a few years, but to the very day Elizabeth entered the world. It was 1533. England was a boiling pot of rumors, rebellion, and royal scandal. At the center of it all, Anne Berlin, Elizabeth\\'s mother, a bold, ambitious woman who had managed the impossible. She stole the king\\'s heart from Catherine of Araggon, a queen who had ruled beside Henry VIII for over two decades. King Henry broke from the Catholic Church just to marry Anne. That\\'s how badly he wanted her. But what he really wanted was a son. And when Anne gave birth to a daughter instead of a male heir, the king\\'s love began to rot. 3 years later, Anne Berlin was accused of adultery and treason, likely falsely, and sentenced to die. May 19th, 1536. Elizabeth, barely a toddler, lost her mother to the executioner\\'s blade. She would never see her again. But you know what\\'s worse? Just 11 days later, Henry remarried. That\\'s all the time it took for Elizabeth\\'s father to move on from his queen, from his grief, from his daughter. The new wife, Jane Seymour, soon gave him what he wanted. A boy named Edward, a prince, an heir, the son he believed was worth breaking a kingdom for and beheading a queen. From that moment on, Elizabeth was no longer the precious daughter of a king. She was a political inconvenience. A girl born into power, stripped of it, then forced to survive the most dangerous court in Europe with nothing but her wit, her will, and eyes that saw everything. And when she finally took the throne, she never forgot the blood it took to get there. In the 16th century, beauty among England\\'s elite was defined by one thing: skin as white as snow. For noble women, this wasn\\'t just a fashion statement. It was a symbol of power, purity, and high birth. The paler the skin, the higher your status, and no one understood this better than Queen Elizabeth I. But fate would strike a cruel blow. In 1562, Elizabeth fell seriously ill. The diagnosis, smallpox, a brutal and disfiguring disease. Though she survived, it left her physically scarred for life. Her once smooth face was pitted with marks, and she suffered severe hair loss. For a queen whose image was everything, whose very power depended on how her people saw her, this was more than a personal tragedy. It was a political threat. To restore the illusion of perfection, Elizabeth turned to makeup. But not just any makeup. Her signature was a thick ghostly white cosmetic known as Venetian Suse. It gave her that eerie porcelain glow we still associate with her today. On the surface, it masked her scars, but beneath it, danger was quietly building. Venetian suse may have sounded exotic and elegant, but it was made from white lead and vinegar, a deadly combination. Elizabeth would apply heavy layers to her face and neck, creating a flawless illusion, but at a terrible cost. The makeup had a sharp, sour smell. And over time, it did more than cover her skin. It poisoned it. And lead wasn\\'t the only threat. Historical records show Elizabeth also used mercurybased products, including lip color and possibly even a makeup remover that could corrode flesh. By today\\'s standards, we know these heavy metals are incredibly toxic. Long-term exposure can lead to hair loss, skin damage, organ failure, and even death. Yet, Elizabeth used these substances daily for decades. As she aged and fought to maintain the image of eternal youth, it\\'s likely she used even more of these deadly cosmetics. Slowly, silently, her body became a vessel for poison. Her beauty, ironically, may have been killing her from the inside out, but poison wasn\\'t the only thing haunting Elizabeth. By602, the queen\\'s health was visibly failing. She withdrew from court life, grew increasingly frail, and slipped into a deep melancholy. Her sadness was more than physical. It was emotional, too. She had outlived nearly all her closest companions. The death of her dear friend Katherine Kerry in early603 devastated her. But one name lingered heavier than any other. Robert Devaroo, the Earl of Essex. He had once been the great love of her later years, but their relationship ended in betrayal. In601, Elizabeth signed his death warrant for treason. Publicly, she remained composed, but privately she was shattered. One courtier wrote that in her final days, the queen often sat in the dark, weeping, mourning Essex\\'s death, perhaps more over her decision than his crime. As the days wore on, Elizabeth refused all medical attention. Whether from pride, fear, or defiance, she wouldn\\'t let anyone examine her. She even refused to lie down, believing that if she did, she would never rise again. For over 15 hours, she stood upright, her ladies in waiting, surrounding her with pillows in case she collapsed. And then on March 24th,603, the Virgin Queen passed away at Richmond Palace. She was 69 years old. Her death marked the end of an era and the end of the great TUDA dynasty. But the story doesn\\'t end there. We remember Elizabeth as the Virgin Queen, a ruler who famously declared herself married to England. But behind that title was a complex, emotional woman with a heart that had been both full and broken. In her youth, Elizabeth was magnetic with striking red hair, a graceful figure, and a sharp intellect. She lit up every ballroom. Men were drawn to her like moths to flame. Kings and princes proposed marriage. Philip II of Spain, Eric of Sweden, and others. She entertained their offers but never accepted. And yet her life was far from loveless. The first great name in her story of romance was Robert Dudley, her childhood friend, her confidant, and many believe her first true love. From the moment she became queen, rumors of their relationship swirled. Dudley was married, but his connection to Elizabeth was impossible to ignore. She granted him privileges no other man enjoyed, including access to her private chambers at any hour. The world speculated, the court whispered, but Elizabeth never married him or anyone. Perhaps she feared becoming a porn like her mother, Anne Berlin. Perhaps her heart was broken one too many times. Or perhaps England truly was the only partner she ever trusted. In 1560, a tragic event shook the English court. Robert Dudley\\'s wife, Amy Robsart, was found dead at the bottom of a staircase. Her neck was broken. Officially, it was ruled an accident, but the whispers began immediately. Had she fallen or had she been pushed? The rumors were vicious. Some believed that Dudley or even Queen Elizabeth herself had arranged Amy\\'s death to clear the way for marriage, but no marriage followed. Despite the scandal, Elizabeth and Dudley remained close for years. Still, she never once publicly considered marrying him. Why? Perhaps she knew the damage it would do to her image. Or maybe she feared losing her independence. Even with many suitors to come, some say Robert Dudley was Elizabeth\\'s first and only true love. But hearts can shift and court life never stays still. In 1578, Dudley remarried. The Queen was furious, but she moved on, at least outwardly. By 1579, a new man entered her life. Francois, Duke of Anju, younger brother of the king of France. He was introduced as a serious marriage prospect. There was just one problem or several. Francois was about 20 years old while Elizabeth was now well into her 40s. He was short, had a pockmarked face from smallpox, and rumors swirled about his unusual behavior and personal tastes. Still, Elizabeth appeared genuinely taken with him. She even named her pet frog after him, an oddly tender gesture for a queen. Despite public mockery and fierce opposition from her court, Francois returned to England in 1581 and to Elizabeth\\'s delight. What happened next shocked everyone. She publicly announced her intention to marry him. They exchanged rings in front of the court and her affection was clear for all to see. But by the next day, she changed her mind. The engagement was off and with it the last hope the court had that Elizabeth would ever marry. From then on any romances she entertained never ended in wedding bells, only titles and rumors. And then came the most dramatic love story of her life. Robert Dearoo, the Earl of Essex, Dudley\\'s own stepson, was only 22 when he caught the Queen\\'s eye in 1589. Elizabeth was 56. The age gap was wide, but Essex was young, dashing, clever, and full of charm. Whatever the nature of their relationship, it stirred intense passion. When Essex secretly married Francis Walssingham the next year, Elizabeth was livid. She screamed. She raged. and Essex, desperate to win her back, turned to poetry, writing verses that praised her beauty and tried to mend her wounded pride. Despite everything, Elizabeth brought him back into favor and even into government affairs. From 1591 on, she gave him military responsibilities, but Essex was reckless, brilliant in some moments, disastrous in others. He exploited the queen\\'s favor, swinging between bold ambition and childish arrogance. Once during a heated argument in 1597, Elizabeth slapped him across the face and shouted, \"Go and be hanged.\" Yet even then, she couldn\\'t fully let go. In 1599, she appointed him Lord Lieutenant of Ireland, sending him to suppress a major rebellion. He led 16,000 troops, one of the largest forces ever sent to Ireland, but failed miserably. Poor strategy and negotiation led to an embarrassing truce with the rebel leader, the Earl of Tyrone. It was a political disaster. Then Essex made a fatal mistake. On September 28th, 1599, he burst into the queen\\'s private chambers, unannounced and still in his dirty riding boots. Elizabeth had just woken up. She wasn\\'t wearing her wig, her jewels, or even her signature makeup. No man had ever seen her like this, not as the majestic queen, but as an old, frail woman. It was a deep violation of royal protocol and of trust. She had him arrested and stripped of his titles. Though he was eventually released, he didn\\'t learn his lesson. In February6001, in a final act of desperation, Essex attempted a coup. He planned to seize control of London, storm the tower, and force Elizabeth to name him her successor and protector. It was a spectacular failure. The rebellion collapsed within hours. This time, Elizabeth\\'s patience ran out. On February 24th,601, Essex was found guilty of treason and sentenced to death. When asked if she wished to show mercy, Elizabeth responded with a chilling clarity. All that he has done against myself, I can pardon, but I cannot pardon anyone who attempts to harm England. She signed his death warrant. The next morning, Robert Devo was beheaded outside the palace. It was a brutal end to her most intense and final romance. Looking back, one question lingers. Why did Queen Elizabeth never marry? She had admirers, lovers, and political suitors. She clearly wasn\\'t indifferent to romance, and yet she chose solitude. Why? Some say she feared losing power. Others believe she couldn\\'t trust marriage after watching her mother, Anne Berlin, be executed by her father. Maybe, just maybe, she believed that by marrying no man, she could belong to all of England. When Elizabeth died in 16003, she left no heir. With her, the great Tuda dynasty came to an end. Her successor was King James V 6th of Scotland, who became James Ist of England, uniting the two kingdoms under one crown for the first time. Her 45-year reign is remembered as a golden age, a time of peace, progress, and power. Shakespeare wrote his greatest plays. The English Navy crushed the Spanish Armada. Art, culture, and exploration flourished. She had given England what her father, Henry VIII, had longed for, stability, and glory. In the end, Elizabeth\\'s greatest legacy wasn\\'t a husband or an heir. It was England itself. And in a way, that\\'s exactly what she always wanted. Henry VIII tried to erase Anne Berlin from history. But fate had other plans. Her daughter rose from the shadow of scandal and execution to become one of the greatest monarchs England ever knew. Elizabeth didn\\'t just survive. She reigned. And in doing so, she fulfilled her mother\\'s legacy, building an empire on the very sacrifice that had once doomed her family. But now, let\\'s return to that final moment. The queen was gone. The Virgin Queen, the monarch who ruled alone for 45 years, had passed. And in the silence that followed, her advisers discovered a sealed letter, one written in Elizabeth\\'s own hand. What they read inside chilled them to the bone. Could it have been a confession, a secret she had carried for decades, finally laid bare? Was it a final testament? A warning about England\\'s future or something far darker? Could it have been the horrifying truth of how the white paints and powders she wore for decades had poisoned her slowly from the inside? And this was what truly made their blood run cold, was the letter about the one thing Elizabeth had always refused to speak of, the succession. She had never publicly named an heir. But had she done so in private in this letter, was there something in those pages that could have changed everything? What do you think was written in that final message? Was it a revelation or a farewell? Let us know your theory in the comments below. And if you love strange, mysterious, and powerful stories from history, don\\'t forget to like, subscribe, and turn on notifications. We have so much more to uncover. Thanks for watching and until next time, remember history always has secrets. It\\'s just waiting for us to find [Music]'"
      ]
     },
     "execution_count": 9,
     "metadata": {},
     "output_type": "execute_result"
    }
   ],
   "source": [
    "from youtube_transcript_api import YouTubeTranscriptApi\n",
    "from langchain_core.documents import Document\n",
    "\n",
    "# Replace with your desired YouTube video ID\n",
    "video_id = \"DeRGMoybqb8\"\n",
    "\n",
    "# Fetch the transcript\n",
    "transcript = YouTubeTranscriptApi.get_transcript(video_id)\n",
    "\n",
    "# Combine transcript segments into a single string\n",
    "full_transcript = \" \".join([entry[\"text\"] for entry in transcript])\n",
    "\n",
    "# Create a LangChain Document\n",
    "document = Document(page_content=full_transcript, metadata={\"source\": f\"https://www.youtube.com/watch?v={video_id}\"})\n",
    "\n",
    "# Now you can use 'document' in your RAG pipeline\n",
    "document.page_content"
   ]
  },
  {
   "cell_type": "code",
   "execution_count": null,
   "id": "62eec973",
   "metadata": {},
   "outputs": [],
   "source": []
  },
  {
   "cell_type": "code",
   "execution_count": null,
   "id": "0c0a2911",
   "metadata": {},
   "outputs": [],
   "source": []
  },
  {
   "cell_type": "code",
   "execution_count": 10,
   "id": "c76892a9",
   "metadata": {
    "scrolled": true
   },
   "outputs": [
    {
     "name": "stdout",
     "output_type": "stream",
     "text": [
      "Collecting pytube\n",
      "  Downloading pytube-15.0.0-py3-none-any.whl.metadata (5.0 kB)\n",
      "Collecting openai-whisper\n",
      "  Downloading openai-whisper-20240930.tar.gz (800 kB)\n",
      "     ---------------------------------------- 0.0/800.5 kB ? eta -:--:--\n",
      "     ------------------------------------- 800.5/800.5 kB 17.4 MB/s eta 0:00:00\n",
      "  Installing build dependencies: started\n",
      "  Installing build dependencies: finished with status 'done'\n",
      "  Getting requirements to build wheel: started\n",
      "  Getting requirements to build wheel: finished with status 'done'\n",
      "  Preparing metadata (pyproject.toml): started\n",
      "  Preparing metadata (pyproject.toml): finished with status 'done'\n",
      "Requirement already satisfied: numba in c:\\users\\jitendranayak\\anaconda3\\lib\\site-packages (from openai-whisper) (0.57.1)\n",
      "Requirement already satisfied: numpy in c:\\users\\jitendranayak\\anaconda3\\lib\\site-packages (from openai-whisper) (1.24.3)\n",
      "Requirement already satisfied: torch in c:\\users\\jitendranayak\\anaconda3\\lib\\site-packages (from openai-whisper) (2.1.2)\n",
      "Requirement already satisfied: tqdm in c:\\users\\jitendranayak\\anaconda3\\lib\\site-packages (from openai-whisper) (4.66.2)\n",
      "Requirement already satisfied: more-itertools in c:\\users\\jitendranayak\\anaconda3\\lib\\site-packages (from openai-whisper) (8.12.0)\n",
      "Requirement already satisfied: tiktoken in c:\\users\\jitendranayak\\anaconda3\\lib\\site-packages (from openai-whisper) (0.6.0)\n",
      "Requirement already satisfied: llvmlite<0.41,>=0.40.0dev0 in c:\\users\\jitendranayak\\anaconda3\\lib\\site-packages (from numba->openai-whisper) (0.40.0)\n",
      "Requirement already satisfied: regex>=2022.1.18 in c:\\users\\jitendranayak\\anaconda3\\lib\\site-packages (from tiktoken->openai-whisper) (2022.7.9)\n",
      "Requirement already satisfied: requests>=2.26.0 in c:\\users\\jitendranayak\\anaconda3\\lib\\site-packages (from tiktoken->openai-whisper) (2.32.2)\n",
      "Requirement already satisfied: filelock in c:\\users\\jitendranayak\\anaconda3\\lib\\site-packages (from torch->openai-whisper) (3.13.1)\n",
      "Requirement already satisfied: typing-extensions in c:\\users\\jitendranayak\\anaconda3\\lib\\site-packages (from torch->openai-whisper) (4.12.2)\n",
      "Requirement already satisfied: sympy in c:\\users\\jitendranayak\\anaconda3\\lib\\site-packages (from torch->openai-whisper) (1.11.1)\n",
      "Requirement already satisfied: networkx in c:\\users\\jitendranayak\\anaconda3\\lib\\site-packages (from torch->openai-whisper) (3.1)\n",
      "Requirement already satisfied: jinja2 in c:\\users\\jitendranayak\\anaconda3\\lib\\site-packages (from torch->openai-whisper) (3.1.2)\n",
      "Requirement already satisfied: fsspec in c:\\users\\jitendranayak\\anaconda3\\lib\\site-packages (from torch->openai-whisper) (2023.12.2)\n",
      "Requirement already satisfied: colorama in c:\\users\\jitendranayak\\anaconda3\\lib\\site-packages (from tqdm->openai-whisper) (0.4.6)\n",
      "Requirement already satisfied: charset-normalizer<4,>=2 in c:\\users\\jitendranayak\\anaconda3\\lib\\site-packages (from requests>=2.26.0->tiktoken->openai-whisper) (2.0.4)\n",
      "Requirement already satisfied: idna<4,>=2.5 in c:\\users\\jitendranayak\\anaconda3\\lib\\site-packages (from requests>=2.26.0->tiktoken->openai-whisper) (3.4)\n",
      "Requirement already satisfied: urllib3<3,>=1.21.1 in c:\\users\\jitendranayak\\anaconda3\\lib\\site-packages (from requests>=2.26.0->tiktoken->openai-whisper) (2.2.1)\n",
      "Requirement already satisfied: certifi>=2017.4.17 in c:\\users\\jitendranayak\\anaconda3\\lib\\site-packages (from requests>=2.26.0->tiktoken->openai-whisper) (2024.2.2)\n",
      "Requirement already satisfied: MarkupSafe>=2.0 in c:\\users\\jitendranayak\\anaconda3\\lib\\site-packages (from jinja2->torch->openai-whisper) (2.1.1)\n",
      "Requirement already satisfied: mpmath>=0.19 in c:\\users\\jitendranayak\\anaconda3\\lib\\site-packages (from sympy->torch->openai-whisper) (1.3.0)\n",
      "Downloading pytube-15.0.0-py3-none-any.whl (57 kB)\n",
      "Building wheels for collected packages: openai-whisper\n",
      "  Building wheel for openai-whisper (pyproject.toml): started\n",
      "  Building wheel for openai-whisper (pyproject.toml): finished with status 'done'\n",
      "  Created wheel for openai-whisper: filename=openai_whisper-20240930-py3-none-any.whl size=803437 sha256=602a0ee89524482126f5a81a1e0cee39ed37da10f615d89e576da9208f340c3d\n",
      "  Stored in directory: c:\\users\\jitendranayak\\appdata\\local\\pip\\cache\\wheels\\2f\\f2\\ce\\6eb23db4091d026238ce76703bd66da60b969d70bcc81d5d3a\n",
      "Successfully built openai-whisper\n",
      "Installing collected packages: pytube, openai-whisper\n",
      "Successfully installed openai-whisper-20240930 pytube-15.0.0\n",
      "Note: you may need to restart the kernel to use updated packages.\n"
     ]
    },
    {
     "name": "stderr",
     "output_type": "stream",
     "text": [
      "WARNING: Ignoring invalid distribution ~etuptools (C:\\Users\\JitendraNayak\\anaconda3\\Lib\\site-packages)\n",
      "WARNING: Ignoring invalid distribution ~etuptools (C:\\Users\\JitendraNayak\\anaconda3\\Lib\\site-packages)\n",
      "WARNING: Ignoring invalid distribution ~etuptools (C:\\Users\\JitendraNayak\\anaconda3\\Lib\\site-packages)\n",
      "\n",
      "[notice] A new release of pip is available: 24.3.1 -> 25.1.1\n",
      "[notice] To update, run: python.exe -m pip install --upgrade pip\n"
     ]
    }
   ],
   "source": [
    "pip install pytube openai-whisper"
   ]
  },
  {
   "cell_type": "code",
   "execution_count": 11,
   "id": "456de706",
   "metadata": {},
   "outputs": [
    {
     "ename": "TypeError",
     "evalue": "YoutubeAudioLoader.__init__() missing 1 required positional argument: 'save_dir'",
     "output_type": "error",
     "traceback": [
      "\u001b[1;31m---------------------------------------------------------------------------\u001b[0m",
      "\u001b[1;31mTypeError\u001b[0m                                 Traceback (most recent call last)",
      "Cell \u001b[1;32mIn[11], line 8\u001b[0m\n\u001b[0;32m      5\u001b[0m video_url \u001b[38;5;241m=\u001b[39m \u001b[38;5;124m\"\u001b[39m\u001b[38;5;124mhttps://www.youtube.com/watch?v=DeRGMoybqb8\u001b[39m\u001b[38;5;124m\"\u001b[39m\n\u001b[0;32m      7\u001b[0m \u001b[38;5;66;03m# Initialize the loader\u001b[39;00m\n\u001b[1;32m----> 8\u001b[0m loader \u001b[38;5;241m=\u001b[39m YoutubeAudioLoader(video_url)\n\u001b[0;32m     10\u001b[0m \u001b[38;5;66;03m# Load and transcribe\u001b[39;00m\n\u001b[0;32m     11\u001b[0m documents \u001b[38;5;241m=\u001b[39m loader\u001b[38;5;241m.\u001b[39mload()\n",
      "\u001b[1;31mTypeError\u001b[0m: YoutubeAudioLoader.__init__() missing 1 required positional argument: 'save_dir'"
     ]
    }
   ],
   "source": [
    "from langchain_community.document_loaders import YoutubeAudioLoader\n",
    "from langchain_core.documents import Document\n",
    "\n",
    "# Replace with your desired YouTube video URL\n",
    "video_url = \"https://www.youtube.com/watch?v=DeRGMoybqb8\"\n",
    "\n",
    "# Initialize the loader\n",
    "loader = YoutubeAudioLoader(video_url)\n",
    "\n",
    "# Load and transcribe\n",
    "documents = loader.load()\n",
    "\n",
    "# 'documents' now contains the transcribed text\n",
    "documents"
   ]
  },
  {
   "cell_type": "code",
   "execution_count": 2,
   "id": "861c06ac",
   "metadata": {
    "scrolled": true
   },
   "outputs": [
    {
     "name": "stdout",
     "output_type": "stream",
     "text": [
      "Collecting yt_dlp\n",
      "  Downloading yt_dlp-2025.5.22-py3-none-any.whl.metadata (174 kB)\n",
      "Requirement already satisfied: openai-whisper in c:\\users\\jitendranayak\\anaconda3\\lib\\site-packages (20240930)\n",
      "Requirement already satisfied: numba in c:\\users\\jitendranayak\\anaconda3\\lib\\site-packages (from openai-whisper) (0.57.1)\n",
      "Requirement already satisfied: numpy in c:\\users\\jitendranayak\\anaconda3\\lib\\site-packages (from openai-whisper) (1.24.3)\n",
      "Requirement already satisfied: torch in c:\\users\\jitendranayak\\anaconda3\\lib\\site-packages (from openai-whisper) (2.1.2)\n",
      "Requirement already satisfied: tqdm in c:\\users\\jitendranayak\\anaconda3\\lib\\site-packages (from openai-whisper) (4.66.2)\n",
      "Requirement already satisfied: more-itertools in c:\\users\\jitendranayak\\anaconda3\\lib\\site-packages (from openai-whisper) (8.12.0)\n",
      "Requirement already satisfied: tiktoken in c:\\users\\jitendranayak\\anaconda3\\lib\\site-packages (from openai-whisper) (0.6.0)\n",
      "Requirement already satisfied: llvmlite<0.41,>=0.40.0dev0 in c:\\users\\jitendranayak\\anaconda3\\lib\\site-packages (from numba->openai-whisper) (0.40.0)\n",
      "Requirement already satisfied: regex>=2022.1.18 in c:\\users\\jitendranayak\\anaconda3\\lib\\site-packages (from tiktoken->openai-whisper) (2022.7.9)\n",
      "Requirement already satisfied: requests>=2.26.0 in c:\\users\\jitendranayak\\anaconda3\\lib\\site-packages (from tiktoken->openai-whisper) (2.32.2)\n",
      "Requirement already satisfied: filelock in c:\\users\\jitendranayak\\anaconda3\\lib\\site-packages (from torch->openai-whisper) (3.13.1)\n",
      "Requirement already satisfied: typing-extensions in c:\\users\\jitendranayak\\anaconda3\\lib\\site-packages (from torch->openai-whisper) (4.12.2)\n",
      "Requirement already satisfied: sympy in c:\\users\\jitendranayak\\anaconda3\\lib\\site-packages (from torch->openai-whisper) (1.11.1)\n",
      "Requirement already satisfied: networkx in c:\\users\\jitendranayak\\anaconda3\\lib\\site-packages (from torch->openai-whisper) (3.1)\n",
      "Requirement already satisfied: jinja2 in c:\\users\\jitendranayak\\anaconda3\\lib\\site-packages (from torch->openai-whisper) (3.1.2)\n",
      "Requirement already satisfied: fsspec in c:\\users\\jitendranayak\\anaconda3\\lib\\site-packages (from torch->openai-whisper) (2023.12.2)\n",
      "Requirement already satisfied: colorama in c:\\users\\jitendranayak\\anaconda3\\lib\\site-packages (from tqdm->openai-whisper) (0.4.6)\n",
      "Requirement already satisfied: charset-normalizer<4,>=2 in c:\\users\\jitendranayak\\anaconda3\\lib\\site-packages (from requests>=2.26.0->tiktoken->openai-whisper) (2.0.4)\n",
      "Requirement already satisfied: idna<4,>=2.5 in c:\\users\\jitendranayak\\anaconda3\\lib\\site-packages (from requests>=2.26.0->tiktoken->openai-whisper) (3.4)\n",
      "Requirement already satisfied: urllib3<3,>=1.21.1 in c:\\users\\jitendranayak\\anaconda3\\lib\\site-packages (from requests>=2.26.0->tiktoken->openai-whisper) (2.2.1)\n",
      "Requirement already satisfied: certifi>=2017.4.17 in c:\\users\\jitendranayak\\anaconda3\\lib\\site-packages (from requests>=2.26.0->tiktoken->openai-whisper) (2024.2.2)\n",
      "Requirement already satisfied: MarkupSafe>=2.0 in c:\\users\\jitendranayak\\anaconda3\\lib\\site-packages (from jinja2->torch->openai-whisper) (2.1.1)\n",
      "Requirement already satisfied: mpmath>=0.19 in c:\\users\\jitendranayak\\anaconda3\\lib\\site-packages (from sympy->torch->openai-whisper) (1.3.0)\n",
      "Downloading yt_dlp-2025.5.22-py3-none-any.whl (3.3 MB)\n",
      "   ---------------------------------------- 0.0/3.3 MB ? eta -:--:--\n",
      "   ---------------------------------------- 3.3/3.3 MB 21.4 MB/s eta 0:00:00\n",
      "Installing collected packages: yt_dlp\n",
      "Successfully installed yt_dlp-2025.5.22\n",
      "Note: you may need to restart the kernel to use updated packages.\n"
     ]
    },
    {
     "name": "stderr",
     "output_type": "stream",
     "text": [
      "WARNING: Ignoring invalid distribution ~etuptools (C:\\Users\\JitendraNayak\\anaconda3\\Lib\\site-packages)\n",
      "WARNING: Ignoring invalid distribution ~etuptools (C:\\Users\\JitendraNayak\\anaconda3\\Lib\\site-packages)\n",
      "WARNING: Ignoring invalid distribution ~etuptools (C:\\Users\\JitendraNayak\\anaconda3\\Lib\\site-packages)\n",
      "\n",
      "[notice] A new release of pip is available: 24.3.1 -> 25.1.1\n",
      "[notice] To update, run: python.exe -m pip install --upgrade pip\n"
     ]
    }
   ],
   "source": [
    "pip install yt_dlp openai-whisper"
   ]
  },
  {
   "cell_type": "code",
   "execution_count": 3,
   "id": "597adfc0",
   "metadata": {
    "scrolled": true
   },
   "outputs": [
    {
     "name": "stdout",
     "output_type": "stream",
     "text": [
      "[youtube] Extracting URL: https://www.youtube.com/watch?v=DeRGMoybqb8\n",
      "[youtube] DeRGMoybqb8: Downloading webpage\n",
      "[youtube] DeRGMoybqb8: Downloading tv client config\n",
      "[youtube] DeRGMoybqb8: Downloading player 91e7c654-main\n",
      "[youtube] DeRGMoybqb8: Downloading tv player API JSON\n",
      "[youtube] DeRGMoybqb8: Downloading ios player API JSON\n",
      "[youtube] DeRGMoybqb8: Downloading m3u8 information\n",
      "[info] DeRGMoybqb8: Downloading 1 format(s): 140-8\n",
      "[download] Destination: youtube_audio\\The Horrible Death of Queen Elizabeth I ｜ Dark History of the Virgin Queen.m4a\n",
      "[download] 100% of   15.64MiB in 00:00:01 at 15.28MiB/s    \n"
     ]
    },
    {
     "name": "stderr",
     "output_type": "stream",
     "text": [
      "WARNING: DeRGMoybqb8: writing DASH m4a. Only some players support this container. Install ffmpeg to fix this automatically\n",
      "ERROR: Postprocessing: ffprobe and ffmpeg not found. Please install or provide the path using --ffmpeg-location\n"
     ]
    },
    {
     "ename": "DownloadError",
     "evalue": "ERROR: Postprocessing: ffprobe and ffmpeg not found. Please install or provide the path using --ffmpeg-location",
     "output_type": "error",
     "traceback": [
      "\u001b[1;31m---------------------------------------------------------------------------\u001b[0m",
      "\u001b[1;31mPostProcessingError\u001b[0m                       Traceback (most recent call last)",
      "File \u001b[1;32m~\\anaconda3\\Lib\\site-packages\\yt_dlp\\YoutubeDL.py:3595\u001b[0m, in \u001b[0;36mYoutubeDL.process_info\u001b[1;34m(self, info_dict)\u001b[0m\n\u001b[0;32m   3594\u001b[0m \u001b[38;5;28;01mtry\u001b[39;00m:\n\u001b[1;32m-> 3595\u001b[0m     replace_info_dict(\u001b[38;5;28mself\u001b[39m\u001b[38;5;241m.\u001b[39mpost_process(dl_filename, info_dict, files_to_move))\n\u001b[0;32m   3596\u001b[0m \u001b[38;5;28;01mexcept\u001b[39;00m PostProcessingError \u001b[38;5;28;01mas\u001b[39;00m err:\n",
      "File \u001b[1;32m~\\anaconda3\\Lib\\site-packages\\yt_dlp\\YoutubeDL.py:3779\u001b[0m, in \u001b[0;36mYoutubeDL.post_process\u001b[1;34m(self, filename, info, files_to_move)\u001b[0m\n\u001b[0;32m   3778\u001b[0m info[\u001b[38;5;124m'\u001b[39m\u001b[38;5;124m__files_to_move\u001b[39m\u001b[38;5;124m'\u001b[39m] \u001b[38;5;241m=\u001b[39m files_to_move \u001b[38;5;129;01mor\u001b[39;00m {}\n\u001b[1;32m-> 3779\u001b[0m info \u001b[38;5;241m=\u001b[39m \u001b[38;5;28mself\u001b[39m\u001b[38;5;241m.\u001b[39mrun_all_pps(\u001b[38;5;124m'\u001b[39m\u001b[38;5;124mpost_process\u001b[39m\u001b[38;5;124m'\u001b[39m, info, additional_pps\u001b[38;5;241m=\u001b[39minfo\u001b[38;5;241m.\u001b[39mget(\u001b[38;5;124m'\u001b[39m\u001b[38;5;124m__postprocessors\u001b[39m\u001b[38;5;124m'\u001b[39m))\n\u001b[0;32m   3780\u001b[0m info \u001b[38;5;241m=\u001b[39m \u001b[38;5;28mself\u001b[39m\u001b[38;5;241m.\u001b[39mrun_pp(MoveFilesAfterDownloadPP(\u001b[38;5;28mself\u001b[39m), info)\n",
      "File \u001b[1;32m~\\anaconda3\\Lib\\site-packages\\yt_dlp\\YoutubeDL.py:3761\u001b[0m, in \u001b[0;36mYoutubeDL.run_all_pps\u001b[1;34m(self, key, info, additional_pps)\u001b[0m\n\u001b[0;32m   3760\u001b[0m \u001b[38;5;28;01mfor\u001b[39;00m pp \u001b[38;5;129;01min\u001b[39;00m (additional_pps \u001b[38;5;129;01mor\u001b[39;00m []) \u001b[38;5;241m+\u001b[39m \u001b[38;5;28mself\u001b[39m\u001b[38;5;241m.\u001b[39m_pps[key]:\n\u001b[1;32m-> 3761\u001b[0m     info \u001b[38;5;241m=\u001b[39m \u001b[38;5;28mself\u001b[39m\u001b[38;5;241m.\u001b[39mrun_pp(pp, info)\n\u001b[0;32m   3762\u001b[0m \u001b[38;5;28;01mreturn\u001b[39;00m info\n",
      "File \u001b[1;32m~\\anaconda3\\Lib\\site-packages\\yt_dlp\\YoutubeDL.py:3739\u001b[0m, in \u001b[0;36mYoutubeDL.run_pp\u001b[1;34m(self, pp, infodict)\u001b[0m\n\u001b[0;32m   3738\u001b[0m \u001b[38;5;28;01mtry\u001b[39;00m:\n\u001b[1;32m-> 3739\u001b[0m     files_to_delete, infodict \u001b[38;5;241m=\u001b[39m pp\u001b[38;5;241m.\u001b[39mrun(infodict)\n\u001b[0;32m   3740\u001b[0m \u001b[38;5;28;01mexcept\u001b[39;00m PostProcessingError \u001b[38;5;28;01mas\u001b[39;00m e:\n\u001b[0;32m   3741\u001b[0m     \u001b[38;5;66;03m# Must be True and not 'only_download'\u001b[39;00m\n",
      "File \u001b[1;32m~\\anaconda3\\Lib\\site-packages\\yt_dlp\\postprocessor\\common.py:23\u001b[0m, in \u001b[0;36mPostProcessorMetaClass.run_wrapper.<locals>.run\u001b[1;34m(self, info, *args, **kwargs)\u001b[0m\n\u001b[0;32m     22\u001b[0m \u001b[38;5;28mself\u001b[39m\u001b[38;5;241m.\u001b[39m_hook_progress({\u001b[38;5;124m'\u001b[39m\u001b[38;5;124mstatus\u001b[39m\u001b[38;5;124m'\u001b[39m: \u001b[38;5;124m'\u001b[39m\u001b[38;5;124mstarted\u001b[39m\u001b[38;5;124m'\u001b[39m}, info_copy)\n\u001b[1;32m---> 23\u001b[0m ret \u001b[38;5;241m=\u001b[39m func(\u001b[38;5;28mself\u001b[39m, info, \u001b[38;5;241m*\u001b[39margs, \u001b[38;5;241m*\u001b[39m\u001b[38;5;241m*\u001b[39mkwargs)\n\u001b[0;32m     24\u001b[0m \u001b[38;5;28;01mif\u001b[39;00m ret \u001b[38;5;129;01mis\u001b[39;00m \u001b[38;5;129;01mnot\u001b[39;00m \u001b[38;5;28;01mNone\u001b[39;00m:\n",
      "File \u001b[1;32m~\\anaconda3\\Lib\\site-packages\\yt_dlp\\postprocessor\\common.py:128\u001b[0m, in \u001b[0;36mPostProcessor._restrict_to.<locals>.decorator.<locals>.wrapper\u001b[1;34m(self, info)\u001b[0m\n\u001b[0;32m    127\u001b[0m \u001b[38;5;28;01mif\u001b[39;00m allowed[format_type]:\n\u001b[1;32m--> 128\u001b[0m     \u001b[38;5;28;01mreturn\u001b[39;00m func(\u001b[38;5;28mself\u001b[39m, info)\n\u001b[0;32m    129\u001b[0m \u001b[38;5;28;01melse\u001b[39;00m:\n",
      "File \u001b[1;32m~\\anaconda3\\Lib\\site-packages\\yt_dlp\\postprocessor\\ffmpeg.py:493\u001b[0m, in \u001b[0;36mFFmpegExtractAudioPP.run\u001b[1;34m(self, information)\u001b[0m\n\u001b[0;32m    491\u001b[0m     \u001b[38;5;28;01mreturn\u001b[39;00m [], information\n\u001b[1;32m--> 493\u001b[0m filecodec \u001b[38;5;241m=\u001b[39m \u001b[38;5;28mself\u001b[39m\u001b[38;5;241m.\u001b[39mget_audio_codec(path)\n\u001b[0;32m    494\u001b[0m \u001b[38;5;28;01mif\u001b[39;00m filecodec \u001b[38;5;129;01mis\u001b[39;00m \u001b[38;5;28;01mNone\u001b[39;00m:\n",
      "File \u001b[1;32m~\\anaconda3\\Lib\\site-packages\\yt_dlp\\postprocessor\\ffmpeg.py:241\u001b[0m, in \u001b[0;36mFFmpegPostProcessor.get_audio_codec\u001b[1;34m(self, path)\u001b[0m\n\u001b[0;32m    240\u001b[0m \u001b[38;5;28;01mif\u001b[39;00m \u001b[38;5;129;01mnot\u001b[39;00m \u001b[38;5;28mself\u001b[39m\u001b[38;5;241m.\u001b[39mprobe_available \u001b[38;5;129;01mand\u001b[39;00m \u001b[38;5;129;01mnot\u001b[39;00m \u001b[38;5;28mself\u001b[39m\u001b[38;5;241m.\u001b[39mavailable:\n\u001b[1;32m--> 241\u001b[0m     \u001b[38;5;28;01mraise\u001b[39;00m PostProcessingError(\u001b[38;5;124m'\u001b[39m\u001b[38;5;124mffprobe and ffmpeg not found. Please install or provide the path using --ffmpeg-location\u001b[39m\u001b[38;5;124m'\u001b[39m)\n\u001b[0;32m    242\u001b[0m \u001b[38;5;28;01mtry\u001b[39;00m:\n",
      "\u001b[1;31mPostProcessingError\u001b[0m: ffprobe and ffmpeg not found. Please install or provide the path using --ffmpeg-location",
      "\nDuring handling of the above exception, another exception occurred:\n",
      "\u001b[1;31mDownloadError\u001b[0m                             Traceback (most recent call last)",
      "Cell \u001b[1;32mIn[3], line 18\u001b[0m\n\u001b[0;32m     12\u001b[0m loader \u001b[38;5;241m=\u001b[39m GenericLoader(\n\u001b[0;32m     13\u001b[0m     YoutubeAudioLoader(urls\u001b[38;5;241m=\u001b[39m[video_url], save_dir\u001b[38;5;241m=\u001b[39msave_dir),\n\u001b[0;32m     14\u001b[0m     OpenAIWhisperParser()\n\u001b[0;32m     15\u001b[0m )\n\u001b[0;32m     17\u001b[0m \u001b[38;5;66;03m# Load and transcribe\u001b[39;00m\n\u001b[1;32m---> 18\u001b[0m documents \u001b[38;5;241m=\u001b[39m loader\u001b[38;5;241m.\u001b[39mload()\n\u001b[0;32m     20\u001b[0m \u001b[38;5;66;03m# 'documents' now contains the transcribed text\u001b[39;00m\n\u001b[0;32m     21\u001b[0m \u001b[38;5;28mprint\u001b[39m(documents)\n",
      "File \u001b[1;32m~\\anaconda3\\Lib\\site-packages\\langchain_community\\document_loaders\\generic.py:120\u001b[0m, in \u001b[0;36mGenericLoader.load\u001b[1;34m(self)\u001b[0m\n\u001b[0;32m    118\u001b[0m \u001b[38;5;28;01mdef\u001b[39;00m \u001b[38;5;21mload\u001b[39m(\u001b[38;5;28mself\u001b[39m) \u001b[38;5;241m-\u001b[39m\u001b[38;5;241m>\u001b[39m List[Document]:\n\u001b[0;32m    119\u001b[0m \u001b[38;5;250m    \u001b[39m\u001b[38;5;124;03m\"\"\"Load all documents.\"\"\"\u001b[39;00m\n\u001b[1;32m--> 120\u001b[0m     \u001b[38;5;28;01mreturn\u001b[39;00m \u001b[38;5;28mlist\u001b[39m(\u001b[38;5;28mself\u001b[39m\u001b[38;5;241m.\u001b[39mlazy_load())\n",
      "File \u001b[1;32m~\\anaconda3\\Lib\\site-packages\\langchain_community\\document_loaders\\generic.py:115\u001b[0m, in \u001b[0;36mGenericLoader.lazy_load\u001b[1;34m(self)\u001b[0m\n\u001b[0;32m    111\u001b[0m \u001b[38;5;28;01mdef\u001b[39;00m \u001b[38;5;21mlazy_load\u001b[39m(\n\u001b[0;32m    112\u001b[0m     \u001b[38;5;28mself\u001b[39m,\n\u001b[0;32m    113\u001b[0m ) \u001b[38;5;241m-\u001b[39m\u001b[38;5;241m>\u001b[39m Iterator[Document]:\n\u001b[0;32m    114\u001b[0m \u001b[38;5;250m    \u001b[39m\u001b[38;5;124;03m\"\"\"Load documents lazily. Use this when working at a large scale.\"\"\"\u001b[39;00m\n\u001b[1;32m--> 115\u001b[0m     \u001b[38;5;28;01mfor\u001b[39;00m blob \u001b[38;5;129;01min\u001b[39;00m \u001b[38;5;28mself\u001b[39m\u001b[38;5;241m.\u001b[39mblob_loader\u001b[38;5;241m.\u001b[39myield_blobs():\n\u001b[0;32m    116\u001b[0m         \u001b[38;5;28;01myield from\u001b[39;00m \u001b[38;5;28mself\u001b[39m\u001b[38;5;241m.\u001b[39mblob_parser\u001b[38;5;241m.\u001b[39mlazy_parse(blob)\n",
      "File \u001b[1;32m~\\anaconda3\\Lib\\site-packages\\langchain_community\\document_loaders\\blob_loaders\\youtube_audio.py:45\u001b[0m, in \u001b[0;36mYoutubeAudioLoader.yield_blobs\u001b[1;34m(self)\u001b[0m\n\u001b[0;32m     42\u001b[0m \u001b[38;5;28;01mfor\u001b[39;00m url \u001b[38;5;129;01min\u001b[39;00m \u001b[38;5;28mself\u001b[39m\u001b[38;5;241m.\u001b[39murls:\n\u001b[0;32m     43\u001b[0m     \u001b[38;5;66;03m# Download file\u001b[39;00m\n\u001b[0;32m     44\u001b[0m     \u001b[38;5;28;01mwith\u001b[39;00m yt_dlp\u001b[38;5;241m.\u001b[39mYoutubeDL(ydl_opts) \u001b[38;5;28;01mas\u001b[39;00m ydl:\n\u001b[1;32m---> 45\u001b[0m         ydl\u001b[38;5;241m.\u001b[39mdownload(url)\n\u001b[0;32m     47\u001b[0m \u001b[38;5;66;03m# Yield the written blobs\u001b[39;00m\n\u001b[0;32m     48\u001b[0m loader \u001b[38;5;241m=\u001b[39m FileSystemBlobLoader(\u001b[38;5;28mself\u001b[39m\u001b[38;5;241m.\u001b[39msave_dir, glob\u001b[38;5;241m=\u001b[39m\u001b[38;5;124m\"\u001b[39m\u001b[38;5;124m*.m4a\u001b[39m\u001b[38;5;124m\"\u001b[39m)\n",
      "File \u001b[1;32m~\\anaconda3\\Lib\\site-packages\\yt_dlp\\YoutubeDL.py:3643\u001b[0m, in \u001b[0;36mYoutubeDL.download\u001b[1;34m(self, url_list)\u001b[0m\n\u001b[0;32m   3640\u001b[0m     \u001b[38;5;28;01mraise\u001b[39;00m SameFileError(outtmpl)\n\u001b[0;32m   3642\u001b[0m \u001b[38;5;28;01mfor\u001b[39;00m url \u001b[38;5;129;01min\u001b[39;00m url_list:\n\u001b[1;32m-> 3643\u001b[0m     \u001b[38;5;28mself\u001b[39m\u001b[38;5;241m.\u001b[39m__download_wrapper(\u001b[38;5;28mself\u001b[39m\u001b[38;5;241m.\u001b[39mextract_info)(\n\u001b[0;32m   3644\u001b[0m         url, force_generic_extractor\u001b[38;5;241m=\u001b[39m\u001b[38;5;28mself\u001b[39m\u001b[38;5;241m.\u001b[39mparams\u001b[38;5;241m.\u001b[39mget(\u001b[38;5;124m'\u001b[39m\u001b[38;5;124mforce_generic_extractor\u001b[39m\u001b[38;5;124m'\u001b[39m, \u001b[38;5;28;01mFalse\u001b[39;00m))\n\u001b[0;32m   3646\u001b[0m \u001b[38;5;28;01mreturn\u001b[39;00m \u001b[38;5;28mself\u001b[39m\u001b[38;5;241m.\u001b[39m_download_retcode\n",
      "File \u001b[1;32m~\\anaconda3\\Lib\\site-packages\\yt_dlp\\YoutubeDL.py:3616\u001b[0m, in \u001b[0;36mYoutubeDL.__download_wrapper.<locals>.wrapper\u001b[1;34m(*args, **kwargs)\u001b[0m\n\u001b[0;32m   3613\u001b[0m \u001b[38;5;129m@functools\u001b[39m\u001b[38;5;241m.\u001b[39mwraps(func)\n\u001b[0;32m   3614\u001b[0m \u001b[38;5;28;01mdef\u001b[39;00m \u001b[38;5;21mwrapper\u001b[39m(\u001b[38;5;241m*\u001b[39margs, \u001b[38;5;241m*\u001b[39m\u001b[38;5;241m*\u001b[39mkwargs):\n\u001b[0;32m   3615\u001b[0m     \u001b[38;5;28;01mtry\u001b[39;00m:\n\u001b[1;32m-> 3616\u001b[0m         res \u001b[38;5;241m=\u001b[39m func(\u001b[38;5;241m*\u001b[39margs, \u001b[38;5;241m*\u001b[39m\u001b[38;5;241m*\u001b[39mkwargs)\n\u001b[0;32m   3617\u001b[0m     \u001b[38;5;28;01mexcept\u001b[39;00m CookieLoadError:\n\u001b[0;32m   3618\u001b[0m         \u001b[38;5;28;01mraise\u001b[39;00m\n",
      "File \u001b[1;32m~\\anaconda3\\Lib\\site-packages\\yt_dlp\\YoutubeDL.py:1651\u001b[0m, in \u001b[0;36mYoutubeDL.extract_info\u001b[1;34m(self, url, download, ie_key, extra_info, process, force_generic_extractor)\u001b[0m\n\u001b[0;32m   1649\u001b[0m             \u001b[38;5;28;01mraise\u001b[39;00m ExistingVideoReached\n\u001b[0;32m   1650\u001b[0m         \u001b[38;5;28;01mbreak\u001b[39;00m\n\u001b[1;32m-> 1651\u001b[0m     \u001b[38;5;28;01mreturn\u001b[39;00m \u001b[38;5;28mself\u001b[39m\u001b[38;5;241m.\u001b[39m__extract_info(url, \u001b[38;5;28mself\u001b[39m\u001b[38;5;241m.\u001b[39mget_info_extractor(key), download, extra_info, process)\n\u001b[0;32m   1652\u001b[0m \u001b[38;5;28;01melse\u001b[39;00m:\n\u001b[0;32m   1653\u001b[0m     extractors_restricted \u001b[38;5;241m=\u001b[39m \u001b[38;5;28mself\u001b[39m\u001b[38;5;241m.\u001b[39mparams\u001b[38;5;241m.\u001b[39mget(\u001b[38;5;124m'\u001b[39m\u001b[38;5;124mallowed_extractors\u001b[39m\u001b[38;5;124m'\u001b[39m) \u001b[38;5;129;01mnot\u001b[39;00m \u001b[38;5;129;01min\u001b[39;00m (\u001b[38;5;28;01mNone\u001b[39;00m, [\u001b[38;5;124m'\u001b[39m\u001b[38;5;124mdefault\u001b[39m\u001b[38;5;124m'\u001b[39m])\n",
      "File \u001b[1;32m~\\anaconda3\\Lib\\site-packages\\yt_dlp\\YoutubeDL.py:1662\u001b[0m, in \u001b[0;36mYoutubeDL._handle_extraction_exceptions.<locals>.wrapper\u001b[1;34m(self, *args, **kwargs)\u001b[0m\n\u001b[0;32m   1660\u001b[0m \u001b[38;5;28;01mwhile\u001b[39;00m \u001b[38;5;28;01mTrue\u001b[39;00m:\n\u001b[0;32m   1661\u001b[0m     \u001b[38;5;28;01mtry\u001b[39;00m:\n\u001b[1;32m-> 1662\u001b[0m         \u001b[38;5;28;01mreturn\u001b[39;00m func(\u001b[38;5;28mself\u001b[39m, \u001b[38;5;241m*\u001b[39margs, \u001b[38;5;241m*\u001b[39m\u001b[38;5;241m*\u001b[39mkwargs)\n\u001b[0;32m   1663\u001b[0m     \u001b[38;5;28;01mexcept\u001b[39;00m (CookieLoadError, DownloadCancelled, LazyList\u001b[38;5;241m.\u001b[39mIndexError, PagedList\u001b[38;5;241m.\u001b[39mIndexError):\n\u001b[0;32m   1664\u001b[0m         \u001b[38;5;28;01mraise\u001b[39;00m\n",
      "File \u001b[1;32m~\\anaconda3\\Lib\\site-packages\\yt_dlp\\YoutubeDL.py:1818\u001b[0m, in \u001b[0;36mYoutubeDL.__extract_info\u001b[1;34m(self, url, ie, download, extra_info, process)\u001b[0m\n\u001b[0;32m   1816\u001b[0m \u001b[38;5;28;01mif\u001b[39;00m process:\n\u001b[0;32m   1817\u001b[0m     \u001b[38;5;28mself\u001b[39m\u001b[38;5;241m.\u001b[39m_wait_for_video(ie_result)\n\u001b[1;32m-> 1818\u001b[0m     \u001b[38;5;28;01mreturn\u001b[39;00m \u001b[38;5;28mself\u001b[39m\u001b[38;5;241m.\u001b[39mprocess_ie_result(ie_result, download, extra_info)\n\u001b[0;32m   1819\u001b[0m \u001b[38;5;28;01melse\u001b[39;00m:\n\u001b[0;32m   1820\u001b[0m     \u001b[38;5;28;01mreturn\u001b[39;00m ie_result\n",
      "File \u001b[1;32m~\\anaconda3\\Lib\\site-packages\\yt_dlp\\YoutubeDL.py:1877\u001b[0m, in \u001b[0;36mYoutubeDL.process_ie_result\u001b[1;34m(self, ie_result, download, extra_info)\u001b[0m\n\u001b[0;32m   1875\u001b[0m \u001b[38;5;28;01mif\u001b[39;00m result_type \u001b[38;5;241m==\u001b[39m \u001b[38;5;124m'\u001b[39m\u001b[38;5;124mvideo\u001b[39m\u001b[38;5;124m'\u001b[39m:\n\u001b[0;32m   1876\u001b[0m     \u001b[38;5;28mself\u001b[39m\u001b[38;5;241m.\u001b[39madd_extra_info(ie_result, extra_info)\n\u001b[1;32m-> 1877\u001b[0m     ie_result \u001b[38;5;241m=\u001b[39m \u001b[38;5;28mself\u001b[39m\u001b[38;5;241m.\u001b[39mprocess_video_result(ie_result, download\u001b[38;5;241m=\u001b[39mdownload)\n\u001b[0;32m   1878\u001b[0m     \u001b[38;5;28mself\u001b[39m\u001b[38;5;241m.\u001b[39m_raise_pending_errors(ie_result)\n\u001b[0;32m   1879\u001b[0m     additional_urls \u001b[38;5;241m=\u001b[39m (ie_result \u001b[38;5;129;01mor\u001b[39;00m {})\u001b[38;5;241m.\u001b[39mget(\u001b[38;5;124m'\u001b[39m\u001b[38;5;124madditional_urls\u001b[39m\u001b[38;5;124m'\u001b[39m)\n",
      "File \u001b[1;32m~\\anaconda3\\Lib\\site-packages\\yt_dlp\\YoutubeDL.py:3049\u001b[0m, in \u001b[0;36mYoutubeDL.process_video_result\u001b[1;34m(self, info_dict, download)\u001b[0m\n\u001b[0;32m   3047\u001b[0m downloaded_formats\u001b[38;5;241m.\u001b[39mappend(new_info)\n\u001b[0;32m   3048\u001b[0m \u001b[38;5;28;01mtry\u001b[39;00m:\n\u001b[1;32m-> 3049\u001b[0m     \u001b[38;5;28mself\u001b[39m\u001b[38;5;241m.\u001b[39mprocess_info(new_info)\n\u001b[0;32m   3050\u001b[0m \u001b[38;5;28;01mexcept\u001b[39;00m MaxDownloadsReached:\n\u001b[0;32m   3051\u001b[0m     max_downloads_reached \u001b[38;5;241m=\u001b[39m \u001b[38;5;28;01mTrue\u001b[39;00m\n",
      "File \u001b[1;32m~\\anaconda3\\Lib\\site-packages\\yt_dlp\\YoutubeDL.py:185\u001b[0m, in \u001b[0;36m_catch_unsafe_extension_error.<locals>.wrapper\u001b[1;34m(self, *args, **kwargs)\u001b[0m\n\u001b[0;32m    182\u001b[0m \u001b[38;5;129m@functools\u001b[39m\u001b[38;5;241m.\u001b[39mwraps(func)\n\u001b[0;32m    183\u001b[0m \u001b[38;5;28;01mdef\u001b[39;00m \u001b[38;5;21mwrapper\u001b[39m(\u001b[38;5;28mself\u001b[39m, \u001b[38;5;241m*\u001b[39margs, \u001b[38;5;241m*\u001b[39m\u001b[38;5;241m*\u001b[39mkwargs):\n\u001b[0;32m    184\u001b[0m     \u001b[38;5;28;01mtry\u001b[39;00m:\n\u001b[1;32m--> 185\u001b[0m         \u001b[38;5;28;01mreturn\u001b[39;00m func(\u001b[38;5;28mself\u001b[39m, \u001b[38;5;241m*\u001b[39margs, \u001b[38;5;241m*\u001b[39m\u001b[38;5;241m*\u001b[39mkwargs)\n\u001b[0;32m    186\u001b[0m     \u001b[38;5;28;01mexcept\u001b[39;00m _UnsafeExtensionError \u001b[38;5;28;01mas\u001b[39;00m error:\n\u001b[0;32m    187\u001b[0m         \u001b[38;5;28mself\u001b[39m\u001b[38;5;241m.\u001b[39mreport_error(\n\u001b[0;32m    188\u001b[0m             \u001b[38;5;124mf\u001b[39m\u001b[38;5;124m'\u001b[39m\u001b[38;5;124mThe extracted extension (\u001b[39m\u001b[38;5;132;01m{\u001b[39;00merror\u001b[38;5;241m.\u001b[39mextension\u001b[38;5;132;01m!r}\u001b[39;00m\u001b[38;5;124m) is unusual \u001b[39m\u001b[38;5;124m'\u001b[39m\n\u001b[0;32m    189\u001b[0m             \u001b[38;5;124m'\u001b[39m\u001b[38;5;124mand will be skipped for safety reasons. \u001b[39m\u001b[38;5;124m'\u001b[39m\n\u001b[0;32m    190\u001b[0m             \u001b[38;5;124mf\u001b[39m\u001b[38;5;124m'\u001b[39m\u001b[38;5;124mIf you believe this is an error\u001b[39m\u001b[38;5;132;01m{\u001b[39;00mbug_reports_message(\u001b[38;5;124m\"\u001b[39m\u001b[38;5;124m,\u001b[39m\u001b[38;5;124m\"\u001b[39m)\u001b[38;5;132;01m}\u001b[39;00m\u001b[38;5;124m'\u001b[39m)\n",
      "File \u001b[1;32m~\\anaconda3\\Lib\\site-packages\\yt_dlp\\YoutubeDL.py:3597\u001b[0m, in \u001b[0;36mYoutubeDL.process_info\u001b[1;34m(self, info_dict)\u001b[0m\n\u001b[0;32m   3595\u001b[0m     replace_info_dict(\u001b[38;5;28mself\u001b[39m\u001b[38;5;241m.\u001b[39mpost_process(dl_filename, info_dict, files_to_move))\n\u001b[0;32m   3596\u001b[0m \u001b[38;5;28;01mexcept\u001b[39;00m PostProcessingError \u001b[38;5;28;01mas\u001b[39;00m err:\n\u001b[1;32m-> 3597\u001b[0m     \u001b[38;5;28mself\u001b[39m\u001b[38;5;241m.\u001b[39mreport_error(\u001b[38;5;124mf\u001b[39m\u001b[38;5;124m'\u001b[39m\u001b[38;5;124mPostprocessing: \u001b[39m\u001b[38;5;132;01m{\u001b[39;00merr\u001b[38;5;132;01m}\u001b[39;00m\u001b[38;5;124m'\u001b[39m)\n\u001b[0;32m   3598\u001b[0m     \u001b[38;5;28;01mreturn\u001b[39;00m\n\u001b[0;32m   3599\u001b[0m \u001b[38;5;28;01mtry\u001b[39;00m:\n",
      "File \u001b[1;32m~\\anaconda3\\Lib\\site-packages\\yt_dlp\\YoutubeDL.py:1120\u001b[0m, in \u001b[0;36mYoutubeDL.report_error\u001b[1;34m(self, message, *args, **kwargs)\u001b[0m\n\u001b[0;32m   1115\u001b[0m \u001b[38;5;28;01mdef\u001b[39;00m \u001b[38;5;21mreport_error\u001b[39m(\u001b[38;5;28mself\u001b[39m, message, \u001b[38;5;241m*\u001b[39margs, \u001b[38;5;241m*\u001b[39m\u001b[38;5;241m*\u001b[39mkwargs):\n\u001b[0;32m   1116\u001b[0m \u001b[38;5;250m    \u001b[39m\u001b[38;5;124;03m\"\"\"\u001b[39;00m\n\u001b[0;32m   1117\u001b[0m \u001b[38;5;124;03m    Do the same as trouble, but prefixes the message with 'ERROR:', colored\u001b[39;00m\n\u001b[0;32m   1118\u001b[0m \u001b[38;5;124;03m    in red if stderr is a tty file.\u001b[39;00m\n\u001b[0;32m   1119\u001b[0m \u001b[38;5;124;03m    \"\"\"\u001b[39;00m\n\u001b[1;32m-> 1120\u001b[0m     \u001b[38;5;28mself\u001b[39m\u001b[38;5;241m.\u001b[39mtrouble(\u001b[38;5;124mf\u001b[39m\u001b[38;5;124m'\u001b[39m\u001b[38;5;132;01m{\u001b[39;00m\u001b[38;5;28mself\u001b[39m\u001b[38;5;241m.\u001b[39m_format_err(\u001b[38;5;124m\"\u001b[39m\u001b[38;5;124mERROR:\u001b[39m\u001b[38;5;124m\"\u001b[39m,\u001b[38;5;250m \u001b[39m\u001b[38;5;28mself\u001b[39m\u001b[38;5;241m.\u001b[39mStyles\u001b[38;5;241m.\u001b[39mERROR)\u001b[38;5;132;01m}\u001b[39;00m\u001b[38;5;124m \u001b[39m\u001b[38;5;132;01m{\u001b[39;00mmessage\u001b[38;5;132;01m}\u001b[39;00m\u001b[38;5;124m'\u001b[39m, \u001b[38;5;241m*\u001b[39margs, \u001b[38;5;241m*\u001b[39m\u001b[38;5;241m*\u001b[39mkwargs)\n",
      "File \u001b[1;32m~\\anaconda3\\Lib\\site-packages\\yt_dlp\\YoutubeDL.py:1059\u001b[0m, in \u001b[0;36mYoutubeDL.trouble\u001b[1;34m(self, message, tb, is_error)\u001b[0m\n\u001b[0;32m   1057\u001b[0m     \u001b[38;5;28;01melse\u001b[39;00m:\n\u001b[0;32m   1058\u001b[0m         exc_info \u001b[38;5;241m=\u001b[39m sys\u001b[38;5;241m.\u001b[39mexc_info()\n\u001b[1;32m-> 1059\u001b[0m     \u001b[38;5;28;01mraise\u001b[39;00m DownloadError(message, exc_info)\n\u001b[0;32m   1060\u001b[0m \u001b[38;5;28mself\u001b[39m\u001b[38;5;241m.\u001b[39m_download_retcode \u001b[38;5;241m=\u001b[39m \u001b[38;5;241m1\u001b[39m\n",
      "\u001b[1;31mDownloadError\u001b[0m: ERROR: Postprocessing: ffprobe and ffmpeg not found. Please install or provide the path using --ffmpeg-location"
     ]
    }
   ],
   "source": [
    "from langchain_community.document_loaders.blob_loaders.youtube_audio import YoutubeAudioLoader\n",
    "from langchain_community.document_loaders.generic import GenericLoader\n",
    "from langchain_community.document_loaders.parsers.audio import OpenAIWhisperParser\n",
    "\n",
    "# Replace with your desired YouTube video URL\n",
    "video_url = \"https://www.youtube.com/watch?v=DeRGMoybqb8\"\n",
    "\n",
    "# Specify the directory to save audio files\n",
    "save_dir = \"./youtube_audio\"\n",
    "\n",
    "# Initialize the loader\n",
    "loader = GenericLoader(\n",
    "    YoutubeAudioLoader(urls=[video_url], save_dir=save_dir),\n",
    "    OpenAIWhisperParser()\n",
    ")\n",
    "\n",
    "# Load and transcribe\n",
    "documents = loader.load()\n",
    "\n",
    "# 'documents' now contains the transcribed text\n",
    "print(documents)\n"
   ]
  },
  {
   "cell_type": "code",
   "execution_count": 4,
   "id": "d305ddcf",
   "metadata": {
    "scrolled": true
   },
   "outputs": [
    {
     "name": "stdout",
     "output_type": "stream",
     "text": [
      "Requirement already satisfied: langchain in c:\\users\\jitendranayak\\anaconda3\\lib\\site-packages (0.1.9)\n",
      "Requirement already satisfied: langchain-community in c:\\users\\jitendranayak\\anaconda3\\lib\\site-packages (0.0.24)\n",
      "Requirement already satisfied: youtube-transcript-api in c:\\users\\jitendranayak\\anaconda3\\lib\\site-packages (1.0.3)\n",
      "Requirement already satisfied: PyYAML>=5.3 in c:\\users\\jitendranayak\\anaconda3\\lib\\site-packages (from langchain) (6.0.1)\n",
      "Requirement already satisfied: SQLAlchemy<3,>=1.4 in c:\\users\\jitendranayak\\anaconda3\\lib\\site-packages (from langchain) (2.0.28)\n",
      "Requirement already satisfied: aiohttp<4.0.0,>=3.8.3 in c:\\users\\jitendranayak\\anaconda3\\lib\\site-packages (from langchain) (3.9.5)\n",
      "Requirement already satisfied: dataclasses-json<0.7,>=0.5.7 in c:\\users\\jitendranayak\\anaconda3\\lib\\site-packages (from langchain) (0.5.14)\n",
      "Requirement already satisfied: jsonpatch<2.0,>=1.33 in c:\\users\\jitendranayak\\anaconda3\\lib\\site-packages (from langchain) (1.33)\n",
      "Collecting langchain-core<0.2,>=0.1.26 (from langchain)\n",
      "  Downloading langchain_core-0.1.53-py3-none-any.whl.metadata (5.9 kB)\n",
      "Collecting langsmith<0.2.0,>=0.1.0 (from langchain)\n",
      "  Downloading langsmith-0.1.147-py3-none-any.whl.metadata (14 kB)\n",
      "Requirement already satisfied: numpy<2,>=1 in c:\\users\\jitendranayak\\anaconda3\\lib\\site-packages (from langchain) (1.24.3)\n",
      "Requirement already satisfied: pydantic<3,>=1 in c:\\users\\jitendranayak\\anaconda3\\lib\\site-packages (from langchain) (2.10.6)\n",
      "Requirement already satisfied: requests<3,>=2 in c:\\users\\jitendranayak\\anaconda3\\lib\\site-packages (from langchain) (2.32.2)\n",
      "Requirement already satisfied: tenacity<9.0.0,>=8.1.0 in c:\\users\\jitendranayak\\anaconda3\\lib\\site-packages (from langchain) (8.2.3)\n",
      "Requirement already satisfied: defusedxml<0.8.0,>=0.7.1 in c:\\users\\jitendranayak\\anaconda3\\lib\\site-packages (from youtube-transcript-api) (0.7.1)\n",
      "Requirement already satisfied: aiosignal>=1.1.2 in c:\\users\\jitendranayak\\anaconda3\\lib\\site-packages (from aiohttp<4.0.0,>=3.8.3->langchain) (1.2.0)\n",
      "Requirement already satisfied: attrs>=17.3.0 in c:\\users\\jitendranayak\\anaconda3\\lib\\site-packages (from aiohttp<4.0.0,>=3.8.3->langchain) (23.2.0)\n",
      "Requirement already satisfied: frozenlist>=1.1.1 in c:\\users\\jitendranayak\\anaconda3\\lib\\site-packages (from aiohttp<4.0.0,>=3.8.3->langchain) (1.3.3)\n",
      "Requirement already satisfied: multidict<7.0,>=4.5 in c:\\users\\jitendranayak\\anaconda3\\lib\\site-packages (from aiohttp<4.0.0,>=3.8.3->langchain) (6.0.2)\n",
      "Requirement already satisfied: yarl<2.0,>=1.0 in c:\\users\\jitendranayak\\anaconda3\\lib\\site-packages (from aiohttp<4.0.0,>=3.8.3->langchain) (1.8.1)\n",
      "Requirement already satisfied: marshmallow<4.0.0,>=3.18.0 in c:\\users\\jitendranayak\\anaconda3\\lib\\site-packages (from dataclasses-json<0.7,>=0.5.7->langchain) (3.20.1)\n",
      "Requirement already satisfied: typing-inspect<1,>=0.4.0 in c:\\users\\jitendranayak\\anaconda3\\lib\\site-packages (from dataclasses-json<0.7,>=0.5.7->langchain) (0.9.0)\n",
      "Requirement already satisfied: jsonpointer>=1.9 in c:\\users\\jitendranayak\\anaconda3\\lib\\site-packages (from jsonpatch<2.0,>=1.33->langchain) (2.1)\n",
      "Requirement already satisfied: packaging<24.0,>=23.2 in c:\\users\\jitendranayak\\anaconda3\\lib\\site-packages (from langchain-core<0.2,>=0.1.26->langchain) (23.2)\n",
      "Requirement already satisfied: httpx<1,>=0.23.0 in c:\\users\\jitendranayak\\anaconda3\\lib\\site-packages (from langsmith<0.2.0,>=0.1.0->langchain) (0.28.1)\n",
      "Requirement already satisfied: orjson<4.0.0,>=3.9.14 in c:\\users\\jitendranayak\\anaconda3\\lib\\site-packages (from langsmith<0.2.0,>=0.1.0->langchain) (3.10.15)\n",
      "Requirement already satisfied: requests-toolbelt<2.0.0,>=1.0.0 in c:\\users\\jitendranayak\\anaconda3\\lib\\site-packages (from langsmith<0.2.0,>=0.1.0->langchain) (1.0.0)\n",
      "Requirement already satisfied: annotated-types>=0.6.0 in c:\\users\\jitendranayak\\anaconda3\\lib\\site-packages (from pydantic<3,>=1->langchain) (0.6.0)\n",
      "Requirement already satisfied: pydantic-core==2.27.2 in c:\\users\\jitendranayak\\anaconda3\\lib\\site-packages (from pydantic<3,>=1->langchain) (2.27.2)\n",
      "Requirement already satisfied: typing-extensions>=4.12.2 in c:\\users\\jitendranayak\\anaconda3\\lib\\site-packages (from pydantic<3,>=1->langchain) (4.12.2)\n",
      "Requirement already satisfied: charset-normalizer<4,>=2 in c:\\users\\jitendranayak\\anaconda3\\lib\\site-packages (from requests<3,>=2->langchain) (2.0.4)\n",
      "Requirement already satisfied: idna<4,>=2.5 in c:\\users\\jitendranayak\\anaconda3\\lib\\site-packages (from requests<3,>=2->langchain) (3.4)\n",
      "Requirement already satisfied: urllib3<3,>=1.21.1 in c:\\users\\jitendranayak\\anaconda3\\lib\\site-packages (from requests<3,>=2->langchain) (2.2.1)\n",
      "Requirement already satisfied: certifi>=2017.4.17 in c:\\users\\jitendranayak\\anaconda3\\lib\\site-packages (from requests<3,>=2->langchain) (2024.2.2)\n",
      "Requirement already satisfied: greenlet!=0.4.17 in c:\\users\\jitendranayak\\anaconda3\\lib\\site-packages (from SQLAlchemy<3,>=1.4->langchain) (3.0.3)\n",
      "Requirement already satisfied: anyio in c:\\users\\jitendranayak\\anaconda3\\lib\\site-packages (from httpx<1,>=0.23.0->langsmith<0.2.0,>=0.1.0->langchain) (3.5.0)\n",
      "Requirement already satisfied: httpcore==1.* in c:\\users\\jitendranayak\\anaconda3\\lib\\site-packages (from httpx<1,>=0.23.0->langsmith<0.2.0,>=0.1.0->langchain) (1.0.2)\n",
      "Requirement already satisfied: h11<0.15,>=0.13 in c:\\users\\jitendranayak\\anaconda3\\lib\\site-packages (from httpcore==1.*->httpx<1,>=0.23.0->langsmith<0.2.0,>=0.1.0->langchain) (0.14.0)\n",
      "Requirement already satisfied: mypy-extensions>=0.3.0 in c:\\users\\jitendranayak\\anaconda3\\lib\\site-packages (from typing-inspect<1,>=0.4.0->dataclasses-json<0.7,>=0.5.7->langchain) (1.0.0)\n",
      "Requirement already satisfied: sniffio>=1.1 in c:\\users\\jitendranayak\\anaconda3\\lib\\site-packages (from anyio->httpx<1,>=0.23.0->langsmith<0.2.0,>=0.1.0->langchain) (1.3.1)\n",
      "Downloading langchain_core-0.1.53-py3-none-any.whl (303 kB)\n",
      "Downloading langsmith-0.1.147-py3-none-any.whl (311 kB)\n",
      "Installing collected packages: langsmith, langchain-core\n",
      "  Attempting uninstall: langsmith\n",
      "    Found existing installation: langsmith 0.3.15\n",
      "    Uninstalling langsmith-0.3.15:\n",
      "      Successfully uninstalled langsmith-0.3.15\n",
      "  Attempting uninstall: langchain-core\n",
      "    Found existing installation: langchain-core 0.3.45\n",
      "    Uninstalling langchain-core-0.3.45:\n",
      "      Successfully uninstalled langchain-core-0.3.45\n",
      "Successfully installed langchain-core-0.1.53 langsmith-0.1.147\n",
      "Note: you may need to restart the kernel to use updated packages.\n"
     ]
    },
    {
     "name": "stderr",
     "output_type": "stream",
     "text": [
      "WARNING: Ignoring invalid distribution ~etuptools (C:\\Users\\JitendraNayak\\anaconda3\\Lib\\site-packages)\n",
      "WARNING: Ignoring invalid distribution ~etuptools (C:\\Users\\JitendraNayak\\anaconda3\\Lib\\site-packages)\n",
      "WARNING: Ignoring invalid distribution ~etuptools (C:\\Users\\JitendraNayak\\anaconda3\\Lib\\site-packages)\n",
      "ERROR: pip's dependency resolver does not currently take into account all the packages that are installed. This behaviour is the source of the following dependency conflicts.\n",
      "langgraph-checkpoint 2.0.20 requires langchain-core<0.4,>=0.2.38, but you have langchain-core 0.1.53 which is incompatible.\n",
      "langgraph-prebuilt 0.1.3 requires langchain-core!=0.3.0,!=0.3.1,!=0.3.10,!=0.3.11,!=0.3.12,!=0.3.13,!=0.3.14,!=0.3.15,!=0.3.16,!=0.3.17,!=0.3.18,!=0.3.19,!=0.3.2,!=0.3.20,!=0.3.21,!=0.3.22,!=0.3.3,!=0.3.4,!=0.3.5,!=0.3.6,!=0.3.7,!=0.3.8,!=0.3.9,<0.4.0,>=0.2.43, but you have langchain-core 0.1.53 which is incompatible.\n",
      "\n",
      "[notice] A new release of pip is available: 24.3.1 -> 25.1.1\n",
      "[notice] To update, run: python.exe -m pip install --upgrade pip\n"
     ]
    }
   ],
   "source": [
    "pip install langchain langchain-community youtube-transcript-api"
   ]
  },
  {
   "cell_type": "code",
   "execution_count": 5,
   "id": "c532d328",
   "metadata": {
    "scrolled": true
   },
   "outputs": [
    {
     "ename": "TypeError",
     "evalue": "'FetchedTranscriptSnippet' object is not subscriptable",
     "output_type": "error",
     "traceback": [
      "\u001b[1;31m---------------------------------------------------------------------------\u001b[0m",
      "\u001b[1;31mTypeError\u001b[0m                                 Traceback (most recent call last)",
      "Cell \u001b[1;32mIn[5], line 10\u001b[0m\n\u001b[0;32m      7\u001b[0m loader \u001b[38;5;241m=\u001b[39m YoutubeLoader\u001b[38;5;241m.\u001b[39mfrom_youtube_url(video_url, add_video_info\u001b[38;5;241m=\u001b[39m\u001b[38;5;28;01mFalse\u001b[39;00m)\n\u001b[0;32m      9\u001b[0m \u001b[38;5;66;03m# Load the transcript\u001b[39;00m\n\u001b[1;32m---> 10\u001b[0m documents \u001b[38;5;241m=\u001b[39m loader\u001b[38;5;241m.\u001b[39mload()\n\u001b[0;32m     12\u001b[0m \u001b[38;5;66;03m# Output the documents\u001b[39;00m\n\u001b[0;32m     13\u001b[0m \u001b[38;5;28;01mfor\u001b[39;00m doc \u001b[38;5;129;01min\u001b[39;00m documents:\n",
      "File \u001b[1;32m~\\anaconda3\\Lib\\site-packages\\langchain_community\\document_loaders\\youtube.py:228\u001b[0m, in \u001b[0;36mYoutubeLoader.load\u001b[1;34m(self)\u001b[0m\n\u001b[0;32m    225\u001b[0m transcript_pieces \u001b[38;5;241m=\u001b[39m transcript\u001b[38;5;241m.\u001b[39mfetch()\n\u001b[0;32m    227\u001b[0m \u001b[38;5;28;01mif\u001b[39;00m \u001b[38;5;28mself\u001b[39m\u001b[38;5;241m.\u001b[39mtranscript_format \u001b[38;5;241m==\u001b[39m TranscriptFormat\u001b[38;5;241m.\u001b[39mTEXT:\n\u001b[1;32m--> 228\u001b[0m     transcript \u001b[38;5;241m=\u001b[39m \u001b[38;5;124m\"\u001b[39m\u001b[38;5;124m \u001b[39m\u001b[38;5;124m\"\u001b[39m\u001b[38;5;241m.\u001b[39mjoin([t[\u001b[38;5;124m\"\u001b[39m\u001b[38;5;124mtext\u001b[39m\u001b[38;5;124m\"\u001b[39m]\u001b[38;5;241m.\u001b[39mstrip(\u001b[38;5;124m\"\u001b[39m\u001b[38;5;124m \u001b[39m\u001b[38;5;124m\"\u001b[39m) \u001b[38;5;28;01mfor\u001b[39;00m t \u001b[38;5;129;01min\u001b[39;00m transcript_pieces])\n\u001b[0;32m    229\u001b[0m     \u001b[38;5;28;01mreturn\u001b[39;00m [Document(page_content\u001b[38;5;241m=\u001b[39mtranscript, metadata\u001b[38;5;241m=\u001b[39mmetadata)]\n\u001b[0;32m    230\u001b[0m \u001b[38;5;28;01melif\u001b[39;00m \u001b[38;5;28mself\u001b[39m\u001b[38;5;241m.\u001b[39mtranscript_format \u001b[38;5;241m==\u001b[39m TranscriptFormat\u001b[38;5;241m.\u001b[39mLINES:\n",
      "File \u001b[1;32m~\\anaconda3\\Lib\\site-packages\\langchain_community\\document_loaders\\youtube.py:228\u001b[0m, in \u001b[0;36m<listcomp>\u001b[1;34m(.0)\u001b[0m\n\u001b[0;32m    225\u001b[0m transcript_pieces \u001b[38;5;241m=\u001b[39m transcript\u001b[38;5;241m.\u001b[39mfetch()\n\u001b[0;32m    227\u001b[0m \u001b[38;5;28;01mif\u001b[39;00m \u001b[38;5;28mself\u001b[39m\u001b[38;5;241m.\u001b[39mtranscript_format \u001b[38;5;241m==\u001b[39m TranscriptFormat\u001b[38;5;241m.\u001b[39mTEXT:\n\u001b[1;32m--> 228\u001b[0m     transcript \u001b[38;5;241m=\u001b[39m \u001b[38;5;124m\"\u001b[39m\u001b[38;5;124m \u001b[39m\u001b[38;5;124m\"\u001b[39m\u001b[38;5;241m.\u001b[39mjoin([t[\u001b[38;5;124m\"\u001b[39m\u001b[38;5;124mtext\u001b[39m\u001b[38;5;124m\"\u001b[39m]\u001b[38;5;241m.\u001b[39mstrip(\u001b[38;5;124m\"\u001b[39m\u001b[38;5;124m \u001b[39m\u001b[38;5;124m\"\u001b[39m) \u001b[38;5;28;01mfor\u001b[39;00m t \u001b[38;5;129;01min\u001b[39;00m transcript_pieces])\n\u001b[0;32m    229\u001b[0m     \u001b[38;5;28;01mreturn\u001b[39;00m [Document(page_content\u001b[38;5;241m=\u001b[39mtranscript, metadata\u001b[38;5;241m=\u001b[39mmetadata)]\n\u001b[0;32m    230\u001b[0m \u001b[38;5;28;01melif\u001b[39;00m \u001b[38;5;28mself\u001b[39m\u001b[38;5;241m.\u001b[39mtranscript_format \u001b[38;5;241m==\u001b[39m TranscriptFormat\u001b[38;5;241m.\u001b[39mLINES:\n",
      "\u001b[1;31mTypeError\u001b[0m: 'FetchedTranscriptSnippet' object is not subscriptable"
     ]
    }
   ],
   "source": [
    "from langchain_community.document_loaders import YoutubeLoader\n",
    "\n",
    "# Replace with your desired YouTube video URL\n",
    "video_url = \"https://www.youtube.com/watch?v=DeRGMoybqb8\"\n",
    "\n",
    "# Initialize the loader\n",
    "loader = YoutubeLoader.from_youtube_url(video_url, add_video_info=False)\n",
    "\n",
    "# Load the transcript\n",
    "documents = loader.load()\n",
    "\n",
    "# Output the documents\n",
    "for doc in documents:\n",
    "    print(doc.page_content)\n"
   ]
  },
  {
   "cell_type": "code",
   "execution_count": null,
   "id": "a2a0e4c7",
   "metadata": {},
   "outputs": [],
   "source": []
  },
  {
   "cell_type": "code",
   "execution_count": null,
   "id": "34ee7183",
   "metadata": {},
   "outputs": [],
   "source": [
    "urls = [\"https://www.youtube.com/watch?v=VideoID1\", \"https://www.youtube.com/watch?v=VideoID2\"]\n",
    "loader = GenericLoader(\n",
    "  YoutubeAudioLoader(urls=urls, save_dir=save_dir),\n",
    "  OpenAIWhisperParser()\n",
    ")\n"
   ]
  }
 ],
 "metadata": {
  "kernelspec": {
   "display_name": "Python 3 (ipykernel)",
   "language": "python",
   "name": "python3"
  },
  "language_info": {
   "codemirror_mode": {
    "name": "ipython",
    "version": 3
   },
   "file_extension": ".py",
   "mimetype": "text/x-python",
   "name": "python",
   "nbconvert_exporter": "python",
   "pygments_lexer": "ipython3",
   "version": "3.11.5"
  }
 },
 "nbformat": 4,
 "nbformat_minor": 5
}
