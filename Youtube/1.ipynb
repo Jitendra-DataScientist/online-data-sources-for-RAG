{
 "cells": [
  {
   "cell_type": "code",
   "execution_count": 2,
   "id": "3ab8a126",
   "metadata": {},
   "outputs": [
    {
     "name": "stdout",
     "output_type": "stream",
     "text": [
      "Collecting youtube-transcript-api\n",
      "  Downloading youtube_transcript_api-1.0.3-py3-none-any.whl.metadata (23 kB)\n",
      "Requirement already satisfied: defusedxml<0.8.0,>=0.7.1 in c:\\users\\jitendranayak\\anaconda3\\lib\\site-packages (from youtube-transcript-api) (0.7.1)\n",
      "Requirement already satisfied: requests in c:\\users\\jitendranayak\\anaconda3\\lib\\site-packages (from youtube-transcript-api) (2.32.2)\n",
      "Requirement already satisfied: charset-normalizer<4,>=2 in c:\\users\\jitendranayak\\anaconda3\\lib\\site-packages (from requests->youtube-transcript-api) (2.0.4)\n",
      "Requirement already satisfied: idna<4,>=2.5 in c:\\users\\jitendranayak\\anaconda3\\lib\\site-packages (from requests->youtube-transcript-api) (3.4)\n",
      "Requirement already satisfied: urllib3<3,>=1.21.1 in c:\\users\\jitendranayak\\anaconda3\\lib\\site-packages (from requests->youtube-transcript-api) (2.2.1)\n",
      "Requirement already satisfied: certifi>=2017.4.17 in c:\\users\\jitendranayak\\anaconda3\\lib\\site-packages (from requests->youtube-transcript-api) (2024.2.2)\n",
      "Downloading youtube_transcript_api-1.0.3-py3-none-any.whl (2.2 MB)\n",
      "   ---------------------------------------- 0.0/2.2 MB ? eta -:--:--\n",
      "   ---------------------------------------- 2.2/2.2 MB 13.6 MB/s eta 0:00:00\n",
      "Installing collected packages: youtube-transcript-api\n",
      "Successfully installed youtube-transcript-api-1.0.3\n",
      "Note: you may need to restart the kernel to use updated packages.\n"
     ]
    },
    {
     "name": "stderr",
     "output_type": "stream",
     "text": [
      "WARNING: Ignoring invalid distribution ~etuptools (C:\\Users\\JitendraNayak\\anaconda3\\Lib\\site-packages)\n",
      "WARNING: Ignoring invalid distribution ~etuptools (C:\\Users\\JitendraNayak\\anaconda3\\Lib\\site-packages)\n",
      "WARNING: Ignoring invalid distribution ~etuptools (C:\\Users\\JitendraNayak\\anaconda3\\Lib\\site-packages)\n",
      "\n",
      "[notice] A new release of pip is available: 24.3.1 -> 25.1.1\n",
      "[notice] To update, run: python.exe -m pip install --upgrade pip\n"
     ]
    }
   ],
   "source": [
    "pip install youtube-transcript-api"
   ]
  },
  {
   "cell_type": "code",
   "execution_count": 3,
   "id": "624f1516",
   "metadata": {},
   "outputs": [
    {
     "name": "stdout",
     "output_type": "stream",
     "text": [
      "When Queen Elizabeth I took her final breath, the world lost more than just a monarch. It lost a mystery sealed behind red velvet curtains and iron willpower. As her closest advisers sorted through her chambers, they expected the usual jewels, royal decrees, maybe a few private letters. What they found, however, stopped them cold. A letter not addressed, not signed, just sitting there waiting. And whatever was inside made even the stealiest men in the kingdom go silent. Was it a confession, a warning, or something darker? A truth so heavy Elizabeth couldn't bear to speak it aloud in life. To answer that, we have to go back not just a few years, but to the very day Elizabeth entered the world. It was 1533. England was a boiling pot of rumors, rebellion, and royal scandal. At the center of it all, Anne Berlin, Elizabeth's mother, a bold, ambitious woman who had managed the impossible. She stole the king's heart from Catherine of Araggon, a queen who had ruled beside Henry VIII for over two decades. King Henry broke from the Catholic Church just to marry Anne. That's how badly he wanted her. But what he really wanted was a son. And when Anne gave birth to a daughter instead of a male heir, the king's love began to rot. 3 years later, Anne Berlin was accused of adultery and treason, likely falsely, and sentenced to die. May 19th, 1536. Elizabeth, barely a toddler, lost her mother to the executioner's blade. She would never see her again. But you know what's worse? Just 11 days later, Henry remarried. That's all the time it took for Elizabeth's father to move on from his queen, from his grief, from his daughter. The new wife, Jane Seymour, soon gave him what he wanted. A boy named Edward, a prince, an heir, the son he believed was worth breaking a kingdom for and beheading a queen. From that moment on, Elizabeth was no longer the precious daughter of a king. She was a political inconvenience. A girl born into power, stripped of it, then forced to survive the most dangerous court in Europe with nothing but her wit, her will, and eyes that saw everything. And when she finally took the throne, she never forgot the blood it took to get there. In the 16th century, beauty among England's elite was defined by one thing: skin as white as snow. For noble women, this wasn't just a fashion statement. It was a symbol of power, purity, and high birth. The paler the skin, the higher your status, and no one understood this better than Queen Elizabeth I. But fate would strike a cruel blow. In 1562, Elizabeth fell seriously ill. The diagnosis, smallpox, a brutal and disfiguring disease. Though she survived, it left her physically scarred for life. Her once smooth face was pitted with marks, and she suffered severe hair loss. For a queen whose image was everything, whose very power depended on how her people saw her, this was more than a personal tragedy. It was a political threat. To restore the illusion of perfection, Elizabeth turned to makeup. But not just any makeup. Her signature was a thick ghostly white cosmetic known as Venetian Suse. It gave her that eerie porcelain glow we still associate with her today. On the surface, it masked her scars, but beneath it, danger was quietly building. Venetian suse may have sounded exotic and elegant, but it was made from white lead and vinegar, a deadly combination. Elizabeth would apply heavy layers to her face and neck, creating a flawless illusion, but at a terrible cost. The makeup had a sharp, sour smell. And over time, it did more than cover her skin. It poisoned it. And lead wasn't the only threat. Historical records show Elizabeth also used mercurybased products, including lip color and possibly even a makeup remover that could corrode flesh. By today's standards, we know these heavy metals are incredibly toxic. Long-term exposure can lead to hair loss, skin damage, organ failure, and even death. Yet, Elizabeth used these substances daily for decades. As she aged and fought to maintain the image of eternal youth, it's likely she used even more of these deadly cosmetics. Slowly, silently, her body became a vessel for poison. Her beauty, ironically, may have been killing her from the inside out, but poison wasn't the only thing haunting Elizabeth. By602, the queen's health was visibly failing. She withdrew from court life, grew increasingly frail, and slipped into a deep melancholy. Her sadness was more than physical. It was emotional, too. She had outlived nearly all her closest companions. The death of her dear friend Katherine Kerry in early603 devastated her. But one name lingered heavier than any other. Robert Devaroo, the Earl of Essex. He had once been the great love of her later years, but their relationship ended in betrayal. In601, Elizabeth signed his death warrant for treason. Publicly, she remained composed, but privately she was shattered. One courtier wrote that in her final days, the queen often sat in the dark, weeping, mourning Essex's death, perhaps more over her decision than his crime. As the days wore on, Elizabeth refused all medical attention. Whether from pride, fear, or defiance, she wouldn't let anyone examine her. She even refused to lie down, believing that if she did, she would never rise again. For over 15 hours, she stood upright, her ladies in waiting, surrounding her with pillows in case she collapsed. And then on March 24th,603, the Virgin Queen passed away at Richmond Palace. She was 69 years old. Her death marked the end of an era and the end of the great TUDA dynasty. But the story doesn't end there. We remember Elizabeth as the Virgin Queen, a ruler who famously declared herself married to England. But behind that title was a complex, emotional woman with a heart that had been both full and broken. In her youth, Elizabeth was magnetic with striking red hair, a graceful figure, and a sharp intellect. She lit up every ballroom. Men were drawn to her like moths to flame. Kings and princes proposed marriage. Philip II of Spain, Eric of Sweden, and others. She entertained their offers but never accepted. And yet her life was far from loveless. The first great name in her story of romance was Robert Dudley, her childhood friend, her confidant, and many believe her first true love. From the moment she became queen, rumors of their relationship swirled. Dudley was married, but his connection to Elizabeth was impossible to ignore. She granted him privileges no other man enjoyed, including access to her private chambers at any hour. The world speculated, the court whispered, but Elizabeth never married him or anyone. Perhaps she feared becoming a porn like her mother, Anne Berlin. Perhaps her heart was broken one too many times. Or perhaps England truly was the only partner she ever trusted. In 1560, a tragic event shook the English court. Robert Dudley's wife, Amy Robsart, was found dead at the bottom of a staircase. Her neck was broken. Officially, it was ruled an accident, but the whispers began immediately. Had she fallen or had she been pushed? The rumors were vicious. Some believed that Dudley or even Queen Elizabeth herself had arranged Amy's death to clear the way for marriage, but no marriage followed. Despite the scandal, Elizabeth and Dudley remained close for years. Still, she never once publicly considered marrying him. Why? Perhaps she knew the damage it would do to her image. Or maybe she feared losing her independence. Even with many suitors to come, some say Robert Dudley was Elizabeth's first and only true love. But hearts can shift and court life never stays still. In 1578, Dudley remarried. The Queen was furious, but she moved on, at least outwardly. By 1579, a new man entered her life. Francois, Duke of Anju, younger brother of the king of France. He was introduced as a serious marriage prospect. There was just one problem or several. Francois was about 20 years old while Elizabeth was now well into her 40s. He was short, had a pockmarked face from smallpox, and rumors swirled about his unusual behavior and personal tastes. Still, Elizabeth appeared genuinely taken with him. She even named her pet frog after him, an oddly tender gesture for a queen. Despite public mockery and fierce opposition from her court, Francois returned to England in 1581 and to Elizabeth's delight. What happened next shocked everyone. She publicly announced her intention to marry him. They exchanged rings in front of the court and her affection was clear for all to see. But by the next day, she changed her mind. The engagement was off and with it the last hope the court had that Elizabeth would ever marry. From then on any romances she entertained never ended in wedding bells, only titles and rumors. And then came the most dramatic love story of her life. Robert Dearoo, the Earl of Essex, Dudley's own stepson, was only 22 when he caught the Queen's eye in 1589. Elizabeth was 56. The age gap was wide, but Essex was young, dashing, clever, and full of charm. Whatever the nature of their relationship, it stirred intense passion. When Essex secretly married Francis Walssingham the next year, Elizabeth was livid. She screamed. She raged. and Essex, desperate to win her back, turned to poetry, writing verses that praised her beauty and tried to mend her wounded pride. Despite everything, Elizabeth brought him back into favor and even into government affairs. From 1591 on, she gave him military responsibilities, but Essex was reckless, brilliant in some moments, disastrous in others. He exploited the queen's favor, swinging between bold ambition and childish arrogance. Once during a heated argument in 1597, Elizabeth slapped him across the face and shouted, \"Go and be hanged.\" Yet even then, she couldn't fully let go. In 1599, she appointed him Lord Lieutenant of Ireland, sending him to suppress a major rebellion. He led 16,000 troops, one of the largest forces ever sent to Ireland, but failed miserably. Poor strategy and negotiation led to an embarrassing truce with the rebel leader, the Earl of Tyrone. It was a political disaster. Then Essex made a fatal mistake. On September 28th, 1599, he burst into the queen's private chambers, unannounced and still in his dirty riding boots. Elizabeth had just woken up. She wasn't wearing her wig, her jewels, or even her signature makeup. No man had ever seen her like this, not as the majestic queen, but as an old, frail woman. It was a deep violation of royal protocol and of trust. She had him arrested and stripped of his titles. Though he was eventually released, he didn't learn his lesson. In February6001, in a final act of desperation, Essex attempted a coup. He planned to seize control of London, storm the tower, and force Elizabeth to name him her successor and protector. It was a spectacular failure. The rebellion collapsed within hours. This time, Elizabeth's patience ran out. On February 24th,601, Essex was found guilty of treason and sentenced to death. When asked if she wished to show mercy, Elizabeth responded with a chilling clarity. All that he has done against myself, I can pardon, but I cannot pardon anyone who attempts to harm England. She signed his death warrant. The next morning, Robert Devo was beheaded outside the palace. It was a brutal end to her most intense and final romance. Looking back, one question lingers. Why did Queen Elizabeth never marry? She had admirers, lovers, and political suitors. She clearly wasn't indifferent to romance, and yet she chose solitude. Why? Some say she feared losing power. Others believe she couldn't trust marriage after watching her mother, Anne Berlin, be executed by her father. Maybe, just maybe, she believed that by marrying no man, she could belong to all of England. When Elizabeth died in 16003, she left no heir. With her, the great Tuda dynasty came to an end. Her successor was King James V 6th of Scotland, who became James Ist of England, uniting the two kingdoms under one crown for the first time. Her 45-year reign is remembered as a golden age, a time of peace, progress, and power. Shakespeare wrote his greatest plays. The English Navy crushed the Spanish Armada. Art, culture, and exploration flourished. She had given England what her father, Henry VIII, had longed for, stability, and glory. In the end, Elizabeth's greatest legacy wasn't a husband or an heir. It was England itself. And in a way, that's exactly what she always wanted. Henry VIII tried to erase Anne Berlin from history. But fate had other plans. Her daughter rose from the shadow of scandal and execution to become one of the greatest monarchs England ever knew. Elizabeth didn't just survive. She reigned. And in doing so, she fulfilled her mother's legacy, building an empire on the very sacrifice that had once doomed her family. But now, let's return to that final moment. The queen was gone. The Virgin Queen, the monarch who ruled alone for 45 years, had passed. And in the silence that followed, her advisers discovered a sealed letter, one written in Elizabeth's own hand. What they read inside chilled them to the bone. Could it have been a confession, a secret she had carried for decades, finally laid bare? Was it a final testament? A warning about England's future or something far darker? Could it have been the horrifying truth of how the white paints and powders she wore for decades had poisoned her slowly from the inside? And this was what truly made their blood run cold, was the letter about the one thing Elizabeth had always refused to speak of, the succession. She had never publicly named an heir. But had she done so in private in this letter, was there something in those pages that could have changed everything? What do you think was written in that final message? Was it a revelation or a farewell? Let us know your theory in the comments below. And if you love strange, mysterious, and powerful stories from history, don't forget to like, subscribe, and turn on notifications. We have so much more to uncover. Thanks for watching and until next time, remember history always has secrets. It's just waiting for us to find [Music]\n"
     ]
    }
   ],
   "source": [
    "from youtube_transcript_api import YouTubeTranscriptApi\n",
    "\n",
    "video_id = 'DeRGMoybqb8'  # Replace with the actual video ID\n",
    "transcript = YouTubeTranscriptApi.get_transcript(video_id)\n",
    "\n",
    "# Combine transcript segments into a single string\n",
    "full_transcript = ' '.join([entry['text'] for entry in transcript])\n",
    "print(full_transcript)\n"
   ]
  },
  {
   "cell_type": "code",
   "execution_count": 6,
   "id": "ade624bf",
   "metadata": {
    "scrolled": true
   },
   "outputs": [
    {
     "name": "stdout",
     "output_type": "stream",
     "text": [
      "When Queen Elizabeth I took her final breath, the world lost more than just a monarch. It lost a mystery sealed behind red velvet curtains and iron willpower. As her closest advisers sorted through her chambers, they expected the usual jewels, royal decrees, maybe a few private letters. What they found, however, stopped them cold. A letter not addressed, not signed, just sitting there waiting. And whatever was inside made even the stealiest men in the kingdom go silent. Was it a confession, a warning, or something darker? A truth so heavy Elizabeth couldn't bear to speak it aloud in life. To answer that, we have to go back not just a few years, but to the very day Elizabeth entered the world. It was 1533. England was a boiling pot of rumors, rebellion, and royal scandal. At the center of it all, Anne Berlin, Elizabeth's mother, a bold, ambitious woman who had managed the impossible. She stole the king's heart from Catherine of Araggon, a queen who had ruled beside Henry VIII for over two decades. King Henry broke from the Catholic Church just to marry Anne. That's how badly he wanted her. But what he really wanted was a son. And when Anne gave birth to a daughter instead of a male heir, the king's love began to rot. 3 years later, Anne Berlin was accused of adultery and treason, likely falsely, and sentenced to die. May 19th, 1536. Elizabeth, barely a toddler, lost her mother to the executioner's blade. She would never see her again. But you know what's worse? Just 11 days later, Henry remarried. That's all the time it took for Elizabeth's father to move on from his queen, from his grief, from his daughter. The new wife, Jane Seymour, soon gave him what he wanted. A boy named Edward, a prince, an heir, the son he believed was worth breaking a kingdom for and beheading a queen. From that moment on, Elizabeth was no longer the precious daughter of a king. She was a political inconvenience. A girl born into power, stripped of it, then forced to survive the most dangerous court in Europe with nothing but her wit, her will, and eyes that saw everything. And when she finally took the throne, she never forgot the blood it took to get there. In the 16th century, beauty among England's elite was defined by one thing: skin as white as snow. For noble women, this wasn't just a fashion statement. It was a symbol of power, purity, and high birth. The paler the skin, the higher your status, and no one understood this better than Queen Elizabeth I. But fate would strike a cruel blow. In 1562, Elizabeth fell seriously ill. The diagnosis, smallpox, a brutal and disfiguring disease. Though she survived, it left her physically scarred for life. Her once smooth face was pitted with marks, and she suffered severe hair loss. For a queen whose image was everything, whose very power depended on how her people saw her, this was more than a personal tragedy. It was a political threat. To restore the illusion of perfection, Elizabeth turned to makeup. But not just any makeup. Her signature was a thick ghostly white cosmetic known as Venetian Suse. It gave her that eerie porcelain glow we still associate with her today. On the surface, it masked her scars, but beneath it, danger was quietly building. Venetian suse may have sounded exotic and elegant, but it was made from white lead and vinegar, a deadly combination. Elizabeth would apply heavy layers to her face and neck, creating a flawless illusion, but at a terrible cost. The makeup had a sharp, sour smell. And over time, it did more than cover her skin. It poisoned it. And lead wasn't the only threat. Historical records show Elizabeth also used mercurybased products, including lip color and possibly even a makeup remover that could corrode flesh. By today's standards, we know these heavy metals are incredibly toxic. Long-term exposure can lead to hair loss, skin damage, organ failure, and even death. Yet, Elizabeth used these substances daily for decades. As she aged and fought to maintain the image of eternal youth, it's likely she used even more of these deadly cosmetics. Slowly, silently, her body became a vessel for poison. Her beauty, ironically, may have been killing her from the inside out, but poison wasn't the only thing haunting Elizabeth. By602, the queen's health was visibly failing. She withdrew from court life, grew increasingly frail, and slipped into a deep melancholy. Her sadness was more than physical. It was emotional, too. She had outlived nearly all her closest companions. The death of her dear friend Katherine Kerry in early603 devastated her. But one name lingered heavier than any other. Robert Devaroo, the Earl of Essex. He had once been the great love of her later years, but their relationship ended in betrayal. In601, Elizabeth signed his death warrant for treason. Publicly, she remained composed, but privately she was shattered. One courtier wrote that in her final days, the queen often sat in the dark, weeping, mourning Essex's death, perhaps more over her decision than his crime. As the days wore on, Elizabeth refused all medical attention. Whether from pride, fear, or defiance, she wouldn't let anyone examine her. She even refused to lie down, believing that if she did, she would never rise again. For over 15 hours, she stood upright, her ladies in waiting, surrounding her with pillows in case she collapsed. And then on March 24th,603, the Virgin Queen passed away at Richmond Palace. She was 69 years old. Her death marked the end of an era and the end of the great TUDA dynasty. But the story doesn't end there. We remember Elizabeth as the Virgin Queen, a ruler who famously declared herself married to England. But behind that title was a complex, emotional woman with a heart that had been both full and broken. In her youth, Elizabeth was magnetic with striking red hair, a graceful figure, and a sharp intellect. She lit up every ballroom. Men were drawn to her like moths to flame. Kings and princes proposed marriage. Philip II of Spain, Eric of Sweden, and others. She entertained their offers but never accepted. And yet her life was far from loveless. The first great name in her story of romance was Robert Dudley, her childhood friend, her confidant, and many believe her first true love. From the moment she became queen, rumors of their relationship swirled. Dudley was married, but his connection to Elizabeth was impossible to ignore. She granted him privileges no other man enjoyed, including access to her private chambers at any hour. The world speculated, the court whispered, but Elizabeth never married him or anyone. Perhaps she feared becoming a porn like her mother, Anne Berlin. Perhaps her heart was broken one too many times. Or perhaps England truly was the only partner she ever trusted. In 1560, a tragic event shook the English court. Robert Dudley's wife, Amy Robsart, was found dead at the bottom of a staircase. Her neck was broken. Officially, it was ruled an accident, but the whispers began immediately. Had she fallen or had she been pushed? The rumors were vicious. Some believed that Dudley or even Queen Elizabeth herself had arranged Amy's death to clear the way for marriage, but no marriage followed. Despite the scandal, Elizabeth and Dudley remained close for years. Still, she never once publicly considered marrying him. Why? Perhaps she knew the damage it would do to her image. Or maybe she feared losing her independence. Even with many suitors to come, some say Robert Dudley was Elizabeth's first and only true love. But hearts can shift and court life never stays still. In 1578, Dudley remarried. The Queen was furious, but she moved on, at least outwardly. By 1579, a new man entered her life. Francois, Duke of Anju, younger brother of the king of France. He was introduced as a serious marriage prospect. There was just one problem or several. Francois was about 20 years old while Elizabeth was now well into her 40s. He was short, had a pockmarked face from smallpox, and rumors swirled about his unusual behavior and personal tastes. Still, Elizabeth appeared genuinely taken with him. She even named her pet frog after him, an oddly tender gesture for a queen. Despite public mockery and fierce opposition from her court, Francois returned to England in 1581 and to Elizabeth's delight. What happened next shocked everyone. She publicly announced her intention to marry him. They exchanged rings in front of the court and her affection was clear for all to see. But by the next day, she changed her mind. The engagement was off and with it the last hope the court had that Elizabeth would ever marry. From then on any romances she entertained never ended in wedding bells, only titles and rumors. And then came the most dramatic love story of her life. Robert Dearoo, the Earl of Essex, Dudley's own stepson, was only 22 when he caught the Queen's eye in 1589. Elizabeth was 56. The age gap was wide, but Essex was young, dashing, clever, and full of charm. Whatever the nature of their relationship, it stirred intense passion. When Essex secretly married Francis Walssingham the next year, Elizabeth was livid. She screamed. She raged. and Essex, desperate to win her back, turned to poetry, writing verses that praised her beauty and tried to mend her wounded pride. Despite everything, Elizabeth brought him back into favor and even into government affairs. From 1591 on, she gave him military responsibilities, but Essex was reckless, brilliant in some moments, disastrous in others. He exploited the queen's favor, swinging between bold ambition and childish arrogance. Once during a heated argument in 1597, Elizabeth slapped him across the face and shouted, \"Go and be hanged.\" Yet even then, she couldn't fully let go. In 1599, she appointed him Lord Lieutenant of Ireland, sending him to suppress a major rebellion. He led 16,000 troops, one of the largest forces ever sent to Ireland, but failed miserably. Poor strategy and negotiation led to an embarrassing truce with the rebel leader, the Earl of Tyrone. It was a political disaster. Then Essex made a fatal mistake. On September 28th, 1599, he burst into the queen's private chambers, unannounced and still in his dirty riding boots. Elizabeth had just woken up. She wasn't wearing her wig, her jewels, or even her signature makeup. No man had ever seen her like this, not as the majestic queen, but as an old, frail woman. It was a deep violation of royal protocol and of trust. She had him arrested and stripped of his titles. Though he was eventually released, he didn't learn his lesson. In February6001, in a final act of desperation, Essex attempted a coup. He planned to seize control of London, storm the tower, and force Elizabeth to name him her successor and protector. It was a spectacular failure. The rebellion collapsed within hours. This time, Elizabeth's patience ran out. On February 24th,601, Essex was found guilty of treason and sentenced to death. When asked if she wished to show mercy, Elizabeth responded with a chilling clarity. All that he has done against myself, I can pardon, but I cannot pardon anyone who attempts to harm England. She signed his death warrant. The next morning, Robert Devo was beheaded outside the palace. It was a brutal end to her most intense and final romance. Looking back, one question lingers. Why did Queen Elizabeth never marry? She had admirers, lovers, and political suitors. She clearly wasn't indifferent to romance, and yet she chose solitude. Why? Some say she feared losing power. Others believe she couldn't trust marriage after watching her mother, Anne Berlin, be executed by her father. Maybe, just maybe, she believed that by marrying no man, she could belong to all of England. When Elizabeth died in 16003, she left no heir. With her, the great Tuda dynasty came to an end. Her successor was King James V 6th of Scotland, who became James Ist of England, uniting the two kingdoms under one crown for the first time. Her 45-year reign is remembered as a golden age, a time of peace, progress, and power. Shakespeare wrote his greatest plays. The English Navy crushed the Spanish Armada. Art, culture, and exploration flourished. She had given England what her father, Henry VIII, had longed for, stability, and glory. In the end, Elizabeth's greatest legacy wasn't a husband or an heir. It was England itself. And in a way, that's exactly what she always wanted. Henry VIII tried to erase Anne Berlin from history. But fate had other plans. Her daughter rose from the shadow of scandal and execution to become one of the greatest monarchs England ever knew. Elizabeth didn't just survive. She reigned. And in doing so, she fulfilled her mother's legacy, building an empire on the very sacrifice that had once doomed her family. But now, let's return to that final moment. The queen was gone. The Virgin Queen, the monarch who ruled alone for 45 years, had passed. And in the silence that followed, her advisers discovered a sealed letter, one written in Elizabeth's own hand. What they read inside chilled them to the bone. Could it have been a confession, a secret she had carried for decades, finally laid bare? Was it a final testament? A warning about England's future or something far darker? Could it have been the horrifying truth of how the white paints and powders she wore for decades had poisoned her slowly from the inside? And this was what truly made their blood run cold, was the letter about the one thing Elizabeth had always refused to speak of, the succession. She had never publicly named an heir. But had she done so in private in this letter, was there something in those pages that could have changed everything? What do you think was written in that final message? Was it a revelation or a farewell? Let us know your theory in the comments below. And if you love strange, mysterious, and powerful stories from history, don't forget to like, subscribe, and turn on notifications. We have so much more to uncover. Thanks for watching and until next time, remember history always has secrets. It's just waiting for us to find [Music]\n"
     ]
    }
   ],
   "source": [
    "## Handling Different Languages\n",
    "\n",
    "transcript = YouTubeTranscriptApi.get_transcript(video_id, languages=['en'])\n",
    "# print(transcript)\n",
    "\n",
    "# Combine transcript segments into a single string\n",
    "full_transcript = ' '.join([entry['text'] for entry in transcript])\n",
    "print(full_transcript)\n"
   ]
  },
  {
   "cell_type": "code",
   "execution_count": null,
   "id": "09c0679e",
   "metadata": {},
   "outputs": [],
   "source": []
  },
  {
   "cell_type": "code",
   "execution_count": null,
   "id": "a459e564",
   "metadata": {},
   "outputs": [],
   "source": []
  },
  {
   "cell_type": "code",
   "execution_count": 7,
   "id": "96b232f1",
   "metadata": {
    "scrolled": true
   },
   "outputs": [
    {
     "name": "stderr",
     "output_type": "stream",
     "text": [
      "C:\\Users\\JitendraNayak\\anaconda3\\Lib\\site-packages\\langchain_community\\document_loaders\\blob_loaders\\file_system.py:6: LangChainDeprecationWarning: As of langchain-core 0.3.0, LangChain uses pydantic v2 internally. The langchain_core.pydantic_v1 module was a compatibility shim for pydantic v1, and should no longer be used. Please update the code to import from Pydantic directly.\n",
      "\n",
      "For example, replace imports like: `from langchain_core.pydantic_v1 import BaseModel`\n",
      "with: `from pydantic import BaseModel`\n",
      "or the v1 compatibility namespace if you are working in a code base that has not been fully upgraded to pydantic 2 yet. \tfrom pydantic.v1 import BaseModel\n",
      "\n",
      "  from langchain_community.document_loaders.blob_loaders.schema import Blob, BlobLoader\n",
      "C:\\Users\\JitendraNayak\\anaconda3\\Lib\\site-packages\\langchain_community\\document_loaders\\__init__.py:228: LangChainDeprecationWarning: As of langchain-core 0.3.0, LangChain uses pydantic v2 internally. The langchain_core.pydantic_v1 module was a compatibility shim for pydantic v1, and should no longer be used. Please update the code to import from Pydantic directly.\n",
      "\n",
      "For example, replace imports like: `from langchain_core.pydantic_v1 import BaseModel`\n",
      "with: `from pydantic import BaseModel`\n",
      "or the v1 compatibility namespace if you are working in a code base that has not been fully upgraded to pydantic 2 yet. \tfrom pydantic.v1 import BaseModel\n",
      "\n",
      "  from langchain_community.document_loaders.youtube import (\n"
     ]
    },
    {
     "ename": "TypeError",
     "evalue": "'FetchedTranscriptSnippet' object is not subscriptable",
     "output_type": "error",
     "traceback": [
      "\u001b[1;31m---------------------------------------------------------------------------\u001b[0m",
      "\u001b[1;31mTypeError\u001b[0m                                 Traceback (most recent call last)",
      "Cell \u001b[1;32mIn[7], line 6\u001b[0m\n\u001b[0;32m      3\u001b[0m \u001b[38;5;28;01mfrom\u001b[39;00m \u001b[38;5;21;01mlangchain_community\u001b[39;00m\u001b[38;5;21;01m.\u001b[39;00m\u001b[38;5;21;01mdocument_loaders\u001b[39;00m \u001b[38;5;28;01mimport\u001b[39;00m YoutubeLoader\n\u001b[0;32m      5\u001b[0m loader \u001b[38;5;241m=\u001b[39m YoutubeLoader\u001b[38;5;241m.\u001b[39mfrom_youtube_url(\u001b[38;5;124m\"\u001b[39m\u001b[38;5;124mhttps://www.youtube.com/watch?v=DeRGMoybqb8\u001b[39m\u001b[38;5;124m\"\u001b[39m, add_video_info\u001b[38;5;241m=\u001b[39m\u001b[38;5;28;01mFalse\u001b[39;00m)\n\u001b[1;32m----> 6\u001b[0m documents \u001b[38;5;241m=\u001b[39m loader\u001b[38;5;241m.\u001b[39mload()\n\u001b[0;32m      7\u001b[0m documents\n",
      "File \u001b[1;32m~\\anaconda3\\Lib\\site-packages\\langchain_community\\document_loaders\\youtube.py:228\u001b[0m, in \u001b[0;36mYoutubeLoader.load\u001b[1;34m(self)\u001b[0m\n\u001b[0;32m    225\u001b[0m transcript_pieces \u001b[38;5;241m=\u001b[39m transcript\u001b[38;5;241m.\u001b[39mfetch()\n\u001b[0;32m    227\u001b[0m \u001b[38;5;28;01mif\u001b[39;00m \u001b[38;5;28mself\u001b[39m\u001b[38;5;241m.\u001b[39mtranscript_format \u001b[38;5;241m==\u001b[39m TranscriptFormat\u001b[38;5;241m.\u001b[39mTEXT:\n\u001b[1;32m--> 228\u001b[0m     transcript \u001b[38;5;241m=\u001b[39m \u001b[38;5;124m\"\u001b[39m\u001b[38;5;124m \u001b[39m\u001b[38;5;124m\"\u001b[39m\u001b[38;5;241m.\u001b[39mjoin([t[\u001b[38;5;124m\"\u001b[39m\u001b[38;5;124mtext\u001b[39m\u001b[38;5;124m\"\u001b[39m]\u001b[38;5;241m.\u001b[39mstrip(\u001b[38;5;124m\"\u001b[39m\u001b[38;5;124m \u001b[39m\u001b[38;5;124m\"\u001b[39m) \u001b[38;5;28;01mfor\u001b[39;00m t \u001b[38;5;129;01min\u001b[39;00m transcript_pieces])\n\u001b[0;32m    229\u001b[0m     \u001b[38;5;28;01mreturn\u001b[39;00m [Document(page_content\u001b[38;5;241m=\u001b[39mtranscript, metadata\u001b[38;5;241m=\u001b[39mmetadata)]\n\u001b[0;32m    230\u001b[0m \u001b[38;5;28;01melif\u001b[39;00m \u001b[38;5;28mself\u001b[39m\u001b[38;5;241m.\u001b[39mtranscript_format \u001b[38;5;241m==\u001b[39m TranscriptFormat\u001b[38;5;241m.\u001b[39mLINES:\n",
      "File \u001b[1;32m~\\anaconda3\\Lib\\site-packages\\langchain_community\\document_loaders\\youtube.py:228\u001b[0m, in \u001b[0;36m<listcomp>\u001b[1;34m(.0)\u001b[0m\n\u001b[0;32m    225\u001b[0m transcript_pieces \u001b[38;5;241m=\u001b[39m transcript\u001b[38;5;241m.\u001b[39mfetch()\n\u001b[0;32m    227\u001b[0m \u001b[38;5;28;01mif\u001b[39;00m \u001b[38;5;28mself\u001b[39m\u001b[38;5;241m.\u001b[39mtranscript_format \u001b[38;5;241m==\u001b[39m TranscriptFormat\u001b[38;5;241m.\u001b[39mTEXT:\n\u001b[1;32m--> 228\u001b[0m     transcript \u001b[38;5;241m=\u001b[39m \u001b[38;5;124m\"\u001b[39m\u001b[38;5;124m \u001b[39m\u001b[38;5;124m\"\u001b[39m\u001b[38;5;241m.\u001b[39mjoin([t[\u001b[38;5;124m\"\u001b[39m\u001b[38;5;124mtext\u001b[39m\u001b[38;5;124m\"\u001b[39m]\u001b[38;5;241m.\u001b[39mstrip(\u001b[38;5;124m\"\u001b[39m\u001b[38;5;124m \u001b[39m\u001b[38;5;124m\"\u001b[39m) \u001b[38;5;28;01mfor\u001b[39;00m t \u001b[38;5;129;01min\u001b[39;00m transcript_pieces])\n\u001b[0;32m    229\u001b[0m     \u001b[38;5;28;01mreturn\u001b[39;00m [Document(page_content\u001b[38;5;241m=\u001b[39mtranscript, metadata\u001b[38;5;241m=\u001b[39mmetadata)]\n\u001b[0;32m    230\u001b[0m \u001b[38;5;28;01melif\u001b[39;00m \u001b[38;5;28mself\u001b[39m\u001b[38;5;241m.\u001b[39mtranscript_format \u001b[38;5;241m==\u001b[39m TranscriptFormat\u001b[38;5;241m.\u001b[39mLINES:\n",
      "\u001b[1;31mTypeError\u001b[0m: 'FetchedTranscriptSnippet' object is not subscriptable"
     ]
    }
   ],
   "source": [
    "## using langchain\n",
    "\n",
    "from langchain_community.document_loaders import YoutubeLoader\n",
    "\n",
    "loader = YoutubeLoader.from_youtube_url(\"https://www.youtube.com/watch?v=DeRGMoybqb8\", add_video_info=False)\n",
    "documents = loader.load()\n",
    "documents"
   ]
  },
  {
   "cell_type": "markdown",
   "id": "ca5718c4",
   "metadata": {},
   "source": [
    "The error you're encountering—TypeError: 'FetchedTranscriptSnippet' object is not subscriptable—is a known issue with the YoutubeLoader in the langchain_community package. This problem arises due to changes in the underlying youtube-transcript-api library, which altered the structure of the transcript data, leading to incompatibility with the existing YoutubeLoader implementation."
   ]
  },
  {
   "cell_type": "code",
   "execution_count": 9,
   "id": "f7d41886",
   "metadata": {},
   "outputs": [
    {
     "data": {
      "text/plain": [
       "'When Queen Elizabeth I took her final breath, the world lost more than just a monarch. It lost a mystery sealed behind red velvet curtains and iron willpower. As her closest advisers sorted through her chambers, they expected the usual jewels, royal decrees, maybe a few private letters. What they found, however, stopped them cold. A letter not addressed, not signed, just sitting there waiting. And whatever was inside made even the stealiest men in the kingdom go silent. Was it a confession, a warning, or something darker? A truth so heavy Elizabeth couldn\\'t bear to speak it aloud in life. To answer that, we have to go back not just a few years, but to the very day Elizabeth entered the world. It was 1533. England was a boiling pot of rumors, rebellion, and royal scandal. At the center of it all, Anne Berlin, Elizabeth\\'s mother, a bold, ambitious woman who had managed the impossible. She stole the king\\'s heart from Catherine of Araggon, a queen who had ruled beside Henry VIII for over two decades. King Henry broke from the Catholic Church just to marry Anne. That\\'s how badly he wanted her. But what he really wanted was a son. And when Anne gave birth to a daughter instead of a male heir, the king\\'s love began to rot. 3 years later, Anne Berlin was accused of adultery and treason, likely falsely, and sentenced to die. May 19th, 1536. Elizabeth, barely a toddler, lost her mother to the executioner\\'s blade. She would never see her again. But you know what\\'s worse? Just 11 days later, Henry remarried. That\\'s all the time it took for Elizabeth\\'s father to move on from his queen, from his grief, from his daughter. The new wife, Jane Seymour, soon gave him what he wanted. A boy named Edward, a prince, an heir, the son he believed was worth breaking a kingdom for and beheading a queen. From that moment on, Elizabeth was no longer the precious daughter of a king. She was a political inconvenience. A girl born into power, stripped of it, then forced to survive the most dangerous court in Europe with nothing but her wit, her will, and eyes that saw everything. And when she finally took the throne, she never forgot the blood it took to get there. In the 16th century, beauty among England\\'s elite was defined by one thing: skin as white as snow. For noble women, this wasn\\'t just a fashion statement. It was a symbol of power, purity, and high birth. The paler the skin, the higher your status, and no one understood this better than Queen Elizabeth I. But fate would strike a cruel blow. In 1562, Elizabeth fell seriously ill. The diagnosis, smallpox, a brutal and disfiguring disease. Though she survived, it left her physically scarred for life. Her once smooth face was pitted with marks, and she suffered severe hair loss. For a queen whose image was everything, whose very power depended on how her people saw her, this was more than a personal tragedy. It was a political threat. To restore the illusion of perfection, Elizabeth turned to makeup. But not just any makeup. Her signature was a thick ghostly white cosmetic known as Venetian Suse. It gave her that eerie porcelain glow we still associate with her today. On the surface, it masked her scars, but beneath it, danger was quietly building. Venetian suse may have sounded exotic and elegant, but it was made from white lead and vinegar, a deadly combination. Elizabeth would apply heavy layers to her face and neck, creating a flawless illusion, but at a terrible cost. The makeup had a sharp, sour smell. And over time, it did more than cover her skin. It poisoned it. And lead wasn\\'t the only threat. Historical records show Elizabeth also used mercurybased products, including lip color and possibly even a makeup remover that could corrode flesh. By today\\'s standards, we know these heavy metals are incredibly toxic. Long-term exposure can lead to hair loss, skin damage, organ failure, and even death. Yet, Elizabeth used these substances daily for decades. As she aged and fought to maintain the image of eternal youth, it\\'s likely she used even more of these deadly cosmetics. Slowly, silently, her body became a vessel for poison. Her beauty, ironically, may have been killing her from the inside out, but poison wasn\\'t the only thing haunting Elizabeth. By602, the queen\\'s health was visibly failing. She withdrew from court life, grew increasingly frail, and slipped into a deep melancholy. Her sadness was more than physical. It was emotional, too. She had outlived nearly all her closest companions. The death of her dear friend Katherine Kerry in early603 devastated her. But one name lingered heavier than any other. Robert Devaroo, the Earl of Essex. He had once been the great love of her later years, but their relationship ended in betrayal. In601, Elizabeth signed his death warrant for treason. Publicly, she remained composed, but privately she was shattered. One courtier wrote that in her final days, the queen often sat in the dark, weeping, mourning Essex\\'s death, perhaps more over her decision than his crime. As the days wore on, Elizabeth refused all medical attention. Whether from pride, fear, or defiance, she wouldn\\'t let anyone examine her. She even refused to lie down, believing that if she did, she would never rise again. For over 15 hours, she stood upright, her ladies in waiting, surrounding her with pillows in case she collapsed. And then on March 24th,603, the Virgin Queen passed away at Richmond Palace. She was 69 years old. Her death marked the end of an era and the end of the great TUDA dynasty. But the story doesn\\'t end there. We remember Elizabeth as the Virgin Queen, a ruler who famously declared herself married to England. But behind that title was a complex, emotional woman with a heart that had been both full and broken. In her youth, Elizabeth was magnetic with striking red hair, a graceful figure, and a sharp intellect. She lit up every ballroom. Men were drawn to her like moths to flame. Kings and princes proposed marriage. Philip II of Spain, Eric of Sweden, and others. She entertained their offers but never accepted. And yet her life was far from loveless. The first great name in her story of romance was Robert Dudley, her childhood friend, her confidant, and many believe her first true love. From the moment she became queen, rumors of their relationship swirled. Dudley was married, but his connection to Elizabeth was impossible to ignore. She granted him privileges no other man enjoyed, including access to her private chambers at any hour. The world speculated, the court whispered, but Elizabeth never married him or anyone. Perhaps she feared becoming a porn like her mother, Anne Berlin. Perhaps her heart was broken one too many times. Or perhaps England truly was the only partner she ever trusted. In 1560, a tragic event shook the English court. Robert Dudley\\'s wife, Amy Robsart, was found dead at the bottom of a staircase. Her neck was broken. Officially, it was ruled an accident, but the whispers began immediately. Had she fallen or had she been pushed? The rumors were vicious. Some believed that Dudley or even Queen Elizabeth herself had arranged Amy\\'s death to clear the way for marriage, but no marriage followed. Despite the scandal, Elizabeth and Dudley remained close for years. Still, she never once publicly considered marrying him. Why? Perhaps she knew the damage it would do to her image. Or maybe she feared losing her independence. Even with many suitors to come, some say Robert Dudley was Elizabeth\\'s first and only true love. But hearts can shift and court life never stays still. In 1578, Dudley remarried. The Queen was furious, but she moved on, at least outwardly. By 1579, a new man entered her life. Francois, Duke of Anju, younger brother of the king of France. He was introduced as a serious marriage prospect. There was just one problem or several. Francois was about 20 years old while Elizabeth was now well into her 40s. He was short, had a pockmarked face from smallpox, and rumors swirled about his unusual behavior and personal tastes. Still, Elizabeth appeared genuinely taken with him. She even named her pet frog after him, an oddly tender gesture for a queen. Despite public mockery and fierce opposition from her court, Francois returned to England in 1581 and to Elizabeth\\'s delight. What happened next shocked everyone. She publicly announced her intention to marry him. They exchanged rings in front of the court and her affection was clear for all to see. But by the next day, she changed her mind. The engagement was off and with it the last hope the court had that Elizabeth would ever marry. From then on any romances she entertained never ended in wedding bells, only titles and rumors. And then came the most dramatic love story of her life. Robert Dearoo, the Earl of Essex, Dudley\\'s own stepson, was only 22 when he caught the Queen\\'s eye in 1589. Elizabeth was 56. The age gap was wide, but Essex was young, dashing, clever, and full of charm. Whatever the nature of their relationship, it stirred intense passion. When Essex secretly married Francis Walssingham the next year, Elizabeth was livid. She screamed. She raged. and Essex, desperate to win her back, turned to poetry, writing verses that praised her beauty and tried to mend her wounded pride. Despite everything, Elizabeth brought him back into favor and even into government affairs. From 1591 on, she gave him military responsibilities, but Essex was reckless, brilliant in some moments, disastrous in others. He exploited the queen\\'s favor, swinging between bold ambition and childish arrogance. Once during a heated argument in 1597, Elizabeth slapped him across the face and shouted, \"Go and be hanged.\" Yet even then, she couldn\\'t fully let go. In 1599, she appointed him Lord Lieutenant of Ireland, sending him to suppress a major rebellion. He led 16,000 troops, one of the largest forces ever sent to Ireland, but failed miserably. Poor strategy and negotiation led to an embarrassing truce with the rebel leader, the Earl of Tyrone. It was a political disaster. Then Essex made a fatal mistake. On September 28th, 1599, he burst into the queen\\'s private chambers, unannounced and still in his dirty riding boots. Elizabeth had just woken up. She wasn\\'t wearing her wig, her jewels, or even her signature makeup. No man had ever seen her like this, not as the majestic queen, but as an old, frail woman. It was a deep violation of royal protocol and of trust. She had him arrested and stripped of his titles. Though he was eventually released, he didn\\'t learn his lesson. In February6001, in a final act of desperation, Essex attempted a coup. He planned to seize control of London, storm the tower, and force Elizabeth to name him her successor and protector. It was a spectacular failure. The rebellion collapsed within hours. This time, Elizabeth\\'s patience ran out. On February 24th,601, Essex was found guilty of treason and sentenced to death. When asked if she wished to show mercy, Elizabeth responded with a chilling clarity. All that he has done against myself, I can pardon, but I cannot pardon anyone who attempts to harm England. She signed his death warrant. The next morning, Robert Devo was beheaded outside the palace. It was a brutal end to her most intense and final romance. Looking back, one question lingers. Why did Queen Elizabeth never marry? She had admirers, lovers, and political suitors. She clearly wasn\\'t indifferent to romance, and yet she chose solitude. Why? Some say she feared losing power. Others believe she couldn\\'t trust marriage after watching her mother, Anne Berlin, be executed by her father. Maybe, just maybe, she believed that by marrying no man, she could belong to all of England. When Elizabeth died in 16003, she left no heir. With her, the great Tuda dynasty came to an end. Her successor was King James V 6th of Scotland, who became James Ist of England, uniting the two kingdoms under one crown for the first time. Her 45-year reign is remembered as a golden age, a time of peace, progress, and power. Shakespeare wrote his greatest plays. The English Navy crushed the Spanish Armada. Art, culture, and exploration flourished. She had given England what her father, Henry VIII, had longed for, stability, and glory. In the end, Elizabeth\\'s greatest legacy wasn\\'t a husband or an heir. It was England itself. And in a way, that\\'s exactly what she always wanted. Henry VIII tried to erase Anne Berlin from history. But fate had other plans. Her daughter rose from the shadow of scandal and execution to become one of the greatest monarchs England ever knew. Elizabeth didn\\'t just survive. She reigned. And in doing so, she fulfilled her mother\\'s legacy, building an empire on the very sacrifice that had once doomed her family. But now, let\\'s return to that final moment. The queen was gone. The Virgin Queen, the monarch who ruled alone for 45 years, had passed. And in the silence that followed, her advisers discovered a sealed letter, one written in Elizabeth\\'s own hand. What they read inside chilled them to the bone. Could it have been a confession, a secret she had carried for decades, finally laid bare? Was it a final testament? A warning about England\\'s future or something far darker? Could it have been the horrifying truth of how the white paints and powders she wore for decades had poisoned her slowly from the inside? And this was what truly made their blood run cold, was the letter about the one thing Elizabeth had always refused to speak of, the succession. She had never publicly named an heir. But had she done so in private in this letter, was there something in those pages that could have changed everything? What do you think was written in that final message? Was it a revelation or a farewell? Let us know your theory in the comments below. And if you love strange, mysterious, and powerful stories from history, don\\'t forget to like, subscribe, and turn on notifications. We have so much more to uncover. Thanks for watching and until next time, remember history always has secrets. It\\'s just waiting for us to find [Music]'"
      ]
     },
     "execution_count": 9,
     "metadata": {},
     "output_type": "execute_result"
    }
   ],
   "source": [
    "from youtube_transcript_api import YouTubeTranscriptApi\n",
    "from langchain_core.documents import Document\n",
    "\n",
    "# Replace with your desired YouTube video ID\n",
    "video_id = \"DeRGMoybqb8\"\n",
    "\n",
    "# Fetch the transcript\n",
    "transcript = YouTubeTranscriptApi.get_transcript(video_id)\n",
    "\n",
    "# Combine transcript segments into a single string\n",
    "full_transcript = \" \".join([entry[\"text\"] for entry in transcript])\n",
    "\n",
    "# Create a LangChain Document\n",
    "document = Document(page_content=full_transcript, metadata={\"source\": f\"https://www.youtube.com/watch?v={video_id}\"})\n",
    "\n",
    "# Now you can use 'document' in your RAG pipeline\n",
    "document.page_content"
   ]
  },
  {
   "cell_type": "code",
   "execution_count": null,
   "id": "62eec973",
   "metadata": {},
   "outputs": [],
   "source": []
  },
  {
   "cell_type": "code",
   "execution_count": null,
   "id": "0c0a2911",
   "metadata": {},
   "outputs": [],
   "source": []
  },
  {
   "cell_type": "code",
   "execution_count": 10,
   "id": "c76892a9",
   "metadata": {
    "scrolled": true
   },
   "outputs": [
    {
     "name": "stdout",
     "output_type": "stream",
     "text": [
      "Collecting pytube\n",
      "  Downloading pytube-15.0.0-py3-none-any.whl.metadata (5.0 kB)\n",
      "Collecting openai-whisper\n",
      "  Downloading openai-whisper-20240930.tar.gz (800 kB)\n",
      "     ---------------------------------------- 0.0/800.5 kB ? eta -:--:--\n",
      "     ------------------------------------- 800.5/800.5 kB 17.4 MB/s eta 0:00:00\n",
      "  Installing build dependencies: started\n",
      "  Installing build dependencies: finished with status 'done'\n",
      "  Getting requirements to build wheel: started\n",
      "  Getting requirements to build wheel: finished with status 'done'\n",
      "  Preparing metadata (pyproject.toml): started\n",
      "  Preparing metadata (pyproject.toml): finished with status 'done'\n",
      "Requirement already satisfied: numba in c:\\users\\jitendranayak\\anaconda3\\lib\\site-packages (from openai-whisper) (0.57.1)\n",
      "Requirement already satisfied: numpy in c:\\users\\jitendranayak\\anaconda3\\lib\\site-packages (from openai-whisper) (1.24.3)\n",
      "Requirement already satisfied: torch in c:\\users\\jitendranayak\\anaconda3\\lib\\site-packages (from openai-whisper) (2.1.2)\n",
      "Requirement already satisfied: tqdm in c:\\users\\jitendranayak\\anaconda3\\lib\\site-packages (from openai-whisper) (4.66.2)\n",
      "Requirement already satisfied: more-itertools in c:\\users\\jitendranayak\\anaconda3\\lib\\site-packages (from openai-whisper) (8.12.0)\n",
      "Requirement already satisfied: tiktoken in c:\\users\\jitendranayak\\anaconda3\\lib\\site-packages (from openai-whisper) (0.6.0)\n",
      "Requirement already satisfied: llvmlite<0.41,>=0.40.0dev0 in c:\\users\\jitendranayak\\anaconda3\\lib\\site-packages (from numba->openai-whisper) (0.40.0)\n",
      "Requirement already satisfied: regex>=2022.1.18 in c:\\users\\jitendranayak\\anaconda3\\lib\\site-packages (from tiktoken->openai-whisper) (2022.7.9)\n",
      "Requirement already satisfied: requests>=2.26.0 in c:\\users\\jitendranayak\\anaconda3\\lib\\site-packages (from tiktoken->openai-whisper) (2.32.2)\n",
      "Requirement already satisfied: filelock in c:\\users\\jitendranayak\\anaconda3\\lib\\site-packages (from torch->openai-whisper) (3.13.1)\n",
      "Requirement already satisfied: typing-extensions in c:\\users\\jitendranayak\\anaconda3\\lib\\site-packages (from torch->openai-whisper) (4.12.2)\n",
      "Requirement already satisfied: sympy in c:\\users\\jitendranayak\\anaconda3\\lib\\site-packages (from torch->openai-whisper) (1.11.1)\n",
      "Requirement already satisfied: networkx in c:\\users\\jitendranayak\\anaconda3\\lib\\site-packages (from torch->openai-whisper) (3.1)\n",
      "Requirement already satisfied: jinja2 in c:\\users\\jitendranayak\\anaconda3\\lib\\site-packages (from torch->openai-whisper) (3.1.2)\n",
      "Requirement already satisfied: fsspec in c:\\users\\jitendranayak\\anaconda3\\lib\\site-packages (from torch->openai-whisper) (2023.12.2)\n",
      "Requirement already satisfied: colorama in c:\\users\\jitendranayak\\anaconda3\\lib\\site-packages (from tqdm->openai-whisper) (0.4.6)\n",
      "Requirement already satisfied: charset-normalizer<4,>=2 in c:\\users\\jitendranayak\\anaconda3\\lib\\site-packages (from requests>=2.26.0->tiktoken->openai-whisper) (2.0.4)\n",
      "Requirement already satisfied: idna<4,>=2.5 in c:\\users\\jitendranayak\\anaconda3\\lib\\site-packages (from requests>=2.26.0->tiktoken->openai-whisper) (3.4)\n",
      "Requirement already satisfied: urllib3<3,>=1.21.1 in c:\\users\\jitendranayak\\anaconda3\\lib\\site-packages (from requests>=2.26.0->tiktoken->openai-whisper) (2.2.1)\n",
      "Requirement already satisfied: certifi>=2017.4.17 in c:\\users\\jitendranayak\\anaconda3\\lib\\site-packages (from requests>=2.26.0->tiktoken->openai-whisper) (2024.2.2)\n",
      "Requirement already satisfied: MarkupSafe>=2.0 in c:\\users\\jitendranayak\\anaconda3\\lib\\site-packages (from jinja2->torch->openai-whisper) (2.1.1)\n",
      "Requirement already satisfied: mpmath>=0.19 in c:\\users\\jitendranayak\\anaconda3\\lib\\site-packages (from sympy->torch->openai-whisper) (1.3.0)\n",
      "Downloading pytube-15.0.0-py3-none-any.whl (57 kB)\n",
      "Building wheels for collected packages: openai-whisper\n",
      "  Building wheel for openai-whisper (pyproject.toml): started\n",
      "  Building wheel for openai-whisper (pyproject.toml): finished with status 'done'\n",
      "  Created wheel for openai-whisper: filename=openai_whisper-20240930-py3-none-any.whl size=803437 sha256=602a0ee89524482126f5a81a1e0cee39ed37da10f615d89e576da9208f340c3d\n",
      "  Stored in directory: c:\\users\\jitendranayak\\appdata\\local\\pip\\cache\\wheels\\2f\\f2\\ce\\6eb23db4091d026238ce76703bd66da60b969d70bcc81d5d3a\n",
      "Successfully built openai-whisper\n",
      "Installing collected packages: pytube, openai-whisper\n",
      "Successfully installed openai-whisper-20240930 pytube-15.0.0\n",
      "Note: you may need to restart the kernel to use updated packages.\n"
     ]
    },
    {
     "name": "stderr",
     "output_type": "stream",
     "text": [
      "WARNING: Ignoring invalid distribution ~etuptools (C:\\Users\\JitendraNayak\\anaconda3\\Lib\\site-packages)\n",
      "WARNING: Ignoring invalid distribution ~etuptools (C:\\Users\\JitendraNayak\\anaconda3\\Lib\\site-packages)\n",
      "WARNING: Ignoring invalid distribution ~etuptools (C:\\Users\\JitendraNayak\\anaconda3\\Lib\\site-packages)\n",
      "\n",
      "[notice] A new release of pip is available: 24.3.1 -> 25.1.1\n",
      "[notice] To update, run: python.exe -m pip install --upgrade pip\n"
     ]
    }
   ],
   "source": [
    "pip install pytube openai-whisper"
   ]
  },
  {
   "cell_type": "code",
   "execution_count": 11,
   "id": "456de706",
   "metadata": {},
   "outputs": [
    {
     "ename": "TypeError",
     "evalue": "YoutubeAudioLoader.__init__() missing 1 required positional argument: 'save_dir'",
     "output_type": "error",
     "traceback": [
      "\u001b[1;31m---------------------------------------------------------------------------\u001b[0m",
      "\u001b[1;31mTypeError\u001b[0m                                 Traceback (most recent call last)",
      "Cell \u001b[1;32mIn[11], line 8\u001b[0m\n\u001b[0;32m      5\u001b[0m video_url \u001b[38;5;241m=\u001b[39m \u001b[38;5;124m\"\u001b[39m\u001b[38;5;124mhttps://www.youtube.com/watch?v=DeRGMoybqb8\u001b[39m\u001b[38;5;124m\"\u001b[39m\n\u001b[0;32m      7\u001b[0m \u001b[38;5;66;03m# Initialize the loader\u001b[39;00m\n\u001b[1;32m----> 8\u001b[0m loader \u001b[38;5;241m=\u001b[39m YoutubeAudioLoader(video_url)\n\u001b[0;32m     10\u001b[0m \u001b[38;5;66;03m# Load and transcribe\u001b[39;00m\n\u001b[0;32m     11\u001b[0m documents \u001b[38;5;241m=\u001b[39m loader\u001b[38;5;241m.\u001b[39mload()\n",
      "\u001b[1;31mTypeError\u001b[0m: YoutubeAudioLoader.__init__() missing 1 required positional argument: 'save_dir'"
     ]
    }
   ],
   "source": [
    "from langchain_community.document_loaders import YoutubeAudioLoader\n",
    "from langchain_core.documents import Document\n",
    "\n",
    "# Replace with your desired YouTube video URL\n",
    "video_url = \"https://www.youtube.com/watch?v=DeRGMoybqb8\"\n",
    "\n",
    "# Initialize the loader\n",
    "loader = YoutubeAudioLoader(video_url)\n",
    "\n",
    "# Load and transcribe\n",
    "documents = loader.load()\n",
    "\n",
    "# 'documents' now contains the transcribed text\n",
    "documents"
   ]
  },
  {
   "cell_type": "code",
   "execution_count": null,
   "id": "597adfc0",
   "metadata": {},
   "outputs": [],
   "source": []
  }
 ],
 "metadata": {
  "kernelspec": {
   "display_name": "Python 3 (ipykernel)",
   "language": "python",
   "name": "python3"
  },
  "language_info": {
   "codemirror_mode": {
    "name": "ipython",
    "version": 3
   },
   "file_extension": ".py",
   "mimetype": "text/x-python",
   "name": "python",
   "nbconvert_exporter": "python",
   "pygments_lexer": "ipython3",
   "version": "3.11.5"
  }
 },
 "nbformat": 4,
 "nbformat_minor": 5
}
